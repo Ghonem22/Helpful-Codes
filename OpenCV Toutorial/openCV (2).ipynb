{
 "cells": [
  {
   "cell_type": "markdown",
   "id": "6d766e71",
   "metadata": {},
   "source": [
    "# What will we cover:\n",
    "\n",
    "* Annotating Images \n",
    "* Image Filtering Using Convolution in OpenCV\n",
    "* Image Thresholding\n",
    "* Blob Detection Using OpenCV"
   ]
  },
  {
   "cell_type": "markdown",
   "id": "7de9800b",
   "metadata": {},
   "source": [
    "## Annotating Images "
   ]
  },
  {
   "cell_type": "code",
   "execution_count": 1,
   "id": "276b8a27",
   "metadata": {},
   "outputs": [
    {
     "name": "stdout",
     "output_type": "stream",
     "text": [
      "C:\\Users\\aghon\\Desktop\\Upwork\\Eng_mohamed\\Learning\\opencv\n"
     ]
    }
   ],
   "source": [
    "cd Desktop\\Upwork\\Eng_mohamed\\Learning\\opencv"
   ]
  },
  {
   "cell_type": "code",
   "execution_count": 2,
   "id": "e87b7608",
   "metadata": {},
   "outputs": [],
   "source": [
    "img_path = \"1635660084763.png\""
   ]
  },
  {
   "cell_type": "code",
   "execution_count": 3,
   "id": "2e4dcfb0",
   "metadata": {},
   "outputs": [],
   "source": [
    "# Import dependencies\n",
    "import cv2\n",
    "# Read Images\n",
    "img = cv2.imread(img_path)\n",
    "# Display Image\n",
    "# cv2.imshow('Original Image',img)\n",
    "# cv2.waitKey(0)\n",
    "# Print error message if image is null\n",
    "if img is None:\n",
    "    print('Could not read image')\n"
   ]
  },
  {
   "cell_type": "markdown",
   "id": "225b1e89",
   "metadata": {},
   "source": [
    "### Draw line"
   ]
  },
  {
   "cell_type": "code",
   "execution_count": 4,
   "id": "6da47dd0",
   "metadata": {},
   "outputs": [
    {
     "data": {
      "text/plain": [
       "113"
      ]
     },
     "execution_count": 4,
     "metadata": {},
     "output_type": "execute_result"
    }
   ],
   "source": [
    "# Draw line on image\n",
    "imageLine = img.copy()\n",
    "#Draw the image from point A to B\n",
    "pointA = (200,80)\n",
    "pointB = (450,80)\n",
    "cv2.line(imageLine, pointA, pointB, (255, 255, 0), thickness=3, lineType=cv2.LINE_AA)\n",
    "cv2.imshow('Image Line', imageLine)\n",
    "cv2.waitKey(0)\n"
   ]
  },
  {
   "cell_type": "markdown",
   "id": "beefac07",
   "metadata": {},
   "source": [
    "### Draw circle"
   ]
  },
  {
   "cell_type": "code",
   "execution_count": 5,
   "id": "5a1a4000",
   "metadata": {},
   "outputs": [
    {
     "data": {
      "text/plain": [
       "48"
      ]
     },
     "execution_count": 5,
     "metadata": {},
     "output_type": "execute_result"
    }
   ],
   "source": [
    "# Make a copy of image\n",
    "imageCircle = img.copy()\n",
    "# define the center of circle\n",
    "circle_center = (415,190)\n",
    "# define the radius of the circle\n",
    "radius =100\n",
    "#  Draw a circle using the circle() Function\n",
    "cv2.circle(imageCircle, circle_center, radius, (0, 0, 255), thickness=3, lineType=cv2.LINE_AA)\n",
    "# Display the result\n",
    "cv2.imshow(\"Image Circle\",imageCircle)\n",
    "cv2.waitKey(0)\n"
   ]
  },
  {
   "cell_type": "markdown",
   "id": "c8d5de77",
   "metadata": {},
   "source": [
    "### Draw a Filled Circle\n"
   ]
  },
  {
   "cell_type": "code",
   "execution_count": 4,
   "id": "bbaa3ba9",
   "metadata": {
    "scrolled": true
   },
   "outputs": [
    {
     "data": {
      "text/plain": [
       "113"
      ]
     },
     "execution_count": 4,
     "metadata": {},
     "output_type": "execute_result"
    }
   ],
   "source": [
    "# make a copy of the original image\n",
    "imageFilledCircle = img.copy()\n",
    "# define center of the circle\n",
    "circle_center = (415,190)\n",
    "# define the radius of the circle\n",
    "radius =100\n",
    "# draw the filled circle on input image\n",
    "cv2.circle(imageFilledCircle, circle_center, radius, (255, 0, 0), thickness=-1, lineType=cv2.LINE_AA)\n",
    "# dsplay the output image\n",
    "cv2.imshow('Image with Filled Circle',imageFilledCircle)\n",
    "cv2.waitKey(0)\n"
   ]
  },
  {
   "cell_type": "markdown",
   "id": "dd3f8f45",
   "metadata": {},
   "source": [
    "### Draw a Rectangle\n"
   ]
  },
  {
   "cell_type": "code",
   "execution_count": 4,
   "id": "af96f201",
   "metadata": {},
   "outputs": [
    {
     "data": {
      "text/plain": [
       "-1"
      ]
     },
     "execution_count": 4,
     "metadata": {},
     "output_type": "execute_result"
    }
   ],
   "source": [
    "# make a copy of the original image\n",
    "imageRectangle = img.copy()\n",
    "# define the starting and end points of the rectangle\n",
    "start_point =(300,115)\n",
    "end_point =(475,225)\n",
    "# draw the rectangle\n",
    "cv2.rectangle(imageRectangle, start_point, end_point, (0, 0, 255), thickness= 3, lineType=cv2.LINE_8)\n",
    "# display the output\n",
    "cv2.imshow('imageRectangle', imageRectangle)\n",
    "cv2.waitKey(0)\n",
    "cv2.destroyAllWindows()\n"
   ]
  },
  {
   "cell_type": "markdown",
   "id": "ec09b60b",
   "metadata": {},
   "source": [
    "### Draw an Ellipse\n",
    "\n",
    "\n",
    "**ellipse(image, centerCoordinates, axesLength, angle, startAngle, endAngle, color, thickness)**"
   ]
  },
  {
   "cell_type": "code",
   "execution_count": 6,
   "id": "7f34cd1b",
   "metadata": {},
   "outputs": [],
   "source": [
    "# make a copy of the original image\n",
    "imageEllipse = img.copy()\n",
    "# define the center point of ellipse\n",
    "ellipse_center = (415,190)\n",
    "# define the major and minor axes of the ellipse\n",
    "axis1 = (100,50)\n",
    "axis2 = (125,50)\n",
    "# draw the ellipse\n",
    "#Horizontal\n",
    "cv2.ellipse(imageEllipse, ellipse_center, axis1, 0, 0, 360, (255, 0, 0), thickness=3)\n",
    "#Vertical\n",
    "cv2.ellipse(imageEllipse, ellipse_center, axis2, 90, 0, 360, (0, 0, 255), thickness=3)\n",
    "# display the output\n",
    "cv2.imshow('ellipse Image',imageEllipse)\n",
    "cv2.waitKey(0)\n",
    "cv2.destroyAllWindows()\n"
   ]
  },
  {
   "cell_type": "markdown",
   "id": "d0b98a1c",
   "metadata": {},
   "source": [
    "### Adding Text\n",
    "\n",
    "\n",
    "#### text Type:\n",
    "\n",
    "*  FONT_HERSHEY_SIMPLEX        = 0,\n",
    "*  FONT_HERSHEY_PLAIN          = 1,\n",
    "*  FONT_HERSHEY_DUPLEX         = 2,\n",
    "*  FONT_HERSHEY_COMPLEX        = 3,\n",
    "*  FONT_HERSHEY_TRIPLEX        = 4,\n",
    "*  FONT_HERSHEY_COMPLEX_SMALL  = 5,\n",
    "*  FONT_HERSHEY_SCRIPT_SIMPLEX = 6,\n",
    "*  FONT_HERSHEY_SCRIPT_COMPLEX = 7,\n",
    "*  FONT_ITALIC                 = 16\n"
   ]
  },
  {
   "cell_type": "code",
   "execution_count": 9,
   "id": "c7fe1a4e",
   "metadata": {},
   "outputs": [],
   "source": [
    "# make a copy of the original image\n",
    "imageText = img.copy()\n",
    "#let's write the text you want to put on the image\n",
    "text = 'I am a Happy!'\n",
    "#org: Where you want to put the text\n",
    "org = (50,350)\n",
    "# write the text on the input image\n",
    "cv2.putText(imageText, text, org, fontFace = cv2.FONT_HERSHEY_COMPLEX, fontScale = 1.5, color = (250,225,100))\n",
    "# display the output image with text over it\n",
    "cv2.imshow(\"Image Text\",imageText)\n",
    "cv2.waitKey(0)\n",
    "cv2.destroyAllWindows()\n"
   ]
  },
  {
   "cell_type": "markdown",
   "id": "efae7f71",
   "metadata": {},
   "source": [
    "## Image Filtering Using Convolution in OpenCV\n"
   ]
  },
  {
   "cell_type": "code",
   "execution_count": 10,
   "id": "2a47bfff",
   "metadata": {},
   "outputs": [],
   "source": [
    "import cv2\n",
    "import numpy as np\n",
    " \n",
    "image = cv2.imread(img_path)\n",
    " \n",
    "# Print error message if image is null\n",
    "if image is None:\n",
    "    print('Could not read image')\n",
    " \n",
    "# Apply identity kernel\n",
    "kernel1 = np.array([[0, 0, 0],\n",
    "                    [0, 1, 0],\n",
    "                    [0, 0, 0]])\n",
    " \n",
    "identity = cv2.filter2D(src=image, ddepth=-1, kernel=kernel1)\n",
    " \n",
    "cv2.imshow('Original', image)\n",
    "cv2.imshow('Identity', identity)\n",
    "     \n",
    "cv2.waitKey()\n",
    "cv2.imwrite('identity.jpg', identity)\n",
    "cv2.destroyAllWindows()\n",
    " "
   ]
  },
  {
   "cell_type": "markdown",
   "id": "a5be2ae5",
   "metadata": {},
   "source": [
    "### blurring kernel"
   ]
  },
  {
   "cell_type": "code",
   "execution_count": 11,
   "id": "f4c0d856",
   "metadata": {},
   "outputs": [],
   "source": [
    "\n",
    "# Apply blurring kernel\n",
    "kernel2 = np.ones((5, 5), np.float32) / 25\n",
    "img = cv2.filter2D(src=image, ddepth=-1, kernel=kernel2)\n",
    " \n",
    "cv2.imshow('Original', image)\n",
    "cv2.imshow('Kernel Blur', img)\n",
    "     \n",
    "cv2.waitKey()\n",
    "cv2.imwrite('blur_kernel.jpg', img)\n",
    "cv2.destroyAllWindows()\n"
   ]
  },
  {
   "cell_type": "markdown",
   "id": "7fb01376",
   "metadata": {},
   "source": [
    "### Blurring an Image Using OpenCV’s Built-In Function\n"
   ]
  },
  {
   "cell_type": "code",
   "execution_count": 12,
   "id": "330c93a0",
   "metadata": {},
   "outputs": [],
   "source": [
    "img_blur = cv2.blur(src=image, ksize=(5,5)) # Using the blur function to blur an image where ksize is the kernel size\n",
    " \n",
    "# Display using cv2.imshow()\n",
    "cv2.imshow('Original', image)\n",
    "cv2.imshow('Blurred', img_blur)\n",
    " \n",
    "cv2.waitKey()\n",
    "cv2.imwrite('blur.jpg', img_blur)\n",
    "cv2.destroyAllWindows()\n"
   ]
  },
  {
   "cell_type": "markdown",
   "id": "340e3dc7",
   "metadata": {},
   "source": [
    "### Applying Gaussian Blurring to an Image in OpenCV\n"
   ]
  },
  {
   "cell_type": "code",
   "execution_count": 14,
   "id": "695fadc4",
   "metadata": {},
   "outputs": [],
   "source": [
    "\"\"\"\n",
    "Apply Gaussian blur\n",
    "\"\"\"\n",
    "# sigmaX is Gaussian Kernel standard deviation\n",
    "# ksize is kernel size\n",
    "gaussian_blur = cv2.GaussianBlur(src=image, ksize=(5,5), sigmaX=0, sigmaY=0)\n",
    " \n",
    "cv2.imshow('Original', image)\n",
    "cv2.imshow('Gaussian Blurred', gaussian_blur)\n",
    "     \n",
    "cv2.waitKey()\n",
    "cv2.imwrite('gaussian_blur.jpg', gaussian_blur)\n",
    "cv2.destroyAllWindows()\n"
   ]
  },
  {
   "cell_type": "markdown",
   "id": "92f37108",
   "metadata": {},
   "source": [
    "### Median Blurring"
   ]
  },
  {
   "cell_type": "code",
   "execution_count": 15,
   "id": "a2caeea5",
   "metadata": {},
   "outputs": [],
   "source": [
    "median = cv2.medianBlur(src=image, ksize=5)\n",
    " \n",
    "cv2.imshow('Original', image)\n",
    "cv2.imshow('Median Blurred', median)\n",
    "     \n",
    "cv2.waitKey()\n",
    "cv2.imwrite('median_blur.jpg', median)\n",
    "cv2.destroyAllWindows()\n"
   ]
  },
  {
   "cell_type": "markdown",
   "id": "9a74538e",
   "metadata": {},
   "source": [
    "### Sharpening an Image"
   ]
  },
  {
   "cell_type": "code",
   "execution_count": 16,
   "id": "5f96c731",
   "metadata": {},
   "outputs": [],
   "source": [
    "kernel3 = np.array([[0, -1,  0],\n",
    "                   [-1,  5, -1],\n",
    "                    [0, -1,  0]])\n",
    "sharp_img = cv2.filter2D(src=image, ddepth=-1, kernel=kernel3)\n",
    " \n",
    "cv2.imshow('Original', image)\n",
    "cv2.imshow('Sharpened', sharp_img)\n",
    "     \n",
    "cv2.waitKey()\n",
    "cv2.imwrite('sharp_image.jpg', sharp_img)\n",
    "cv2.destroyAllWindows()\n"
   ]
  },
  {
   "cell_type": "markdown",
   "id": "ed50ef74",
   "metadata": {},
   "source": [
    "### Bilateral Filtering\n",
    "\n",
    "mix between sharpning and bluring"
   ]
  },
  {
   "cell_type": "code",
   "execution_count": 17,
   "id": "ec38aaae",
   "metadata": {},
   "outputs": [],
   "source": [
    "bilateral_filter = cv2.bilateralFilter(src=image, d=9, sigmaColor=75, sigmaSpace=75)\n",
    " \n",
    "cv2.imshow('Original', image)\n",
    "cv2.imshow('Bilateral Filtering', bilateral_filter)\n",
    " \n",
    "cv2.waitKey(0)\n",
    "cv2.imwrite('bilateral_filtering.jpg', bilateral_filter)\n",
    "cv2.destroyAllWindows()\n"
   ]
  },
  {
   "cell_type": "markdown",
   "id": "c6be25c5",
   "metadata": {},
   "source": [
    "## Image Thresholding"
   ]
  },
  {
   "cell_type": "code",
   "execution_count": 22,
   "id": "2cc0739c",
   "metadata": {},
   "outputs": [
    {
     "data": {
      "text/plain": [
       "50.0"
      ]
     },
     "execution_count": 22,
     "metadata": {},
     "output_type": "execute_result"
    }
   ],
   "source": [
    "th, dst = cv2.threshold(src, 50, 255, cv2.THRESH_BINARY);\n",
    "th"
   ]
  },
  {
   "cell_type": "code",
   "execution_count": 25,
   "id": "2b96ec32",
   "metadata": {},
   "outputs": [],
   "source": [
    "# import opencv\n",
    "import cv2\n",
    " \n",
    "# Read image\n",
    "src = cv2.imread(img_path, cv2.IMREAD_GRAYSCALE);\n",
    " \n",
    "# Basic threhold example\n",
    "# th, dst = cv2.threshold(src, thresh, maxValue, cv2.THRESH_BINARY);\n",
    "\n",
    "th, dst = cv2.threshold(src, 120, 255, cv2.THRESH_BINARY);\n",
    "cv2.imwrite(\"opencv-threshold-example.jpg\", dst);\n",
    "\n",
    " "
   ]
  },
  {
   "cell_type": "code",
   "execution_count": 26,
   "id": "6950533b",
   "metadata": {},
   "outputs": [],
   "source": [
    "# Thresholding with maxValue set to 128\n",
    "\n",
    "th, dst = cv2.threshold(src, 0, 128, cv2.THRESH_BINARY);\n",
    "\n",
    "cv2.imwrite(\"opencv-thresh-binary-maxval.jpg\", dst);"
   ]
  },
  {
   "cell_type": "code",
   "execution_count": null,
   "id": "93390edb",
   "metadata": {},
   "outputs": [],
   "source": [
    "# Thresholding with threshold value set 127\n",
    "th, dst = cv2.threshold(src,127,255, cv2.THRESH_BINARY);\n",
    "cv2.imwrite(\"opencv-thresh-binary.jpg\", dst);"
   ]
  },
  {
   "cell_type": "code",
   "execution_count": null,
   "id": "bf9c874e",
   "metadata": {},
   "outputs": [],
   "source": [
    "# Thresholding using THRESH_BINARY_INV\n",
    "th, dst = cv2.threshold(src,127,255, cv2.THRESH_BINARY_INV);\n",
    "cv2.imwrite(\"opencv-thresh-binary-inv.jpg\", dst);\n"
   ]
  },
  {
   "cell_type": "markdown",
   "id": "448d2998",
   "metadata": {},
   "source": [
    "### Truncate Threshold\n",
    "    if src(x,y) > thresh\n",
    "      dst(x,y) = thresh\n",
    "    else\n",
    "      dst(x,y) = src(x,y)\n"
   ]
  },
  {
   "cell_type": "code",
   "execution_count": 27,
   "id": "2df0f646",
   "metadata": {},
   "outputs": [],
   "source": [
    "# Thresholding using THRESH_TRUNC\n",
    "th, dst = cv2.threshold(src,127,255, cv2.THRESH_TRUNC);\n",
    "cv2.imwrite(\"opencv-thresh-trunc.jpg\", dst);\n"
   ]
  },
  {
   "cell_type": "markdown",
   "id": "095611db",
   "metadata": {},
   "source": [
    "## Blob Detection Using OpenCV\n",
    "\n",
    "**What is a Blob?**\n",
    "\n",
    "**A Blob is a group of connected pixels in an image that share some common property**"
   ]
  },
  {
   "cell_type": "code",
   "execution_count": 1,
   "id": "5d19a884",
   "metadata": {},
   "outputs": [
    {
     "name": "stdout",
     "output_type": "stream",
     "text": [
      "C:\\Users\\aghon\\Desktop\\Upwork\\Eng_mohamed\\Learning\\opencv\n"
     ]
    }
   ],
   "source": [
    "cd Desktop\\Upwork\\Eng_mohamed\\Learning\\opencv"
   ]
  },
  {
   "cell_type": "code",
   "execution_count": 8,
   "id": "fdaab72b",
   "metadata": {},
   "outputs": [],
   "source": [
    "# Standard imports\n",
    "import cv2\n",
    "import numpy as np;\n",
    " \n",
    "# Read image\n",
    "im = cv2.imread(\"BlobTest.jpg\", cv2.IMREAD_GRAYSCALE)\n",
    " \n"
   ]
  },
  {
   "cell_type": "code",
   "execution_count": 9,
   "id": "0e8bcffb",
   "metadata": {},
   "outputs": [],
   "source": [
    "params = cv2.SimpleBlobDetector_Params()\n"
   ]
  },
  {
   "cell_type": "code",
   "execution_count": 10,
   "id": "f27abf3f",
   "metadata": {},
   "outputs": [],
   "source": [
    "# Change thresholds\n",
    "params.minThreshold = 10;\n",
    "params.maxThreshold = 200;\n",
    " \n",
    "# Filter by Area.\n",
    "params.filterByArea = True\n",
    "params.minArea = 1500\n",
    " \n",
    "# Filter by Circularity\n",
    "params.filterByCircularity = True\n",
    "params.minCircularity = 0.1\n",
    " \n",
    "# Filter by Convexity\n",
    "params.filterByConvexity = True\n",
    "params.minConvexity = 0.87\n",
    " \n",
    "# Filter by Inertia\n",
    "params.filterByInertia = True\n",
    "params.minInertiaRatio = 0.01\n"
   ]
  },
  {
   "cell_type": "code",
   "execution_count": 11,
   "id": "5d9bbb3c",
   "metadata": {},
   "outputs": [],
   "source": [
    "# Do detecting\n",
    "detector = cv2.SimpleBlobDetector_create(params)\n",
    "\n",
    "# Get keypoints\n",
    "keypoints = detector.detect(im)\n"
   ]
  },
  {
   "cell_type": "code",
   "execution_count": 12,
   "id": "92f49248",
   "metadata": {},
   "outputs": [
    {
     "data": {
      "text/plain": [
       "9"
      ]
     },
     "execution_count": 12,
     "metadata": {},
     "output_type": "execute_result"
    }
   ],
   "source": [
    " \n",
    "# Draw detected blobs as red circles.\n",
    "# cv2.DRAW_MATCHES_FLAGS_DRAW_RICH_KEYPOINTS ensures the size of the circle corresponds to the size of blob\n",
    "im_with_keypoints = cv2.drawKeypoints(im, keypoints, np.array([]), (0,0,255), cv2.DRAW_MATCHES_FLAGS_DRAW_RICH_KEYPOINTS)\n",
    " \n",
    "# Show keypoints\n",
    "cv2.imshow(\"Keypoints\", im_with_keypoints)\n",
    "cv2.waitKey(0)\n",
    "cv2.destroyAllWindows()\n"
   ]
  },
  {
   "cell_type": "code",
   "execution_count": null,
   "id": "57376397",
   "metadata": {},
   "outputs": [],
   "source": []
  }
 ],
 "metadata": {
  "kernelspec": {
   "display_name": "Python 3 (ipykernel)",
   "language": "python",
   "name": "python3"
  },
  "language_info": {
   "codemirror_mode": {
    "name": "ipython",
    "version": 3
   },
   "file_extension": ".py",
   "mimetype": "text/x-python",
   "name": "python",
   "nbconvert_exporter": "python",
   "pygments_lexer": "ipython3",
   "version": "3.8.12"
  }
 },
 "nbformat": 4,
 "nbformat_minor": 5
}
