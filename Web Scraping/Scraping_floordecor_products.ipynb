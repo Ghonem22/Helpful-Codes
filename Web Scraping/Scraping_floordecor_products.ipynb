{
  "cells": [
    {
      "cell_type": "markdown",
      "metadata": {
        "id": "view-in-github",
        "colab_type": "text"
      },
      "source": [
        "<a href=\"https://colab.research.google.com/github/Ghonem22/Learning/blob/main/Web%20Scraping/Scraping_floordecor_products.ipynb\" target=\"_parent\"><img src=\"https://colab.research.google.com/assets/colab-badge.svg\" alt=\"Open In Colab\"/></a>"
      ]
    },
    {
      "cell_type": "code",
      "execution_count": 6,
      "metadata": {
        "id": "I-GkmsOJYg7U"
      },
      "outputs": [],
      "source": [
        "from bs4 import BeautifulSoup\n",
        "from urllib.request import Request, urlopen\n",
        "import time\n",
        "from numpy.random import uniform\n",
        "\n",
        "\n",
        "\n",
        "class url_domain_validation:\n",
        "        \n",
        "    # validate if the url start with the domain, if notL add the domain\n",
        "    def validate_url_domain(self, url, domain):\n",
        "        if not url.startswith(\"http\"):\n",
        "            url = domain + url\n",
        "        return url\n",
        "\n",
        "\n",
        "\n",
        "class get_sub_departments_urls(url_domain_validation):\n",
        "    '''\n",
        "    getting all the sub departments urls and all products urls    \n",
        "    '''\n",
        "    \n",
        "    def __init__(self, hdr = {'User-Agent': 'Mozilla/5.0'}, domain = \"https://www.flooranddecor.com\", page_departments= ['/tile', '/stone', '/wood', '/laminate', '/vinyl',\n",
        "                                          '/decoratives', '/installation-materials']):\n",
        "        \n",
        "        self.page_departments = page_departments\n",
        "        self.hdr = hdr\n",
        "        self.domain = domain\n",
        "\n",
        "    # Crawl all the urls of the sub-departments under the departments we defined.  \n",
        "    def get_all_sub_departments_urls(self):\n",
        "        '''\n",
        "        Take departments' names as a list, and scrape all the sub-departments' urls \n",
        "        '''\n",
        "        sub_departments_urls_list = []\n",
        "\n",
        "        for deparement in self.page_departments:\n",
        "            deparement_url = self.validate_url_domain(deparement, self.domain)\n",
        "            print(deparement_url)\n",
        "            req = Request(deparement_url, headers= self.hdr)\n",
        "            text = urlopen(req).read()\n",
        "            soup = BeautifulSoup(text,\"lxml\")\n",
        "            urls = soup.find_all(\"a\", attrs={\"class\":'clp-link'})\n",
        "\n",
        "            for url in urls:\n",
        "                validated_url = self.validate_url_domain(url['href'], self.domain)\n",
        "                sub_departments_urls_list.append(validated_url)\n",
        "\n",
        "            print(\"******** num of scrapped sub-departments till now is {}\".format(len(sub_departments_urls_list)))\n",
        "            time.sleep(uniform(10, 20))\n",
        "\n",
        "        return sub_departments_urls_list\n",
        "\n",
        "\n",
        "    def get_sub_department_products_urls(self, url):\n",
        "        '''\n",
        "        take sub_department url as an input, and return all the products'urls it contains\n",
        "        '''\n",
        "        products_urls = []\n",
        "        req = Request(url, headers= self.hdr)\n",
        "        text = urlopen(req).read()\n",
        "        soup = BeautifulSoup(text,\"lxml\")\n",
        "        urls = soup.find_all(\"a\", attrs={\"class\":'b-product_tile-figure_link'})\n",
        "        \n",
        "        for url in urls:\n",
        "            validated_url = self.validate_url_domain(url['href'], self.domain)\n",
        "\n",
        "            try:\n",
        "                products_urls.append(validated_url)\n",
        "            except:\n",
        "                print(\"err occured while scraping:  {}\".format(url))\n",
        "\n",
        "        # print(\"******** num of scrapped products'urls till now is {}\".format(len(products_urls)))\n",
        "        time.sleep(uniform(10, 20))\n",
        "\n",
        "        return products_urls    \n",
        "\n",
        "\n",
        "\n",
        "class get_product_info:\n",
        "    '''\n",
        "    using product url, getting its information \n",
        "    '''\n",
        "    def __init__(self, product_url, hdr = {'User-Agent': 'Mozilla/5.0'}):\n",
        "        self.product_url = product_url\n",
        "        self.hdr = hdr\n",
        "        self._soup = None\n",
        "\n",
        "    @property\n",
        "    def soup(self):\n",
        "        if not self._soup:\n",
        "            print(\"Getting page content...\")\n",
        "            req = Request(self.product_url, headers= self.hdr)\n",
        "            text = urlopen(req).read()\n",
        "            self._soup = BeautifulSoup(text,\"lxml\")\n",
        "\n",
        "        return self._soup\n",
        "\n",
        "    def get_images(self):\n",
        "        images = self.soup.find_all(\"figure\", attrs={\"class\":'b-pdp_thumbnail-figure'})\n",
        "        images_urls = []\n",
        "        for image in images:\n",
        "            try:\n",
        "                image_url = image.find(\"img\", attrs = {\"class\":\"b-pdp_thumbnail-figure_img\"})['data-src']\n",
        "                images_urls.append(image_url)\n",
        "            except:\n",
        "                pass\n",
        "        return images_urls\n",
        "\n",
        "\n",
        "    def get_price(self):\n",
        "        try:\n",
        "            price = self.soup.find_all(\"span\", attrs={\"class\":'b-pdp_price-cost'})[0].text\n",
        "        except:\n",
        "            price = ''\n",
        "\n",
        "        return price\n",
        "\n",
        "\n",
        "    def get_specifications(self):\n",
        "\n",
        "        product_properties = self.soup.find_all(\"section\", attrs={\"class\":'b-pdp_specifications-container'})\n",
        "        specifications = {\"DIMENSIONS\":{},\"DETAILS\":{},\"INSTALLATION & WARRANTY\":{}  }\n",
        "        groups = [\"DIMENSIONS\", \"DETAILS\", \"INSTALLATION & WARRANTY\", \"\"]\n",
        "        for i, product_property in enumerate(product_properties):\n",
        "            peoperties = product_property.find_all(\"span\", attrs={\"class\":'b-pdp_specifications-name'})\n",
        "            peoperties_val = product_property.find_all(\"span\", attrs={\"class\":'b-pdp_specifications-number'})\n",
        "\n",
        "            for pro, pro_val in zip(peoperties,peoperties_val):\n",
        "                try:\n",
        "                    if specifications[groups[i]].get(pro.string.strip()):\n",
        "                        specifications[groups[i]][pro.string.strip()] = [specifications[groups[i]][pro.string.strip()]]\n",
        "                        specifications[groups[i]][pro.string.strip()].append(pro_val.string.strip())\n",
        "\n",
        "                    else:\n",
        "                        specifications[groups[i]][pro.string.strip()] = pro_val.string.strip()\n",
        "                except:\n",
        "                    key = pro.text.split('\\n')[1].strip()\n",
        "                    if specifications[groups[i]].get(key):\n",
        "                        specifications[groups[i]][key] = [specifications[groups[i]][key]]\n",
        "                        specifications[groups[i]][key].append(pro_val.string.strip())\n",
        "\n",
        "                    else:\n",
        "                        specifications[groups[i]][key] = pro_val.string.strip()\n",
        "\n",
        "        return specifications\n",
        "\n",
        "    def  get_categories(self):\n",
        "\n",
        "        try:\n",
        "            categories = self.soup.find_all(\"a\", attrs={\"class\":'b-breadcrumbs-item_link'})\n",
        "\n",
        "            main_category = str(categories[1].string).replace('\\n\\t','').strip()\n",
        "            category = str(categories[2].string).replace('\\n\\t','').strip()\n",
        "            sub_category = str(categories[3].string).replace('\\n\\t','').strip()\n",
        "        except:\n",
        "            main_category = ''\n",
        "            category = ''\n",
        "            sub_category = ''\n",
        "\n",
        "        return main_category, category, sub_category\n",
        "\n",
        "\n",
        "    def get_title(self):\n",
        "        try:\n",
        "            properties = self.soup.find(\"h1\", attrs={\"class\":'b-pdp_title-name'})\n",
        "            title = properties.text\n",
        "        except:\n",
        "            title = ''\n",
        "        return title\n",
        "\n",
        "    def get_SKU_and_size(self):\n",
        "        try:\n",
        "            properties = self.soup.find_all(\"span\", attrs={\"class\":'b-pdp_details-element_value'})\n",
        "            SKU = properties[0].text\n",
        "            size = properties[1].text\n",
        "        except:\n",
        "            SKU = '' \n",
        "            size = ''\n",
        "\n",
        "        return SKU, size\n",
        "\n",
        "    def get_brand(self):\n",
        "        properties = self.soup.find(\"img\", attrs={\"class\":'b-pdp_title-brand_img'})\n",
        "        try:\n",
        "            brand = properties.get('alt')\n",
        "        except:\n",
        "            brand = ''\n",
        "        return brand\n",
        "\n",
        "    def get_discription(self):\n",
        "        properties = self.soup.find(\"div\", attrs={\"class\":'b-pdp_specifications-txt'})\n",
        "        try:\n",
        "            discription = properties.text\n",
        "        except:\n",
        "            discription = ''\n",
        "        return discription\n",
        "\n",
        "\n",
        "class floor_and_decoor_Scraper:\n",
        "    '''\n",
        "    The website is devided into 7 department, each one is devided into multiple sub-departments.\n",
        "    So, out methodology is based on: \n",
        "    \n",
        "    1. scraping all the sub_departments urls using composition with \"get_sub_departments_urls\" class.\n",
        "    2. itrate over all the sub_departments urls and scrape all the products' urls using a method through the same relationship.\n",
        "    3. using  the composition relation with \"get_product_info\" class, we will itrate over all the products' urls\n",
        "        and exrtact their information.\n",
        "    '''\n",
        "\n",
        "    def __init__(self, hdr = {'User-Agent': 'Mozilla/5.0'}, domain = \"https://www.flooranddecor.com\", departments= ['/tile', '/stone', '/wood', '/laminate', '/vinyl',\n",
        "                                          '/decoratives', '/installation-materials']):\n",
        "        self.hdr = hdr\n",
        "        self.domain = domain\n",
        "        self.sub_departments_urls_scrapper = get_sub_departments_urls(page_departments= departments)\n",
        "        self.products_urls = []         # to save all products urls       \n",
        "\n",
        "    def get_all_products_urls(self):\n",
        "        '''\n",
        "        This method work as a manager for \"get_sub_departments_urls\" class, it used the benifits we got using composition to get all departments urls,\n",
        "        and then itrate over them to get all the products' urls.\n",
        "        '''\n",
        "        skipped_urls = []\n",
        "        department_urls = self.sub_departments_urls_scrapper.get_all_sub_departments_urls()\n",
        "\n",
        "        # itrate over all main catefories urls\n",
        "        for category_index, sub_department_url in enumerate(department_urls):\n",
        "            try:\n",
        "                sub_catefory_url = '{}?start=0&sz=5000'.format(sub_department_url)\n",
        "                self.products_urls.extend(self.sub_departments_urls_scrapper.get_sub_department_products_urls(sub_catefory_url))\n",
        "                print(\"************** Crawling department num {} is finished with total crawled urls:  {}  **************\".format(category_index,len(list(set(self.products_urls)))))\n",
        "                time.sleep(uniform(10, 20))\n",
        "\n",
        "            except:\n",
        "                print(\"there is an error occured when we tried to crawl: {}\".format(sub_catefory_url))\n",
        "                skipped_urls.append(sub_catefory_url)\n",
        "                time.sleep(uniform(200, 300))\n",
        "\n",
        "        return list(set(goods_urls))\n",
        "\n",
        "\n",
        "    def Scraping_all_products(self, products_urls= None):\n",
        "\n",
        "        all_products = {}\n",
        "        skipped_urls = []\n",
        "        if not products_urls:\n",
        "            products_urls = self.products_urls\n",
        "\n",
        "        for product_index, product_url in enumerate(products_urls):\n",
        "\n",
        "            try:\n",
        "                product = get_product_info(product_url = product_url)       # Composition\n",
        "\n",
        "                product_title = product.get_title()\n",
        "                product_id = product_url.split('-')[-1].split('.')[0]\n",
        "                try:\n",
        "                    main_key = product_title\n",
        "                    all_products[main_key] = {}\n",
        "                except:\n",
        "                    main_key = product_title \n",
        "                    all_products[main_key] = {}\n",
        "                    \n",
        "                all_products[main_key][\"url\"] = product_url    \n",
        "                all_products[main_key][\"product id\"] = product_id\n",
        "                all_products[main_key][\"images urls\"] = product.get_images()\n",
        "                all_products[main_key][\"price\"] = product.get_price()\n",
        "                all_products[main_key][\"specifications\"] = product.get_specifications()\n",
        "\n",
        "                main_category, category, sub_category = product.get_categories()\n",
        "                all_products[main_key][\"main category\"] = main_category\n",
        "                all_products[main_key][\"category\"] = category\n",
        "                all_products[main_key][\"sub category\"] = sub_category\n",
        "\n",
        "                SKU, size = product.get_SKU_and_size()\n",
        "                all_products[main_key][\"SKU\"] = SKU\n",
        "                all_products[main_key][\"size\"] = size\n",
        "\n",
        "                all_products[main_key][\"brand\"] = product.get_brand()\n",
        "\n",
        "                all_products[main_key][\"discription\"] = product.get_discription()\n",
        "                time.sleep(uniform(20, 30))\n",
        "\n",
        "                print(\"************** Crawling product num {} is finished  **************\".format(product_index))\n",
        "                \n",
        "            except:\n",
        "                print(\"there is an error occured when we tried to crawl: {}\".format(product_url))\n",
        "                skipped_urls.append(product_url)\n",
        "                time.sleep(uniform(100, 200))\n",
        "\n",
        "        return all_products, skipped_urls"
      ]
    },
    {
      "cell_type": "markdown",
      "source": [
        "## Test the code with one department"
      ],
      "metadata": {
        "id": "imYzvR9ba4BM"
      }
    },
    {
      "cell_type": "code",
      "source": [
        "crawler = floor_and_decoor_Scraper(hdr = {'User-Agent': 'Mozilla/5.0'}, domain = \"https://www.flooranddecor.com\", departments= ['/tile'] )\n",
        "products_urls = crawler.get_all_products_urls()\n",
        "print(products_url[:50])"
      ],
      "metadata": {
        "id": "KN_TprxCTs-t"
      },
      "execution_count": null,
      "outputs": []
    },
    {
      "cell_type": "markdown",
      "source": [
        "## Testing scraping products information using their urls"
      ],
      "metadata": {
        "id": "9S1C51_jV4Tp"
      }
    },
    {
      "cell_type": "code",
      "source": [
        "crawler = floor_and_decoor_Scraper()\n",
        "\n",
        "urls = [\"https://www.flooranddecor.com/glass-decoratives/ivory-glass-tile-100465673.html\",\n",
        "        \"https://www.flooranddecor.com/glass-decoratives/harbour-island-polished-linear-mosaic-100268952.html\",\n",
        "        \"https://www.flooranddecor.com/glass-tile/rhea-1-in.-glass-hexagon-mosaic-100899822.html\"\n",
        "        ]\n",
        "        \n",
        "all_products_info, skipped_urls = crawler.Scraping_all_products(urls)"
      ],
      "metadata": {
        "id": "brf0-6rUbQwQ",
        "colab": {
          "base_uri": "https://localhost:8080/"
        },
        "outputId": "1d6bd595-bf81-4411-9f9a-b875d021070f"
      },
      "execution_count": 3,
      "outputs": [
        {
          "output_type": "stream",
          "name": "stdout",
          "text": [
            "Getting page content...\n",
            "************** Crawling product num 0 is finished  **************\n",
            "Getting page content...\n",
            "************** Crawling product num 1 is finished  **************\n",
            "Getting page content...\n",
            "************** Crawling product num 2 is finished  **************\n"
          ]
        }
      ]
    },
    {
      "cell_type": "code",
      "source": [
        "all_products_info.keys()"
      ],
      "metadata": {
        "colab": {
          "base_uri": "https://localhost:8080/"
        },
        "id": "fGgZNtkId7hh",
        "outputId": "6080569a-4f1b-4574-a671-fdc899ec95cd"
      },
      "execution_count": 11,
      "outputs": [
        {
          "output_type": "execute_result",
          "data": {
            "text/plain": [
              "dict_keys(['Ivory Glass Tile', 'Harbour Island Polished Linear Mosaic', 'Rhea 1 in. Glass Hexagon Mosaic'])"
            ]
          },
          "metadata": {},
          "execution_count": 11
        }
      ]
    },
    {
      "cell_type": "code",
      "source": [
        "all_products_info"
      ],
      "metadata": {
        "id": "CUOZ-x8vflX-",
        "outputId": "5dae2bb5-92f9-49ef-df75-c1bb46773958",
        "colab": {
          "base_uri": "https://localhost:8080/"
        }
      },
      "execution_count": 12,
      "outputs": [
        {
          "output_type": "execute_result",
          "data": {
            "text/plain": [
              "{'Harbour Island Polished Linear Mosaic': {'SKU': '100268952',\n",
              "  'brand': 'Montage',\n",
              "  'category': 'shop by material',\n",
              "  'discription': '\\nLiven up any room with this linear 12 x 12 Harbour Island Polished Linear Mosaic in blue.The long lines of a linear shaped glass decorative can make a small room seem bigger.Decorative accents can be used to enhance kitchens, bathrooms, and other areas of your home. A stunning glass or stone backsplash adds unique detail to any design. The wide range of shapes and colors found in our glass presents a great way to express creativity.This product can be installed on a shower wall.\\n',\n",
              "  'images urls': ['https://i8.amplience.net/i/flooranddecor/100268952_harbour-island-polished-linear-mosaic_display?fmt=auto',\n",
              "   'https://i8.amplience.net/i/flooranddecor/100268952_harbour-island-polished-linear-mosaic_1?fmt=auto',\n",
              "   'https://i8.amplience.net/i/flooranddecor/100268952_context?fmt=auto'],\n",
              "  'main category': 'decoratives',\n",
              "  'price': '$12.99 / piece',\n",
              "  'product id': '100268952',\n",
              "  'size': '12 x 12',\n",
              "  'specifications': {'DETAILS': {'Color': 'Blue',\n",
              "    'Edge': 'Straight or Rectified',\n",
              "    'Finish': 'Polished or High Gloss',\n",
              "    'Material': 'Glass'},\n",
              "   'DIMENSIONS': {'Box Length': '13.400',\n",
              "    'Box Quantity': '10',\n",
              "    'Box Weight': '24.2 lbs',\n",
              "    'Box Width': '12.400',\n",
              "    'Chip Size': 'Varies',\n",
              "    'Coverage (sqft/pc)': '0.97',\n",
              "    'Product Length': '11.7',\n",
              "    'Product Thickness': '8mm',\n",
              "    'Product Width': '11.7',\n",
              "    'Size': '12 x 12'},\n",
              "   'INSTALLATION & WARRANTY': {'Commercial / Residential Use': 'Residential/Commercial',\n",
              "    'Installation Options': 'Wall Only',\n",
              "    'Installation Type': 'Grout & Mortar',\n",
              "    'Placement Location': 'Indoor',\n",
              "    'Shower Surface': ['Not Suitable for Shower Floors', 'Shower Walls'],\n",
              "    'Suggested Grout Line Size': '1/16 - 3/8'}},\n",
              "  'sub category': 'glass',\n",
              "  'url': 'https://www.flooranddecor.com/glass-decoratives/harbour-island-polished-linear-mosaic-100268952.html'},\n",
              " 'Ivory Glass Tile': {'SKU': '100465673',\n",
              "  'brand': 'Pure',\n",
              "  'category': 'shop by material',\n",
              "  'discription': '\\nAdd an accent to your design with this 3 x 9 Ivory Glass Tile with a polished or high gloss finish.Straight and perfectly cut-to-size edges of this decorative create continuity.Decorative accents can be used to enhance kitchens, bathrooms, and other areas of your home. A stunning glass backsplash adds unique detail to any design. The wide range of shapes and colors found in our glass presents a great way to express creativity.This product can be installed on a shower wall.\\n',\n",
              "  'images urls': ['https://i8.amplience.net/i/flooranddecor/100465673_ivory-glass-tile_display?fmt=auto',\n",
              "   'https://i8.amplience.net/i/flooranddecor/100465673_ivory-glass-tile_1?fmt=auto',\n",
              "   'https://i8.amplience.net/i/flooranddecor/100465673_context?fmt=auto'],\n",
              "  'main category': 'decoratives',\n",
              "  'price': '$1.69 / piece',\n",
              "  'product id': '100465673',\n",
              "  'size': '3 x 9',\n",
              "  'specifications': {'DETAILS': {'Color': 'White',\n",
              "    'Edge': 'Straight or Rectified',\n",
              "    'Finish': 'Polished or High Gloss',\n",
              "    'Material': 'Glass'},\n",
              "   'DIMENSIONS': {'Box Length': '9.200',\n",
              "    'Box Quantity': '27',\n",
              "    'Box Weight': '20.887 lbs',\n",
              "    'Box Width': '10.830',\n",
              "    'Coverage (sqft/pc)': '0.19',\n",
              "    'Product Length': '9.0',\n",
              "    'Product Thickness': '8mm',\n",
              "    'Product Width': '3.0',\n",
              "    'Size': '3 x 9'},\n",
              "   'INSTALLATION & WARRANTY': {'Commercial / Residential Use': 'Residential/Commercial',\n",
              "    'Installation Options': 'Wall Only',\n",
              "    'Installation Type': 'Grout & Mortar',\n",
              "    'Placement Location': 'Indoor',\n",
              "    'Pool Surface': 'Pool Interiors',\n",
              "    'Shower Surface': ['Not Suitable for Shower Floors', 'Shower Walls'],\n",
              "    'Suggested Grout Line Size': '1/16 - 3/8'}},\n",
              "  'sub category': 'glass',\n",
              "  'url': 'https://www.flooranddecor.com/glass-decoratives/ivory-glass-tile-100465673.html'},\n",
              " 'Rhea 1 in. Glass Hexagon Mosaic': {'SKU': '100899822',\n",
              "  'brand': 'Montage',\n",
              "  'category': 'shop by material',\n",
              "  'discription': '\\nAdd an accent to your design with this 12 x 12 hexagon & octagon Rhea 1 in. Glass Hexagon Mosaic. The white color will enhance any space.Incorporate unique designs, with decorative layouts and textures, to any space. Glass tile, mosaics, and decorative accents are a great addition to any home. Choose from a wide range of styles and colors.This product can be installed on a shower wall.This product can be installed on a shower floor.\\n',\n",
              "  'images urls': ['https://i8.amplience.net/i/flooranddecor/100899822_rhea-1-in-glass-hexagon-mosaic_display?fmt=auto',\n",
              "   'https://i8.amplience.net/i/flooranddecor/100899822_rhea-1-in-glass-hexagon-mosaic_1?fmt=auto',\n",
              "   'https://i8.amplience.net/i/flooranddecor/100899822_context?fmt=auto',\n",
              "   'https://i8.amplience.net/i/flooranddecor/100899822_vendor0321-deco-glass-floor-bathroom_room?fmt=auto'],\n",
              "  'main category': 'tile',\n",
              "  'price': '$14.99 / piece',\n",
              "  'product id': '100899822',\n",
              "  'size': '12 x 12',\n",
              "  'specifications': {'DETAILS': {'Color': 'White',\n",
              "    'Edge': 'Pressed',\n",
              "    'Finish': 'Polished or High Gloss',\n",
              "    'Material': 'Glass'},\n",
              "   'DIMENSIONS': {'Box Length': '13.308',\n",
              "    'Box Quantity': '11',\n",
              "    'Box Weight': '27.17 lbs',\n",
              "    'Box Width': '13.386',\n",
              "    'Chip Size': '1in.',\n",
              "    'Coverage (sqft/pc)': '1.037',\n",
              "    'Product Length': '12.2',\n",
              "    'Product Thickness': '0.23',\n",
              "    'Product Width': '12.1',\n",
              "    'Size': '12 x 12'},\n",
              "   'INSTALLATION & WARRANTY': {'Installation Options': 'Floor/Wall',\n",
              "    'Installation Type': 'Grout & Mortar',\n",
              "    'Shower Surface': ['Shower Floors', 'Shower Walls'],\n",
              "    'Suggested Grout Line Size': '1/16 - 3/8'}},\n",
              "  'sub category': 'glass',\n",
              "  'url': 'https://www.flooranddecor.com/glass-tile/rhea-1-in.-glass-hexagon-mosaic-100899822.html'}}"
            ]
          },
          "metadata": {},
          "execution_count": 12
        }
      ]
    },
    {
      "cell_type": "markdown",
      "source": [
        "# Scraping all products"
      ],
      "metadata": {
        "id": "vK0dPbCsc0ef"
      }
    },
    {
      "cell_type": "code",
      "source": [
        "crawler = floor_and_decoor_Scraper(hdr = {'User-Agent': 'Mozilla/5.0'}, domain = \"https://www.flooranddecor.com\")\n",
        "products_urls = crawler.get_all_products_urls()\n",
        "# here we saved any urls that weren't scrapped successfully in skipped_urls, we can re-scrape them later\n",
        "all_products_info, skipped_urls = crawler.Scraping_all_products()"
      ],
      "metadata": {
        "id": "VW4aenMNc46g"
      },
      "execution_count": null,
      "outputs": []
    },
    {
      "cell_type": "code",
      "source": [
        ""
      ],
      "metadata": {
        "id": "VVUE1ummc49k"
      },
      "execution_count": null,
      "outputs": []
    },
    {
      "cell_type": "code",
      "source": [
        "all_products_info"
      ],
      "metadata": {
        "id": "0TVJdXDhSHe8",
        "outputId": "abd907fc-47ae-4736-a59b-6e94910b2047",
        "colab": {
          "base_uri": "https://localhost:8080/"
        }
      },
      "execution_count": null,
      "outputs": [
        {
          "output_type": "execute_result",
          "data": {
            "text/plain": [
              "{'': {'product id': '100899822',\n",
              "  'url': 'https://www.flooranddecor.com/glass-tile/rhea-1-in.-glass-hexagon-mosaic-100899822.html'}}"
            ]
          },
          "metadata": {},
          "execution_count": 11
        }
      ]
    },
    {
      "cell_type": "code",
      "source": [
        "\n",
        "class get_prosuct_info:\n",
        "\n",
        "    def __init__(self, product_url, hdr = {'User-Agent': 'Mozilla/5.0'}):\n",
        "        self.product_url = product_url\n",
        "        self.hdr = hdr\n",
        "        self._soup = None\n",
        "\n",
        "    @property\n",
        "    def soup(self):\n",
        "        if not self._soup:\n",
        "            print(\"Getting page content...\")\n",
        "            req = Request(self.product_url, headers= self.hdr)\n",
        "            text = urlopen(req).read()\n",
        "            self._soup = BeautifulSoup(text,\"lxml\")\n",
        "\n",
        "        return self._soup\n",
        "\n",
        "    def get_images(self):\n",
        "        images = self.soup.find_all(\"figure\", attrs={\"class\":'b-pdp_thumbnail-figure'})\n",
        "        images_urls = []\n",
        "        for image in images:\n",
        "            try:\n",
        "                image_url = image.find(\"img\", attrs = {\"class\":\"b-pdp_thumbnail-figure_img\"})['data-src']\n",
        "                images_urls.append(image_url)\n",
        "            except:\n",
        "                pass\n",
        "        return images_urls\n",
        "\n",
        "\n",
        "    def get_price(self):\n",
        "        try:\n",
        "            price = self.soup.find_all(\"span\", attrs={\"class\":'b-pdp_price-cost'})[0].text\n",
        "        except:\n",
        "            price = ''\n",
        "\n",
        "        return price\n",
        "\n",
        "\n",
        "    def get_specifications(self):\n",
        "\n",
        "        product_properties = self.soup.find_all(\"section\", attrs={\"class\":'b-pdp_specifications-container'})\n",
        "        specifications = {\"DIMENSIONS\":{},\"DETAILS\":{},\"INSTALLATION & WARRANTY\":{}  }\n",
        "        groups = [\"DIMENSIONS\", \"DETAILS\", \"INSTALLATION & WARRANTY\", \"\"]\n",
        "        for i, product_property in enumerate(product_properties):\n",
        "            peoperties = product_property.find_all(\"span\", attrs={\"class\":'b-pdp_specifications-name'})\n",
        "            peoperties_val = product_property.find_all(\"span\", attrs={\"class\":'b-pdp_specifications-number'})\n",
        "\n",
        "            for pro, pro_val in zip(peoperties,peoperties_val):\n",
        "                try:\n",
        "                    if specifications[groups[i]].get(pro.string.strip()):\n",
        "                        specifications[groups[i]][pro.string.strip()] = [specifications[groups[i]][pro.string.strip()]]\n",
        "                        specifications[groups[i]][pro.string.strip()].append(pro_val.string.strip())\n",
        "\n",
        "                    else:\n",
        "                        specifications[groups[i]][pro.string.strip()] = pro_val.string.strip()\n",
        "                except:\n",
        "                    key = pro.text.split('\\n')[1].strip()\n",
        "                    if specifications[groups[i]].get(key):\n",
        "                        specifications[groups[i]][key] = [specifications[groups[i]][key]]\n",
        "                        specifications[groups[i]][key].append(pro_val.string.strip())\n",
        "\n",
        "                    else:\n",
        "                        specifications[groups[i]][key] = pro_val.string.strip()\n",
        "\n",
        "        return specifications\n",
        "\n",
        "    def  get_categories(self):\n",
        "\n",
        "        try:\n",
        "            categories = self.soup.find_all(\"a\", attrs={\"class\":'b-breadcrumbs-item_link'})\n",
        "\n",
        "            main_category = str(categories[1].string).replace('\\n\\t','').strip()\n",
        "            category = str(categories[2].string).replace('\\n\\t','').strip()\n",
        "            sub_category = str(categories[3].string).replace('\\n\\t','').strip()\n",
        "        except:\n",
        "            main_category = ''\n",
        "            category = ''\n",
        "            sub_category = ''\n",
        "\n",
        "        return main_category, category, sub_category\n",
        "\n",
        "\n",
        "    def get_title(self):\n",
        "        try:\n",
        "            properties = self.soup.find(\"h1\", attrs={\"class\":'b-pdp_title-name'})\n",
        "            title = properties.text\n",
        "        except:\n",
        "            title = ''\n",
        "        return title\n",
        "\n",
        "    def get_SKU_and_size(self):\n",
        "        try:\n",
        "            properties = self.soup.find_all(\"span\", attrs={\"class\":'b-pdp_details-element_value'})\n",
        "            SKU = properties[0].text\n",
        "            size = properties[1].text\n",
        "        except:\n",
        "            SKU = '' \n",
        "            size = ''\n",
        "\n",
        "        return SKU, size\n",
        "\n",
        "    def get_brand(self):\n",
        "        properties = self.soup.find(\"img\", attrs={\"class\":'b-pdp_title-brand_img'})\n",
        "        try:\n",
        "            brand = properties.get('alt')\n",
        "        except:\n",
        "            brand = ''\n",
        "        return brand\n",
        "\n",
        "    def get_discription(self):\n",
        "        properties = self.soup.find(\"div\", attrs={\"class\":'b-pdp_specifications-txt'})\n",
        "        try:\n",
        "            discription = properties.text\n",
        "        except:\n",
        "            discription = ''\n",
        "        return discription\n",
        "\n"
      ],
      "metadata": {
        "id": "1p5ViTTSK_LV"
      },
      "execution_count": null,
      "outputs": []
    },
    {
      "cell_type": "code",
      "source": [
        "url = \"https://www.flooranddecor.com/underlayment-installation-materials/sentinel-moisture-barrier-polyethylene-film-100586833.html\"\n",
        "product = get_prosuct_info(product_url = url, hdr = {'User-Agent': 'Mozilla/5.0'})"
      ],
      "metadata": {
        "id": "nwUAldnJK_OG"
      },
      "execution_count": null,
      "outputs": []
    },
    {
      "cell_type": "code",
      "source": [
        "product.get_categories()"
      ],
      "metadata": {
        "colab": {
          "base_uri": "https://localhost:8080/"
        },
        "id": "Yh2EjJW1K_RL",
        "outputId": "b165ae3e-f208-4284-f63f-e461686b2c46"
      },
      "execution_count": null,
      "outputs": [
        {
          "output_type": "execute_result",
          "data": {
            "text/plain": [
              "('installation materials',\n",
              " 'shop wood, laminate, & vinyl installation',\n",
              " 'underlayment')"
            ]
          },
          "metadata": {},
          "execution_count": 17
        }
      ]
    },
    {
      "cell_type": "code",
      "source": [
        "\n",
        "# validate if the url start with the domain, if notL add the domain\n",
        "def validate_url_domain(url, domain):\n",
        "    if not url.startswith(\"http\"):\n",
        "        url = domain + url\n",
        "    return url\n",
        "\n",
        "\n",
        "# Crawl all main pages urls  \n",
        "def get_all_main_pages_urls(departments):\n",
        "    hdr = {'User-Agent': 'Mozilla/5.0'}\n",
        "    url_list = []\n",
        "    domain = \"https://www.flooranddecor.com\"\n",
        "\n",
        "    for deparement in departments:\n",
        "        deparement_url = validate_url_domain(deparement, domain)\n",
        "        print(deparement_url)\n",
        "        req = Request(deparement_url,headers=hdr)\n",
        "        text = urlopen(req).read()\n",
        "        soup = BeautifulSoup(text,\"lxml\")\n",
        "\n",
        "        urls = soup.find_all(\"a\", attrs={\"class\":'clp-link'})\n",
        "        for url in urls:\n",
        "            validated_url = validate_url_domain(url['href'], domain)\n",
        "            url_list.append(validated_url)\n",
        "            time.sleep(uniform(.1, .4))\n",
        "        time.sleep(uniform(.5, 1.5))\n",
        "    return url_list\n",
        "\n",
        "\n",
        "def get_department_products_urls(url):\n",
        "    hdr = {'User-Agent': 'Mozilla/5.0'}\n",
        "    req = Request(url,headers=hdr)\n",
        "    text = urlopen(req).read()\n",
        "    soup = BeautifulSoup(text,\"lxml\")\n",
        "    urls = soup.find_all(\"a\", attrs={\"class\":'b-product_tile-figure_link'})\n",
        "    products_urls = []\n",
        "    domain = \"https://www.flooranddecor.com/\"\n",
        "    time.sleep(uniform(.5, 2))\n",
        "    for url in urls:\n",
        "        validated_url = validate_url_domain(url['href'], domain)\n",
        "        try:\n",
        "            products_urls.append(validated_url)\n",
        "        \n",
        "        except:\n",
        "            print(\"err occured while scraping:  {}\".format(url))\n",
        "    return products_urls"
      ],
      "metadata": {
        "id": "bdd28K5DPKkt"
      },
      "execution_count": null,
      "outputs": []
    },
    {
      "cell_type": "markdown",
      "source": [
        "# product feature extractions"
      ],
      "metadata": {
        "id": "4UAb-ud4QzAP"
      }
    },
    {
      "cell_type": "code",
      "source": [
        "def get_images(soup):\n",
        "    images = soup.find_all(\"figure\", attrs={\"class\":'b-pdp_thumbnail-figure'})\n",
        "    images_urls = []\n",
        "    for image in images:\n",
        "        try:\n",
        "            image_url = image.find(\"img\", attrs = {\"class\":\"b-pdp_thumbnail-figure_img\"})['data-src']\n",
        "            images_urls.append(image_url)\n",
        "        except:\n",
        "            pass\n",
        "    return images_urls\n",
        "\n",
        "\n",
        "def get_price(soup):\n",
        "    try:\n",
        "        price = soup.find_all(\"span\", attrs={\"class\":'b-pdp_price-cost'})[0].text\n",
        "    except:\n",
        "        price = ''\n",
        "\n",
        "    return price\n",
        "\n",
        "\n",
        "def get_specifications(soup):\n",
        "\n",
        "    product_properties = soup.find_all(\"section\", attrs={\"class\":'b-pdp_specifications-container'})\n",
        "    specifications = {\"DIMENSIONS\":{},\"DETAILS\":{},\"INSTALLATION & WARRANTY\":{}  }\n",
        "    groups = [\"DIMENSIONS\", \"DETAILS\", \"INSTALLATION & WARRANTY\", \"\"]\n",
        "    for i, product_property in enumerate(product_properties):\n",
        "        peoperties = product_property.find_all(\"span\", attrs={\"class\":'b-pdp_specifications-name'})\n",
        "        peoperties_val = product_property.find_all(\"span\", attrs={\"class\":'b-pdp_specifications-number'})\n",
        "\n",
        "        for pro, pro_val in zip(peoperties,peoperties_val):\n",
        "            try:\n",
        "                if specifications[groups[i]].get(pro.string.strip()):\n",
        "                    specifications[groups[i]][pro.string.strip()] = [specifications[groups[i]][pro.string.strip()]]\n",
        "                    specifications[groups[i]][pro.string.strip()].append(pro_val.string.strip())\n",
        "\n",
        "                else:\n",
        "                    specifications[groups[i]][pro.string.strip()] = pro_val.string.strip()\n",
        "            except:\n",
        "                key = pro.text.split('\\n')[1].strip()\n",
        "                if specifications[groups[i]].get(key):\n",
        "                    specifications[groups[i]][key] = [specifications[groups[i]][key]]\n",
        "                    specifications[groups[i]][key].append(pro_val.string.strip())\n",
        "\n",
        "                else:\n",
        "                    specifications[groups[i]][key] = pro_val.string.strip()\n",
        "\n",
        "    return specifications\n",
        "\n",
        "def  get_categories(soup):\n",
        "\n",
        "    try:\n",
        "        categories = soup.find_all(\"a\", attrs={\"class\":'b-breadcrumbs-item_link'})\n",
        "\n",
        "        main_category = str(categories[1].string).replace('\\n\\t','').strip()\n",
        "        category = str(categories[2].string).replace('\\n\\t','').strip()\n",
        "        sub_category = str(categories[3].string).replace('\\n\\t','').strip()\n",
        "    except:\n",
        "        main_category = ''\n",
        "        category = ''\n",
        "        sub_category = ''\n",
        "\n",
        "    return main_category, category, sub_category\n",
        "\n",
        "\n",
        "def get_title(soup):\n",
        "    try:\n",
        "        properties = soup.find(\"h1\", attrs={\"class\":'b-pdp_title-name'})\n",
        "        title = properties.text\n",
        "    except:\n",
        "        title = ''\n",
        "    return title\n",
        "\n",
        "def get_SKU_and_size(soup):\n",
        "    try:\n",
        "        properties = soup.find_all(\"span\", attrs={\"class\":'b-pdp_details-element_value'})\n",
        "        SKU = properties[0].text\n",
        "        size = properties[1].text\n",
        "    except:\n",
        "        SKU = '' \n",
        "        size = ''\n",
        "\n",
        "    return SKU, size\n",
        "\n",
        "def get_brand(soup):\n",
        "    properties = soup.find(\"img\", attrs={\"class\":'b-pdp_title-brand_img'})\n",
        "    try:\n",
        "        brand = properties.get('alt')\n",
        "    except:\n",
        "        brand = ''\n",
        "    return brand\n",
        "\n",
        "def get_discription(soup):\n",
        "    properties = soup.find(\"div\", attrs={\"class\":'b-pdp_specifications-txt'})\n",
        "    try:\n",
        "        discription = properties.text\n",
        "    except:\n",
        "        discription = ''\n",
        "    return discription"
      ],
      "metadata": {
        "id": "MVvPuWOxQwTd"
      },
      "execution_count": null,
      "outputs": []
    },
    {
      "cell_type": "code",
      "source": [
        "sub_departments_urls_list = []\n",
        "\n",
        "\n",
        "req = Request('https://www.flooranddecor.com/tile', headers= hdr)\n",
        "text = urlopen(req).read()\n",
        "soup = BeautifulSoup(text,\"lxml\")\n",
        "urls = soup.find_all(\"a\", attrs={\"class\":'clp-link'})\n",
        "\n",
        "for url in urls:\n",
        "    validated_url = validate_url_domain(url['href'], domain)\n",
        "    sub_departments_urls_list.append(validated_url)\n",
        "\n",
        "print(\"******** num of scrapped sub-departments till now is\".format(len(sub_departments_urls_list)))\n"
      ],
      "metadata": {
        "id": "9Gfb3sLMx4Uy"
      },
      "execution_count": null,
      "outputs": []
    },
    {
      "cell_type": "code",
      "source": [
        "\n",
        "domain = 'https://www.flooranddecor.com'\n",
        "hdr = {'User-Agent': 'Mozilla/5.0'}\n",
        "url_list = []\n",
        "\n",
        "req = Request('https://www.flooranddecor.com/tile',headers=hdr)\n",
        "text = urlopen(req).read()\n",
        "soup = BeautifulSoup(text,\"lxml\")\n",
        "\n",
        "urls = soup.find_all(\"a\", attrs={\"class\":'clp-link'})\n",
        "for url in urls:\n",
        "    validated_url = validate_url_domain(url['href'], domain)\n",
        "    url_list.append(validated_url)\n"
      ],
      "metadata": {
        "id": "-EsgmMWvxbI1"
      },
      "execution_count": null,
      "outputs": []
    },
    {
      "cell_type": "code",
      "source": [
        "url_list"
      ],
      "metadata": {
        "id": "3L_x4x6fxwju"
      },
      "execution_count": null,
      "outputs": []
    },
    {
      "cell_type": "code",
      "source": [
        "departments = ['/tile', '/stone', '/wood', '/laminate', '/vinyl', '/decoratives', '/installation-materials']\n",
        "department_urls = get_all_main_pages_urls(departments)\n"
      ],
      "metadata": {
        "id": "uVtWYkZntV0W"
      },
      "execution_count": null,
      "outputs": []
    },
    {
      "cell_type": "code",
      "source": [
        "\n",
        "goods_urls = []             # to save all the goods'urls\n",
        "skipped_urls = []\n",
        "# itrate over all main catefories urls\n",
        "for category_index, category_url in enumerate(department_urls):\n",
        "    try:\n",
        "        # html page make some problems and don't have usefull informations\n",
        "        \n",
        "        validated_catefory_url = '{}?start=0&sz=1000'.format(category_url)\n",
        "        goods_urls.extend(get_department_products_urls(validated_catefory_url))\n",
        "        print(\"************** Crawling department num {} is finished with total crawled urls:  {}  **************\".format(category_index,len(goods_urls)))\n",
        "        time.sleep(uniform(50, 70))\n",
        "\n",
        "    except:\n",
        "        print(\"there is an error occured when we tried to crawl: {}\".format(validated_catefory_url))\n",
        "        skipped_urls.append(validated_catefory_url)\n",
        "        time.sleep(uniform(120, 240))\n",
        "\n"
      ],
      "metadata": {
        "id": "G9-8s9YetZTO"
      },
      "execution_count": null,
      "outputs": []
    },
    {
      "cell_type": "markdown",
      "source": [
        "# Get the products information"
      ],
      "metadata": {
        "id": "4s2N1wSiDhpy"
      }
    },
    {
      "cell_type": "code",
      "source": [
        "\n",
        "products_urls = [\"https://www.flooranddecor.com/installation-tools-tile-stone-installation-materials/pacesetter-20in.-tapping-block-100384759.html\",\n",
        "        \"https://www.flooranddecor.com/underlayment-installation-materials/sentinel-moisture-barrier-polyethylene-film-100586833.html\",\n",
        "        \"https://www.flooranddecor.com/installation-tools-tile-stone-installation-materials/goldblatt-lam\",\n",
        "        \"https://www.flooranddecor.com/installation-tools-tile-stone-installation-materials/goldblatt-heavy-duty-ret\"\n",
        "        ]\n",
        "\n",
        "all_products = {}\n",
        "skipped_urls = []\n",
        "hdr = {'User-Agent': 'Mozilla/5.0'}\n",
        "for product_index, product_url in enumerate(products_urls):\n",
        "\n",
        "    try:\n",
        "        req = Request(product_url, headers=hdr)\n",
        "        text = urlopen(req).read()\n",
        "        soup = BeautifulSoup(text,\"lxml\")\n",
        "\n",
        "        product_title = get_title(soup)\n",
        "        product_id = product_url.split('-')[-1].split('.')[0]\n",
        "        try:\n",
        "            main_key = product_title\n",
        "            all_products[main_key] = {}\n",
        "        except:\n",
        "            main_key = product_title \n",
        "            all_products[main_key] = {}\n",
        "        all_products[main_key][\"url\"] = product_url    \n",
        "        all_products[main_key][\"product id\"] = product_id\n",
        "        all_products[main_key][\"images urls\"] = get_images(soup)\n",
        "        all_products[main_key][\"price\"] = get_price(soup)\n",
        "        all_products[main_key][\"specifications\"] = get_specifications(soup)\n",
        "\n",
        "        main_category, category, sub_category = get_categories(soup)\n",
        "        all_products[main_key][\"main category\"] = main_category\n",
        "        all_products[main_key][\"category\"] = category\n",
        "        all_products[main_key][\"sub category\"] = sub_category\n",
        "\n",
        "        SKU, size = get_SKU_and_size(soup)\n",
        "        all_products[main_key][\"SKU\"] = SKU\n",
        "        all_products[main_key][\"size\"] = size\n",
        "\n",
        "        all_products[main_key][\"brand\"] = get_brand(soup)\n",
        "\n",
        "        all_products[main_key][\"discription\"] = get_discription(soup)\n",
        "        time.sleep(uniform(45, 55))\n",
        "\n",
        "        print(\"************** Crawling product num {} is finished  **************\".format(product_index))\n",
        "        \n",
        "    except:\n",
        "        print(\"there is an error occured when we tried to crawl: {}\".format(product_url))\n",
        "        skipped_urls.append(product_url)\n",
        "        time.sleep(uniform(120, 240))\n"
      ],
      "metadata": {
        "id": "Chqr-tGxtbwS",
        "colab": {
          "base_uri": "https://localhost:8080/",
          "height": 412
        },
        "outputId": "7bd6a2d5-4ce0-42fc-ff4f-0f288c44c19a"
      },
      "execution_count": null,
      "outputs": [
        {
          "output_type": "stream",
          "name": "stdout",
          "text": [
            "there is an error occured when we tried to crawl: https://www.flooranddecor.com/installation-tools-tile-stone-installation-materials/pacesetter-20in.-tapping-block-100384759.html\n"
          ]
        },
        {
          "output_type": "error",
          "ename": "KeyboardInterrupt",
          "evalue": "ignored",
          "traceback": [
            "\u001b[0;31m---------------------------------------------------------------------------\u001b[0m",
            "\u001b[0;31mNameError\u001b[0m                                 Traceback (most recent call last)",
            "\u001b[0;32m<ipython-input-24-6e4110960f0a>\u001b[0m in \u001b[0;36m<module>\u001b[0;34m()\u001b[0m\n\u001b[1;32m     17\u001b[0m \u001b[0;34m\u001b[0m\u001b[0m\n\u001b[0;32m---> 18\u001b[0;31m         \u001b[0mproduct_title\u001b[0m \u001b[0;34m=\u001b[0m \u001b[0mget_title\u001b[0m\u001b[0;34m(\u001b[0m\u001b[0msoup\u001b[0m\u001b[0;34m)\u001b[0m\u001b[0;34m\u001b[0m\u001b[0;34m\u001b[0m\u001b[0m\n\u001b[0m\u001b[1;32m     19\u001b[0m         \u001b[0mproduct_id\u001b[0m \u001b[0;34m=\u001b[0m \u001b[0mproduct_url\u001b[0m\u001b[0;34m.\u001b[0m\u001b[0msplit\u001b[0m\u001b[0;34m(\u001b[0m\u001b[0;34m'-'\u001b[0m\u001b[0;34m)\u001b[0m\u001b[0;34m[\u001b[0m\u001b[0;34m-\u001b[0m\u001b[0;36m1\u001b[0m\u001b[0;34m]\u001b[0m\u001b[0;34m.\u001b[0m\u001b[0msplit\u001b[0m\u001b[0;34m(\u001b[0m\u001b[0;34m'.'\u001b[0m\u001b[0;34m)\u001b[0m\u001b[0;34m[\u001b[0m\u001b[0;36m0\u001b[0m\u001b[0;34m]\u001b[0m\u001b[0;34m\u001b[0m\u001b[0;34m\u001b[0m\u001b[0m\n",
            "\u001b[0;31mNameError\u001b[0m: name 'get_title' is not defined",
            "\nDuring handling of the above exception, another exception occurred:\n",
            "\u001b[0;31mKeyboardInterrupt\u001b[0m                         Traceback (most recent call last)",
            "\u001b[0;32m<ipython-input-24-6e4110960f0a>\u001b[0m in \u001b[0;36m<module>\u001b[0;34m()\u001b[0m\n\u001b[1;32m     49\u001b[0m         \u001b[0mprint\u001b[0m\u001b[0;34m(\u001b[0m\u001b[0;34m\"there is an error occured when we tried to crawl: {}\"\u001b[0m\u001b[0;34m.\u001b[0m\u001b[0mformat\u001b[0m\u001b[0;34m(\u001b[0m\u001b[0mproduct_url\u001b[0m\u001b[0;34m)\u001b[0m\u001b[0;34m)\u001b[0m\u001b[0;34m\u001b[0m\u001b[0;34m\u001b[0m\u001b[0m\n\u001b[1;32m     50\u001b[0m         \u001b[0mskipped_urls\u001b[0m\u001b[0;34m.\u001b[0m\u001b[0mappend\u001b[0m\u001b[0;34m(\u001b[0m\u001b[0mproduct_url\u001b[0m\u001b[0;34m)\u001b[0m\u001b[0;34m\u001b[0m\u001b[0;34m\u001b[0m\u001b[0m\n\u001b[0;32m---> 51\u001b[0;31m         \u001b[0mtime\u001b[0m\u001b[0;34m.\u001b[0m\u001b[0msleep\u001b[0m\u001b[0;34m(\u001b[0m\u001b[0muniform\u001b[0m\u001b[0;34m(\u001b[0m\u001b[0;36m120\u001b[0m\u001b[0;34m,\u001b[0m \u001b[0;36m240\u001b[0m\u001b[0;34m)\u001b[0m\u001b[0;34m)\u001b[0m\u001b[0;34m\u001b[0m\u001b[0;34m\u001b[0m\u001b[0m\n\u001b[0m",
            "\u001b[0;31mKeyboardInterrupt\u001b[0m: "
          ]
        }
      ]
    },
    {
      "cell_type": "code",
      "source": [
        "all_products"
      ],
      "metadata": {
        "id": "hoYBTw8hi7zk"
      },
      "execution_count": null,
      "outputs": []
    },
    {
      "cell_type": "code",
      "source": [
        ""
      ],
      "metadata": {
        "id": "h5YgxUHUjNsf"
      },
      "execution_count": null,
      "outputs": []
    }
  ],
  "metadata": {
    "colab": {
      "name": "crawl_floordecor_products_data.ipynb",
      "provenance": [],
      "collapsed_sections": [],
      "include_colab_link": true
    },
    "kernelspec": {
      "display_name": "Python 3",
      "name": "python3"
    },
    "language_info": {
      "name": "python"
    }
  },
  "nbformat": 4,
  "nbformat_minor": 0
}