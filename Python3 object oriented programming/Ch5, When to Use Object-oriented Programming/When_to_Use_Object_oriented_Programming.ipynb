{
  "nbformat": 4,
  "nbformat_minor": 5,
  "metadata": {
    "kernelspec": {
      "display_name": "Python 3 (ipykernel)",
      "language": "python",
      "name": "python3"
    },
    "language_info": {
      "codemirror_mode": {
        "name": "ipython",
        "version": 3
      },
      "file_extension": ".py",
      "mimetype": "text/x-python",
      "name": "python",
      "nbconvert_exporter": "python",
      "pygments_lexer": "ipython3",
      "version": "3.8.5"
    },
    "colab": {
      "name": "CH5, When to Use Object-oriented Programming.ipynb",
      "provenance": [],
      "include_colab_link": true
    }
  },
  "cells": [
    {
      "cell_type": "markdown",
      "metadata": {
        "id": "view-in-github",
        "colab_type": "text"
      },
      "source": [
        "<a href=\"https://colab.research.google.com/github/Ghonem22/Learning/blob/main/Python3%20object%20oriented%20programming/Ch5%2C%20When%20to%20Use%20Object-oriented%20Programming/When_to_Use_Object_oriented_Programming.ipynb\" target=\"_parent\"><img src=\"https://colab.research.google.com/assets/colab-badge.svg\" alt=\"Open In Colab\"/></a>"
      ]
    },
    {
      "cell_type": "markdown",
      "metadata": {
        "id": "87e3643d"
      },
      "source": [
        "# CH5: When to Use Object-oriented Programming"
      ],
      "id": "87e3643d"
    },
    {
      "cell_type": "markdown",
      "metadata": {
        "id": "9a610ff9"
      },
      "source": [
        "## Treat objects as objects"
      ],
      "id": "9a610ff9"
    },
    {
      "cell_type": "markdown",
      "metadata": {
        "id": "143bcd3e"
      },
      "source": [
        "### objects are things that have both data and behavior:\n",
        "\n",
        "* If we are working only with data, we can sort it in a list, set, dictionary, or some other Python data structure.\n",
        "\n",
        "* if we are working only with behavior, but no stored data, a simple function is more suitable.\n",
        "\n",
        "---\n",
        "We can often start our Python programs by storing data in a few variables, we will later find that we are passing the same set of related variables to a set of functions. This is the time to think about grouping both variables and functions into a class."
      ],
      "id": "143bcd3e"
    },
    {
      "cell_type": "markdown",
      "metadata": {
        "id": "a07849c8"
      },
      "source": [
        "### designing a program to model polygons in two dimensional space:\n",
        "\n",
        "* start with each polygon being represented as a list of points.\n",
        "* want to calculate the distance around the perimeter of the polygon: To do this, we also need a function\n",
        "\n",
        "we clearly recognize that a polygon class could encapsulate the list of points (data) and the perimeter function (behavior)."
      ],
      "id": "a07849c8"
    },
    {
      "cell_type": "code",
      "metadata": {
        "id": "a56833fe"
      },
      "source": [
        "import math\n",
        "\n",
        "class Point:\n",
        "    def __init__(self, x, y):\n",
        "        self.x = x\n",
        "        self.y = y\n",
        "        \n",
        "    def distance(self, p2):\n",
        "        return math.sqrt((self.x-p2.x)**2 + (self.y-p2.y)**2)\n",
        "    \n",
        "class Polygon:\n",
        "    \n",
        "    def __init__(self, points=None):\n",
        "        points = points if points else []\n",
        "        self.vertices = []\n",
        "        \n",
        "        # take list of tubles, convert each to Point object, and then add to vertices\n",
        "        for point in points:\n",
        "            if isinstance(point, tuple):\n",
        "                point = Point(*point)\n",
        "                self.vertices.append(point)   \n",
        "                \n",
        "    def add_point(self, *kwargs):\n",
        "        self.vertices.append((kwargs))\n",
        "        \n",
        "    def perimeter(self):\n",
        "        perimeter = 0\n",
        "        points = self.vertices + [self.vertices[0]]\n",
        "        for i in range(len(self.vertices)):\n",
        "            perimeter += points[i].distance(points[i+1])\n",
        "        return perimeter"
      ],
      "id": "a56833fe",
      "execution_count": null,
      "outputs": []
    },
    {
      "cell_type": "markdown",
      "metadata": {
        "id": "2b8a3db8"
      },
      "source": [
        "If we have new functions that accept a polygon argument, such as area(polygon) or point_in_polygon(polygon, x, y), or if we add other attributes to the polygon, such as color or texture  the benefits of the object-oriented code become increasingly obvious.\n",
        "\n",
        "---\n",
        "The distinction is a design decision, but in general, the more complicated a set of\n",
        "data is, the more likely it is to have multiple functions specific to that data, and the\n",
        "more useful it is to use a class with attributes and methods instead.\n",
        "\n",
        "---\n",
        "If we're only trying to calculate the perimeter of one polygon in the context of a much reater problem, using a function will probably be quickest to code and easier to use \"one time only\".\n",
        "\n",
        "---\n",
        "if our program needs to manipulate numerous polygons in a wide variety of ways (calculate perimeter, area, intersection with other polygons, move or scale them, and so on), we have most certainly identified an object; one that needs to be extremely versatile."
      ],
      "id": "2b8a3db8"
    },
    {
      "cell_type": "code",
      "metadata": {
        "id": "045a1304"
      },
      "source": [
        "poly = Polygon([(5,2),(6,4),5])\n"
      ],
      "id": "045a1304",
      "execution_count": null,
      "outputs": []
    },
    {
      "cell_type": "code",
      "metadata": {
        "id": "265b5c42",
        "outputId": "eb140acd-60ce-4c01-b010-755fc0e4c548"
      },
      "source": [
        "poly.vertices"
      ],
      "id": "265b5c42",
      "execution_count": null,
      "outputs": [
        {
          "data": {
            "text/plain": [
              "[<__main__.Point at 0x1eb923974c0>, <__main__.Point at 0x1eb923975e0>]"
            ]
          },
          "execution_count": 10,
          "metadata": {},
          "output_type": "execute_result"
        }
      ]
    },
    {
      "cell_type": "code",
      "metadata": {
        "id": "fb2be918",
        "outputId": "5888c601-9361-4b9e-a052-6b18231c4de2"
      },
      "source": [
        "poly.perimeter()"
      ],
      "id": "fb2be918",
      "execution_count": null,
      "outputs": [
        {
          "data": {
            "text/plain": [
              "4.47213595499958"
            ]
          },
          "execution_count": 11,
          "metadata": {},
          "output_type": "execute_result"
        }
      ]
    },
    {
      "cell_type": "markdown",
      "metadata": {
        "id": "38379013"
      },
      "source": [
        "## Adding behavior to class data with properties\n",
        "\n",
        "let's discuss some bad object-oriented theory:\n",
        "\n",
        "For Example, Java teach us to never access attributes directly: The variables are prefixed with an underscore to suggest that they are private Then the get and set methods provide access to each variable."
      ],
      "id": "38379013"
    },
    {
      "cell_type": "code",
      "metadata": {
        "id": "1464262a"
      },
      "source": [
        "class Color:\n",
        "    \n",
        "    def __init__(self, rgb_value, name):\n",
        "        self._rgb_value = rgb_value\n",
        "        self._name = name\n",
        "        \n",
        "    def set_name(self, name):\n",
        "        self._name = name\n",
        "    def get_name(self):\n",
        "        return self._name"
      ],
      "id": "1464262a",
      "execution_count": null,
      "outputs": []
    },
    {
      "cell_type": "code",
      "metadata": {
        "id": "fea7c119"
      },
      "source": [
        "c = Color(\"#ff0000\", \"bright red\")"
      ],
      "id": "fea7c119",
      "execution_count": null,
      "outputs": []
    },
    {
      "cell_type": "code",
      "metadata": {
        "id": "5f4e5fd0",
        "outputId": "d97c57a3-b960-4f9b-ffd7-5ff3516c5abd"
      },
      "source": [
        "c.get_name()"
      ],
      "id": "5f4e5fd0",
      "execution_count": null,
      "outputs": [
        {
          "data": {
            "text/plain": [
              "'bright red'"
            ]
          },
          "execution_count": 14,
          "metadata": {},
          "output_type": "execute_result"
        }
      ]
    },
    {
      "cell_type": "code",
      "metadata": {
        "id": "df75a548"
      },
      "source": [
        "c.set_name(\"red\")"
      ],
      "id": "df75a548",
      "execution_count": null,
      "outputs": []
    },
    {
      "cell_type": "code",
      "metadata": {
        "id": "6dabe397",
        "outputId": "989b6375-e5cc-4b14-f3bc-cf78e62e6bc7"
      },
      "source": [
        "c.get_name()"
      ],
      "id": "6dabe397",
      "execution_count": null,
      "outputs": [
        {
          "data": {
            "text/plain": [
              "'red'"
            ]
          },
          "execution_count": 16,
          "metadata": {},
          "output_type": "execute_result"
        }
      ]
    },
    {
      "cell_type": "markdown",
      "metadata": {
        "id": "c9808087"
      },
      "source": [
        "But this is not nearly as readable as the direct access version that Python favors:"
      ],
      "id": "c9808087"
    },
    {
      "cell_type": "markdown",
      "metadata": {
        "id": "07f83e03"
      },
      "source": [
        "### So why would anyone insist upon the method-based syntax?\n",
        "\n",
        "* someday we may want to add extra code when a value is set or retrieved.\n",
        "* we might want to validate the value."
      ],
      "id": "07f83e03"
    },
    {
      "cell_type": "code",
      "metadata": {
        "id": "e64c5d2c"
      },
      "source": [
        "# we could decide to change the set_name() method as follows:\n",
        "def set_name(self, name):\n",
        "    if not name:\n",
        "        raise Exception(\"Invalid Name\")\n",
        "    self._name = name"
      ],
      "id": "e64c5d2c",
      "execution_count": null,
      "outputs": []
    },
    {
      "cell_type": "markdown",
      "metadata": {
        "id": "03b92f29"
      },
      "source": [
        "### in Java and similar languages\n",
        "\n",
        "if the code was written to do direct attribute access, and then later changed it to a method, we'd\n",
        "have a problem\n",
        "* anyone who had written code that accessed the attribute directly would now have to access the method. If they don't change the access style from attribute access to a function call, their code will be broken.\n",
        "\n",
        "* This doesn't make much sense in Python since there isn't any real concept of private members!"
      ],
      "id": "03b92f29"
    },
    {
      "cell_type": "markdown",
      "metadata": {
        "id": "fcba24f9"
      },
      "source": [
        "### Python gives us the property keyword to make methods look like attributes.\n",
        "\n",
        "can therefore write our code to use direct member access, and if we unexpectedly need to alter the implementation to do some calculation when getting or setting that attribute's value, we can do so without changing the interface."
      ],
      "id": "fcba24f9"
    },
    {
      "cell_type": "code",
      "metadata": {
        "id": "43359f2e"
      },
      "source": [
        "class Color:\n",
        "    \n",
        "    def __init__(self, rgb_value, name):\n",
        "        self.rgb_value = rgb_value\n",
        "        self._name = name\n",
        "        \n",
        "    def _set_name(self, name):\n",
        "        if not name:\n",
        "            raise Exception(\"Invalid Name\")\n",
        "        self._name = name\n",
        "        \n",
        "    def _get_name(self):\n",
        "        return self._name\n",
        "    name = property(_get_name, _set_name)"
      ],
      "id": "43359f2e",
      "execution_count": null,
      "outputs": []
    },
    {
      "cell_type": "code",
      "metadata": {
        "id": "36ab825b"
      },
      "source": [
        "c = Color(\"#0000ff\", \"bright red\")"
      ],
      "id": "36ab825b",
      "execution_count": null,
      "outputs": []
    },
    {
      "cell_type": "code",
      "metadata": {
        "id": "5176031c",
        "outputId": "26f244d5-6b63-4fb2-c3e2-728f1089ed75"
      },
      "source": [
        "c.name"
      ],
      "id": "5176031c",
      "execution_count": null,
      "outputs": [
        {
          "data": {
            "text/plain": [
              "'bright red'"
            ]
          },
          "execution_count": 20,
          "metadata": {},
          "output_type": "execute_result"
        }
      ]
    },
    {
      "cell_type": "code",
      "metadata": {
        "id": "fc516b84",
        "outputId": "7db2eb66-5596-4b9e-f87c-b2ce2dc710e3"
      },
      "source": [
        "c.name = \"\""
      ],
      "id": "fc516b84",
      "execution_count": null,
      "outputs": [
        {
          "ename": "Exception",
          "evalue": "Invalid Name",
          "output_type": "error",
          "traceback": [
            "\u001b[1;31m---------------------------------------------------------------------------\u001b[0m",
            "\u001b[1;31mException\u001b[0m                                 Traceback (most recent call last)",
            "\u001b[1;32m~\\AppData\\Local\\Temp/ipykernel_17936/1302826338.py\u001b[0m in \u001b[0;36m<module>\u001b[1;34m\u001b[0m\n\u001b[1;32m----> 1\u001b[1;33m \u001b[0mc\u001b[0m\u001b[1;33m.\u001b[0m\u001b[0mname\u001b[0m \u001b[1;33m=\u001b[0m \u001b[1;34m\"\"\u001b[0m\u001b[1;33m\u001b[0m\u001b[1;33m\u001b[0m\u001b[0m\n\u001b[0m",
            "\u001b[1;32m~\\AppData\\Local\\Temp/ipykernel_17936/1844039683.py\u001b[0m in \u001b[0;36m_set_name\u001b[1;34m(self, name)\u001b[0m\n\u001b[0;32m      7\u001b[0m     \u001b[1;32mdef\u001b[0m \u001b[0m_set_name\u001b[0m\u001b[1;33m(\u001b[0m\u001b[0mself\u001b[0m\u001b[1;33m,\u001b[0m \u001b[0mname\u001b[0m\u001b[1;33m)\u001b[0m\u001b[1;33m:\u001b[0m\u001b[1;33m\u001b[0m\u001b[1;33m\u001b[0m\u001b[0m\n\u001b[0;32m      8\u001b[0m         \u001b[1;32mif\u001b[0m \u001b[1;32mnot\u001b[0m \u001b[0mname\u001b[0m\u001b[1;33m:\u001b[0m\u001b[1;33m\u001b[0m\u001b[1;33m\u001b[0m\u001b[0m\n\u001b[1;32m----> 9\u001b[1;33m             \u001b[1;32mraise\u001b[0m \u001b[0mException\u001b[0m\u001b[1;33m(\u001b[0m\u001b[1;34m\"Invalid Name\"\u001b[0m\u001b[1;33m)\u001b[0m\u001b[1;33m\u001b[0m\u001b[1;33m\u001b[0m\u001b[0m\n\u001b[0m\u001b[0;32m     10\u001b[0m         \u001b[0mself\u001b[0m\u001b[1;33m.\u001b[0m\u001b[0m_name\u001b[0m \u001b[1;33m=\u001b[0m \u001b[0mname\u001b[0m\u001b[1;33m\u001b[0m\u001b[1;33m\u001b[0m\u001b[0m\n\u001b[0;32m     11\u001b[0m \u001b[1;33m\u001b[0m\u001b[0m\n",
            "\u001b[1;31mException\u001b[0m: Invalid Name"
          ]
        }
      ]
    },
    {
      "cell_type": "markdown",
      "metadata": {
        "id": "e2b0645d"
      },
      "source": [
        "So, if we'd previously written code to access the name attribute, and then changed\n",
        "it to use our property object, the previous code would still work, unless it was\n",
        "sending an empty property value, which is the behavior we wanted to forbid in\n",
        "the first place. Success!"
      ],
      "id": "e2b0645d"
    },
    {
      "cell_type": "markdown",
      "metadata": {
        "id": "1a786386"
      },
      "source": [
        "People can still access the _name attribute directly and set it to an empty\n",
        "string if they want to."
      ],
      "id": "1a786386"
    },
    {
      "cell_type": "markdown",
      "metadata": {
        "id": "d25f4999"
      },
      "source": [
        "### Properties in detail\n",
        "\n",
        "* In practice, properties are normally only defined with the first two parameters: the getter and setter functions.\n",
        "\n",
        "* If we want to supply a docstring for a property, we can define it on the getter function; the property proxy will copy it into its own docstring.\n",
        "\n",
        "* The deletion function is often left empty because object attributes are rarely deleted.\n",
        "\n",
        "* If a coder does try to delete a property that doesn't have a deletion function specified, it will raise an exception.\n",
        "\n",
        "* Therefore, if there is a legitimate reason to delete our property, we should supply that function."
      ],
      "id": "d25f4999"
    },
    {
      "cell_type": "code",
      "metadata": {
        "id": "f8a31f65"
      },
      "source": [
        "class Silly:\n",
        "    def _get_silly(self):\n",
        "        print(\"You are getting silly\")\n",
        "        return self._silly\n",
        "    def _set_silly(self, value):\n",
        "        print(\"You are making silly {}\".format(value))\n",
        "        self._silly = value\n",
        "    def _del_silly(self):\n",
        "        print(\"Whoah, you killed silly!\")\n",
        "        del self._silly\n",
        "        \n",
        "    # The property here is related by the object \"silly\", the coreesponding method is fired when we\n",
        "    # set/ get/ del the object\n",
        "    silly = property(_get_silly, _set_silly, _del_silly, \"This is a silly property\")"
      ],
      "id": "f8a31f65",
      "execution_count": null,
      "outputs": []
    },
    {
      "cell_type": "code",
      "metadata": {
        "id": "90dd221d"
      },
      "source": [
        "s = Silly()"
      ],
      "id": "90dd221d",
      "execution_count": null,
      "outputs": []
    },
    {
      "cell_type": "code",
      "metadata": {
        "id": "284fa40e",
        "outputId": "5acd0923-3e47-44a4-f0bf-98a12b6acabd"
      },
      "source": [
        "s.silly = \"funny\""
      ],
      "id": "284fa40e",
      "execution_count": null,
      "outputs": [
        {
          "name": "stdout",
          "output_type": "stream",
          "text": [
            "You are making silly funny\n"
          ]
        }
      ]
    },
    {
      "cell_type": "code",
      "metadata": {
        "id": "afe2cbcd",
        "outputId": "618ed97c-0bf1-4645-a56e-d024803c1b0e"
      },
      "source": [
        "s.silly"
      ],
      "id": "afe2cbcd",
      "execution_count": null,
      "outputs": [
        {
          "name": "stdout",
          "output_type": "stream",
          "text": [
            "You are getting silly\n"
          ]
        },
        {
          "data": {
            "text/plain": [
              "'funny'"
            ]
          },
          "execution_count": 27,
          "metadata": {},
          "output_type": "execute_result"
        }
      ]
    },
    {
      "cell_type": "code",
      "metadata": {
        "id": "89ee1335",
        "outputId": "64ace0db-bbf0-4377-f6e6-c3336639b364"
      },
      "source": [
        "del s.silly"
      ],
      "id": "89ee1335",
      "execution_count": null,
      "outputs": [
        {
          "name": "stdout",
          "output_type": "stream",
          "text": [
            "Whoah, you killed silly!\n"
          ]
        }
      ]
    },
    {
      "cell_type": "markdown",
      "metadata": {
        "id": "749ff65e"
      },
      "source": [
        "### Decorators – another way to create properties\n",
        "\n",
        "The property function can be used with the decorator syntax to turn a get function into a property:\n"
      ],
      "id": "749ff65e"
    },
    {
      "cell_type": "code",
      "metadata": {
        "id": "1dea417b"
      },
      "source": [
        "class Foo:\n",
        "    @property\n",
        "    def foo(self):\n",
        "        return \"bar\"\n",
        "    \n",
        "# This is equivalent to the previous foo = property(foo)\n",
        "\n",
        "    @foo.setter\n",
        "    def foo(self, value):\n",
        "        self._foo = value\n",
        "        \n",
        "    @foo.deleter\n",
        "    def foo(self):\n",
        "        del self._silly"
      ],
      "id": "1dea417b",
      "execution_count": null,
      "outputs": []
    },
    {
      "cell_type": "code",
      "metadata": {
        "id": "0193d314"
      },
      "source": [
        "# This class operates exactly the same as our earlier version\n",
        "class Silly:\n",
        "    @property\n",
        "    def silly(self):\n",
        "        \"This is a silly property\"\n",
        "        print(\"You are getting silly\")\n",
        "        return self._silly\n",
        "    \n",
        "    @silly.setter\n",
        "    def silly(self, value):\n",
        "        print(\"You are making silly {}\".format(value))\n",
        "        self._silly = value\n",
        "        \n",
        "    @silly.deleter\n",
        "    def silly(self):\n",
        "        print(\"Whoah, you killed silly!\")\n",
        "        del self._silly\n"
      ],
      "id": "0193d314",
      "execution_count": null,
      "outputs": []
    },
    {
      "cell_type": "code",
      "metadata": {
        "id": "c50aac3e",
        "outputId": "beeb2c1a-53c0-4929-93e3-bfa228bfa2c0"
      },
      "source": [
        "s = Silly()\n",
        "s.silly = \"funny\""
      ],
      "id": "c50aac3e",
      "execution_count": null,
      "outputs": [
        {
          "name": "stdout",
          "output_type": "stream",
          "text": [
            "You are making silly funny\n"
          ]
        }
      ]
    },
    {
      "cell_type": "code",
      "metadata": {
        "id": "39a3767b",
        "outputId": "bca84f1c-bc58-4da3-cb3f-75e5892c1d72"
      },
      "source": [
        "s.silly"
      ],
      "id": "39a3767b",
      "execution_count": null,
      "outputs": [
        {
          "name": "stdout",
          "output_type": "stream",
          "text": [
            "You are getting silly\n"
          ]
        },
        {
          "data": {
            "text/plain": [
              "'funny'"
            ]
          },
          "execution_count": 32,
          "metadata": {},
          "output_type": "execute_result"
        }
      ]
    },
    {
      "cell_type": "code",
      "metadata": {
        "id": "1b3a6ce8",
        "outputId": "eb01cbcc-8ac2-4c13-9ec2-f0919c0ed10d"
      },
      "source": [
        "del s.silly"
      ],
      "id": "1b3a6ce8",
      "execution_count": null,
      "outputs": [
        {
          "name": "stdout",
          "output_type": "stream",
          "text": [
            "Whoah, you killed silly!\n"
          ]
        }
      ]
    },
    {
      "cell_type": "markdown",
      "metadata": {
        "id": "8f1dc115"
      },
      "source": [
        "### Deciding when to use properties\n",
        "\n",
        "The only difference between an attribute and a property is that we can invoke custom actions automatically when a property is retrieved, set, or deleted.\n",
        "\n",
        "---\n",
        "#### For Example: caching a value that is difficult to calculate or expensive to look up\n",
        "\n",
        "1- The first time the value is retrieved, we perform the lookup or calculation.\n",
        "2- Then we could locally cache the value as a private attribute on our object.\n",
        "3- the next time the value is requested, we return the stored data.\n",
        "\n",
        "---\n",
        "Here's how we might cache a web page:"
      ],
      "id": "8f1dc115"
    },
    {
      "cell_type": "code",
      "metadata": {
        "id": "56fc655e"
      },
      "source": [
        "from urllib.request import urlopen\n",
        "\n",
        "class WebPage:\n",
        "    def __init__(self, url):\n",
        "        self.url = url\n",
        "        self._content = None\n",
        "        \n",
        "    @property\n",
        "    def content(self):\n",
        "        if not self._content:\n",
        "            print(\"Retrieving New Page...\")\n",
        "            self._content = urlopen(self.url).read()\n",
        "        return self._content"
      ],
      "id": "56fc655e",
      "execution_count": null,
      "outputs": []
    },
    {
      "cell_type": "code",
      "metadata": {
        "id": "6876740d"
      },
      "source": [
        "import time\n",
        "webpage = WebPage(\"http://ccphillips.net/\")"
      ],
      "id": "6876740d",
      "execution_count": null,
      "outputs": []
    },
    {
      "cell_type": "code",
      "metadata": {
        "id": "14a7d3f3",
        "outputId": "7cfa3ce4-65c6-456f-acee-b02db8de16bc"
      },
      "source": [
        "now = time.time()\n",
        "content1 = webpage.content\n",
        "time.time() - now"
      ],
      "id": "14a7d3f3",
      "execution_count": null,
      "outputs": [
        {
          "name": "stdout",
          "output_type": "stream",
          "text": [
            "Retrieving New Page...\n"
          ]
        },
        {
          "data": {
            "text/plain": [
              "2.3337314128875732"
            ]
          },
          "execution_count": 3,
          "metadata": {},
          "output_type": "execute_result"
        }
      ]
    },
    {
      "cell_type": "code",
      "metadata": {
        "id": "c4df3a79",
        "outputId": "ee0a63b7-4467-4f8d-ce8a-9fb1abdbd510"
      },
      "source": [
        "now = time.time()\n",
        "content2 = webpage.content\n",
        "time.time() - now"
      ],
      "id": "c4df3a79",
      "execution_count": null,
      "outputs": [
        {
          "data": {
            "text/plain": [
              "0.0"
            ]
          },
          "execution_count": 4,
          "metadata": {},
          "output_type": "execute_result"
        }
      ]
    },
    {
      "cell_type": "code",
      "metadata": {
        "id": "dd9e4870",
        "outputId": "97856044-dfc0-4330-87b7-1c06acfd8a27"
      },
      "source": [
        "content2 == content1"
      ],
      "id": "dd9e4870",
      "execution_count": null,
      "outputs": [
        {
          "data": {
            "text/plain": [
              "True"
            ]
          },
          "execution_count": 5,
          "metadata": {},
          "output_type": "execute_result"
        }
      ]
    },
    {
      "cell_type": "markdown",
      "metadata": {
        "id": "73dd1895"
      },
      "source": [
        "**Custom getters are also useful for attributes that need to be calculated on the fly, based on other object attributes. For example, we might want to calculate the average for a list of integers:**"
      ],
      "id": "73dd1895"
    },
    {
      "cell_type": "code",
      "metadata": {
        "id": "9ce439e7"
      },
      "source": [
        "class AverageList(list):\n",
        "    @property\n",
        "    def average(self):\n",
        "        return sum(self) / len(self)"
      ],
      "id": "9ce439e7",
      "execution_count": null,
      "outputs": []
    },
    {
      "cell_type": "code",
      "metadata": {
        "id": "82dc8727"
      },
      "source": [
        "x = AverageList([10,20,30,40,50])"
      ],
      "id": "82dc8727",
      "execution_count": null,
      "outputs": []
    },
    {
      "cell_type": "code",
      "metadata": {
        "id": "8f145263",
        "outputId": "7f6a364a-df72-485b-f083-8ec482bb152b"
      },
      "source": [
        "x.average"
      ],
      "id": "8f145263",
      "execution_count": null,
      "outputs": [
        {
          "data": {
            "text/plain": [
              "30.0"
            ]
          },
          "execution_count": 8,
          "metadata": {},
          "output_type": "execute_result"
        }
      ]
    },
    {
      "cell_type": "markdown",
      "metadata": {
        "id": "40df56c2"
      },
      "source": [
        "**Custom setters are useful for validation, as we've already seen, but they can also\n",
        "be used to proxy a value to another location. For example, we could add a content\n",
        "setter to the WebPage class that automatically logs into our web server and uploads\n",
        "a new page whenever the value is set.**"
      ],
      "id": "40df56c2"
    },
    {
      "cell_type": "markdown",
      "metadata": {
        "id": "11c8d705"
      },
      "source": [
        "## Manager objects\n",
        "\n",
        "Let's take a look at designing higher-level objects: the kinds of objects that manage other objects.\n",
        "\n",
        "---\n",
        "Management objects are more like office managers; they don't do the actual \"visible\" work out on the floor, but without them, there would be no communication.\n",
        "\n",
        "---\n",
        "the attributes on a management class tend to refer to other objects that do the \"visible\" work; the behaviors on such a class delegate to those other classes at the right time, and pass messages between them.\n",
        "\n",
        "---\n",
        "### Example, write a program that does a find and replace action for text files stored in a compressed ZIP file.\n",
        "\n",
        "We need objects to represent the ZIP file and each individual text file (in Python standard library).\n",
        "\n",
        "#### The manager object will be responsible for ensuring three steps occur in order:\n",
        "\n",
        "1. Unzipping the compressed file.\n",
        "2. Performing the find and replace action.\n",
        "3. Zipping up the new files."
      ],
      "id": "11c8d705"
    },
    {
      "cell_type": "code",
      "metadata": {
        "id": "38dbf2ab"
      },
      "source": [
        "import sys\n",
        "import shutil\n",
        "import zipfile\n",
        "from pathlib import Path\n",
        "\n",
        "class ZipReplace:\n",
        "    def __init__(self, filename, search_string, replace_string):\n",
        "        self.filename = filename\n",
        "        self.search_string = search_string\n",
        "        self.replace_string = replace_string\n",
        "        self.temp_directory = Path(\"unzipped-{}\".format(filename))\n",
        "\n",
        "    def zip_find_replace(self):\n",
        "        self.unzip_files()\n",
        "        self.find_replace()\n",
        "        self.zip_files()\n",
        "    \n",
        "    def unzip_files(self):\n",
        "        self.temp_directory.mkdir()\n",
        "        with zipfile.ZipFile(self.filename) as zip:\n",
        "            zip.extractall(str(self.temp_directory))\n",
        "            \n",
        "    def find_replace(self):\n",
        "        for filename in self.temp_directory.iterdir():\n",
        "            with filename.open() as file:\n",
        "                contents = file.read()\n",
        "            contents = contents.replace(self.search_string, self.replace_string)\n",
        "            with filename.open(\"w\") as file:\n",
        "                file.write(contents)\n",
        "                \n",
        "    def zip_files(self):\n",
        "        with zipfile.ZipFile(self.filename, 'w') as file:\n",
        "            for filename in self.temp_directory.iterdir():\n",
        "                file.write(str(filename), filename.name)\n",
        "        shutil.rmtree(str(self.temp_directory))\n",
        "\n",
        "# # to run the program from the command line by passing the zip filename, search string, and replace string as arguments:\n",
        "# if __name__ == \"__main__\":\n",
        "#     ZipReplace(*sys.argv[1:4]).zip_find_replace()\n",
        "\n",
        "# python zipsearch.py hello.zip hello hi    "
      ],
      "id": "38dbf2ab",
      "execution_count": null,
      "outputs": []
    },
    {
      "cell_type": "markdown",
      "metadata": {
        "id": "9d41f249"
      },
      "source": [
        "### Why don't we use just a script ?\n",
        "\n",
        "1. Readability: The code for each step is in a self-contained unit that is easy to read and understand.\n",
        "\n",
        "2. Extensibility: If a subclass wanted to use compressed TAR files instead of ZIP files, it could override the zip and unzip methods without having to duplicate the find_replace method.\n",
        "\n",
        "3. Partitioning: An external class could create an instance of this class and call the find_replace method directly on some folder without having to zip the content."
      ],
      "id": "9d41f249"
    },
    {
      "cell_type": "markdown",
      "metadata": {
        "id": "8ab90a56"
      },
      "source": [
        "## Removing duplicate code\n",
        "\n",
        "why is duplicate code a bad thing?\n",
        "\n",
        "    All reasons boil down to readability and maintainability\n",
        "\n",
        "\n",
        "### In practice\n",
        "\n",
        "#### In the previous example, we want to scale all the images in a ZIP file to 640 x 480:\n",
        "\n",
        "The first impulse might be to save a copy of that file and change the find_replace method to scale_image or something similar.\n",
        "\n",
        "---\n",
        "\n",
        "#### We will use inheritance, in case we want in the future to apply another functionality\n",
        "We will convert our clss to superclass"
      ],
      "id": "8ab90a56"
    },
    {
      "cell_type": "code",
      "metadata": {
        "id": "5015421b"
      },
      "source": [
        "import sys\n",
        "import shutil\n",
        "import zipfile\n",
        "from pathlib import Path\n",
        "\n",
        "class ZipProcessor:\n",
        "    def __init__(self, zipname):\n",
        "        \n",
        "        self.zipname = zipname\n",
        "        self.temp_directory = Path(\"unzipped-{}\".format(zipname[:-4]))\n",
        "\n",
        "    def process_zip(self):\n",
        "        self.unzip_files()\n",
        "        self.process_files()\n",
        "        self.zip_files()\n",
        "    \n",
        "    def unzip_files(self):\n",
        "        self.temp_directory.mkdir()\n",
        "        with zipfile.ZipFile(self.zipname) as zip:\n",
        "            zip.extractall(str(self.temp_directory))\n",
        "            \n",
        "               \n",
        "    def zip_files(self):\n",
        "        with zipfile.ZipFile(self.zipname, 'w') as file:\n",
        "            for filename in self.temp_directory.iterdir():\n",
        "                file.write(str(filename), filename.name)\n",
        "        shutil.rmtree(str(self.temp_directory))\n"
      ],
      "id": "5015421b",
      "execution_count": null,
      "outputs": []
    },
    {
      "cell_type": "code",
      "metadata": {
        "id": "707770d6"
      },
      "source": [
        "import sys\n",
        "import os\n",
        "\n",
        "\n",
        "class ZipReplace(ZipProcessor):\n",
        "    def __init__(self, filename, search_string, replace_string):\n",
        "        super().__init__(filename)\n",
        "        self.search_string = search_string\n",
        "        self.replace_string = replace_string\n",
        "        \n",
        "    def process_files(self):\n",
        "        # perform a search and replace on all files in the temporary directory\n",
        "        for filename in self.temp_directory.iterdir():\n",
        "            with filename.open() as file:\n",
        "                contents = file.read()\n",
        "            contents = contents.replace(self.search_string, self.replace_string)\n",
        "            with filename.open(\"w\") as file:\n",
        "                file.write(contents)\n",
        "                \n",
        "# if __name__ == \"__main__\":\n",
        "#     ZipReplace(*sys.argv[1:4]).process_zip()\n",
        "\n",
        "# python ZipReplace.py hello.zip hello hi    "
      ],
      "id": "707770d6",
      "execution_count": null,
      "outputs": []
    },
    {
      "cell_type": "markdown",
      "metadata": {
        "id": "01695dfb"
      },
      "source": [
        "**This program isn't functionally different from the one we started with! But it's much easier for us to write other classes That do diffrent process, such as: unzipping file, scale photos, then zip files again.**"
      ],
      "id": "01695dfb"
    },
    {
      "cell_type": "code",
      "metadata": {
        "id": "ce62e040"
      },
      "source": [
        "import sys\n",
        "from PIL import Image\n",
        "\n",
        "\n",
        "class ScaleZip(ZipProcessor):\n",
        "    def process_files(self):\n",
        "        '''Scale each image in the directory to 640x480'''\n",
        "        for filename in self.temp_directory.iterdir():\n",
        "            im = Image.open(str(filename))\n",
        "            scaled = im.resize((640, 480))\n",
        "            scaled.save(str(filename))\n",
        "            \n",
        "# if __name__ == \"__main__\":\n",
        "#     ScaleZip(*sys.argv[1:4]).process_zip()            "
      ],
      "id": "ce62e040",
      "execution_count": null,
      "outputs": []
    },
    {
      "cell_type": "markdown",
      "metadata": {
        "id": "6ea12f8e"
      },
      "source": [
        "## Case Study\n",
        "\n",
        "when should I choose an object versus a built-in type?\n",
        "\n",
        "---\n",
        "We'll be modeling a Document class that might be used in a text editor or word processor.\n",
        "\n",
        "---\n",
        "What objects, functions, or properties should it have?\n",
        "\n",
        "---\n",
        "strings aren't mutable in python (able to be changed), So we will use character based code for simplicity. \n",
        "\n",
        "---\n",
        "Document class would need to know the current cursor position within the list, and should probably also store a filename for the document.\n",
        "\n",
        "---\n",
        "### what methods should it have?\n",
        "\n",
        " * inserting, deleting, and selecting characters, cut, copy, paste, the selection, and saving or closing the document.\n",
        " \n",
        " * str filenames, int cursor positions, and a list of characters"
      ],
      "id": "6ea12f8e"
    },
    {
      "cell_type": "code",
      "metadata": {
        "id": "86ec9208"
      },
      "source": [
        "class Document:\n",
        "    def __init__(self):\n",
        "        self.filename = ''\n",
        "        self.characters = []\n",
        "        self.cursor = 0\n",
        "        \n",
        "    def insert(self, character):\n",
        "        self.characters.insert(self.cursor, character )\n",
        "        self.forward()\n",
        "        \n",
        "    def delete(self):\n",
        "        del self.characters[ self.cursor -1]\n",
        "        self.back()\n",
        "    \n",
        "    def save(self):\n",
        "        with open(self.filename, 'w') as f:\n",
        "            f.write(\"\".join(self.characters))\n",
        "            \n",
        "    def forward(self):\n",
        "        self.cursor += 1\n",
        "        \n",
        "    def back(self):\n",
        "        self.cursor -= 1"
      ],
      "id": "86ec9208",
      "execution_count": null,
      "outputs": []
    },
    {
      "cell_type": "markdown",
      "metadata": {
        "id": "f322e9f0"
      },
      "source": [
        "**Let's try our class:**"
      ],
      "id": "f322e9f0"
    },
    {
      "cell_type": "code",
      "metadata": {
        "id": "0330b0b0"
      },
      "source": [
        "document = Document()\n",
        "document.filename = 'file.txt'"
      ],
      "id": "0330b0b0",
      "execution_count": null,
      "outputs": []
    },
    {
      "cell_type": "code",
      "metadata": {
        "id": "6016130f"
      },
      "source": [
        "document.insert('h')\n",
        "document.insert('l')\n",
        "document.insert('l')\n",
        "document.insert('o')\n",
        "document.insert(' ')\n",
        "document.insert('w')\n",
        "document.insert('r')\n",
        "document.insert('l')\n",
        "document.insert('d')"
      ],
      "id": "6016130f",
      "execution_count": null,
      "outputs": []
    },
    {
      "cell_type": "code",
      "metadata": {
        "id": "c8d6a650",
        "outputId": "49d08e8b-f312-41b8-f96e-d91da09d236a"
      },
      "source": [
        "\"\".join(document.characters)"
      ],
      "id": "c8d6a650",
      "execution_count": null,
      "outputs": [
        {
          "data": {
            "text/plain": [
              "'hllo wrld'"
            ]
          },
          "execution_count": 18,
          "metadata": {},
          "output_type": "execute_result"
        }
      ]
    },
    {
      "cell_type": "code",
      "metadata": {
        "id": "3cfd05ce",
        "outputId": "2f282e56-83d7-410b-ff48-f151e7ec4c54"
      },
      "source": [
        "document.cursor"
      ],
      "id": "3cfd05ce",
      "execution_count": null,
      "outputs": [
        {
          "data": {
            "text/plain": [
              "9"
            ]
          },
          "execution_count": 20,
          "metadata": {},
          "output_type": "execute_result"
        }
      ]
    },
    {
      "cell_type": "code",
      "metadata": {
        "id": "54c969a1"
      },
      "source": [
        "document.delete()"
      ],
      "id": "54c969a1",
      "execution_count": null,
      "outputs": []
    },
    {
      "cell_type": "code",
      "metadata": {
        "id": "33655931",
        "outputId": "5027d72c-c388-4dc3-f42f-716fa8a67bcf"
      },
      "source": [
        "document.cursor"
      ],
      "id": "33655931",
      "execution_count": null,
      "outputs": [
        {
          "data": {
            "text/plain": [
              "8"
            ]
          },
          "execution_count": 22,
          "metadata": {},
          "output_type": "execute_result"
        }
      ]
    },
    {
      "cell_type": "code",
      "metadata": {
        "id": "2397e411",
        "outputId": "28d9a328-0401-4ee9-8ad6-f5a3cdc162dc"
      },
      "source": [
        "\"\".join(document.characters)"
      ],
      "id": "2397e411",
      "execution_count": null,
      "outputs": [
        {
          "data": {
            "text/plain": [
              "'hllo wrl'"
            ]
          },
          "execution_count": 23,
          "metadata": {},
          "output_type": "execute_result"
        }
      ]
    },
    {
      "cell_type": "code",
      "metadata": {
        "id": "be4c2e4b"
      },
      "source": [
        "document.save()"
      ],
      "id": "be4c2e4b",
      "execution_count": null,
      "outputs": []
    },
    {
      "cell_type": "markdown",
      "metadata": {
        "id": "029de722"
      },
      "source": [
        "### What if we want to connect the Home and End keys as well?\n",
        "\n",
        "We could add more methods to the Document class that search forward or backwards for newline characters in the string and jump to them.\n",
        "\n",
        "but if we did that for every possible movement action (move by words, move by sentences, Page Up, Page Down, end of line, beginning of whitespace, and more), the class would be huge"
      ],
      "id": "029de722"
    },
    {
      "cell_type": "code",
      "metadata": {
        "id": "5a7e0285"
      },
      "source": [
        "class Cursor:\n",
        "    def __init__(self, document):\n",
        "        self.document = document\n",
        "        self.position = 0\n",
        "        \n",
        "    def forward(self):\n",
        "        self.position += 1\n",
        "        \n",
        "    def back(self):\n",
        "        self.position -= 1\n",
        "        \n",
        "    def home(self):\n",
        "        while self.document.characters[self.position-1] != '\\n':\n",
        "            self.position -= 1\n",
        "            if self.position == 0:\n",
        "                # Got to beginning of file before newline\n",
        "                break\n",
        "        \n",
        "    def end(self):\n",
        "        while self.position < len(self.document.characters) and self.document.characters[self.position] != '\\n':\n",
        "            self.position += 1"
      ],
      "id": "5a7e0285",
      "execution_count": null,
      "outputs": []
    },
    {
      "cell_type": "code",
      "metadata": {
        "id": "22bf5286"
      },
      "source": [
        "class Document:\n",
        "    def __init__(self):\n",
        "        self.characters = []\n",
        "        self.cursor = Cursor(self)                # Composition\n",
        "        self.filename = ''\n",
        "        \n",
        "    def insert(self, character):\n",
        "        self.characters.insert(self.cursor.position, character)\n",
        "        self.cursor.forward()\n",
        "        \n",
        "    def delete(self):\n",
        "        del self.characters[self.cursor.position]\n",
        "        \n",
        "    def save(self):\n",
        "        f = open(self.filename, 'w')\n",
        "        f.write(''.join(self.characters))\n",
        "        f.close()\n",
        "        \n",
        "    @property\n",
        "    def string(self):\n",
        "        return \"\".join(self.characters)"
      ],
      "id": "22bf5286",
      "execution_count": null,
      "outputs": []
    },
    {
      "cell_type": "code",
      "metadata": {
        "id": "b980c2a3"
      },
      "source": [
        "document = Document()\n",
        "document.insert('h')\n",
        "document.insert('l')\n",
        "document.insert('l')\n",
        "document.insert('o')\n",
        "document.insert('\\n')\n",
        "document.insert('w')\n",
        "document.insert('r')\n",
        "document.insert('l')\n",
        "document.insert('d')"
      ],
      "id": "b980c2a3",
      "execution_count": null,
      "outputs": []
    },
    {
      "cell_type": "code",
      "metadata": {
        "id": "6343eb22"
      },
      "source": [
        "document.cursor.home()\n",
        "document.insert('*')\n"
      ],
      "id": "6343eb22",
      "execution_count": null,
      "outputs": []
    },
    {
      "cell_type": "code",
      "metadata": {
        "id": "ea7660af",
        "outputId": "d73c2d0c-a2d3-4cc0-b8d9-ceae8ee262f1"
      },
      "source": [
        "document.characters"
      ],
      "id": "ea7660af",
      "execution_count": null,
      "outputs": [
        {
          "data": {
            "text/plain": [
              "['h', 'l', 'l', 'o', '\\n', '*', 'w', 'r', 'l', 'd']"
            ]
          },
          "execution_count": 29,
          "metadata": {},
          "output_type": "execute_result"
        }
      ]
    },
    {
      "cell_type": "code",
      "metadata": {
        "id": "cc5d3af3",
        "outputId": "64d37c67-da8b-4c34-efb9-3b4caa72ce5b"
      },
      "source": [
        "print(\"\".join(document.characters))"
      ],
      "id": "cc5d3af3",
      "execution_count": null,
      "outputs": [
        {
          "name": "stdout",
          "output_type": "stream",
          "text": [
            "hllo\n",
            "*wrld\n"
          ]
        }
      ]
    },
    {
      "cell_type": "markdown",
      "metadata": {
        "id": "cad11ed1"
      },
      "source": [
        "### since we've been using that string join function a lot, we can add it as a property to the Document"
      ],
      "id": "cad11ed1"
    },
    {
      "cell_type": "code",
      "metadata": {
        "id": "3fc368b8",
        "outputId": "e1a25cbd-dd78-449e-8f0d-45330eb74e2b"
      },
      "source": [
        "document.string"
      ],
      "id": "3fc368b8",
      "execution_count": null,
      "outputs": [
        {
          "data": {
            "text/plain": [
              "'hllo\\n*wrld'"
            ]
          },
          "execution_count": 31,
          "metadata": {},
          "output_type": "execute_result"
        }
      ]
    },
    {
      "cell_type": "markdown",
      "metadata": {
        "id": "baa4b977"
      },
      "source": [
        "### let's extend it to work for rich text; text that can have bold, underlined, or italic characters.\n",
        "\n",
        "* if the Character class won't have any methods, we should use one of the many Python data structures instead.\n",
        "\n",
        "* we might want to do things with characters, such as delete or copy them, but those are things that need to be handled at the Document level.\n",
        "\n",
        "---\n",
        "There is a very important special method on the object class called __str__ which is used in string manipulation functions like print and the str constructor to convert any class to a string.\n",
        "\n",
        "\n",
        "The default implementation does some boring stuff like printing the name of the module and class and its address in memory.\n",
        "\n",
        "\n",
        "But if we override it, we can make it print whatever we like.\n",
        "\n",
        "\n",
        "we could make it prefix characters with special characters\n",
        "to represent whether they are bold, italic, or underlined. So, we will create a class\n",
        "to represent a character, and here it is:"
      ],
      "id": "baa4b977"
    },
    {
      "cell_type": "code",
      "metadata": {
        "id": "6acefb3a"
      },
      "source": [
        "class Character:\n",
        "    def __init__(self, character,bold=False, italic=False, underline=False):\n",
        "        assert len(character) == 1\n",
        "        self.character = character\n",
        "        self.bold = bold\n",
        "        self.italic = italic\n",
        "        self.underline = underline\n",
        "        \n",
        "    def __str__(self):\n",
        "        bold = \"*\" if self.bold else ''\n",
        "        italic = \"/\" if self.italic else ''\n",
        "        underline = \"_\" if self.underline else ''\n",
        "        return bold + italic + underline + self.character"
      ],
      "id": "6acefb3a",
      "execution_count": null,
      "outputs": []
    },
    {
      "cell_type": "markdown",
      "metadata": {
        "id": "105c6940"
      },
      "source": [
        "In the Document class, we add these two lines at the beginning of the insert method\n",
        "\n",
        "---\n",
        "In addition, we need to modify the string property on Document to accept the new Character values. All we need to do is call str() on each character before we join it:"
      ],
      "id": "105c6940"
    },
    {
      "cell_type": "code",
      "metadata": {
        "id": "6a762df0"
      },
      "source": [
        "class Document:\n",
        "    def __init__(self):\n",
        "        self.characters = []\n",
        "        self.cursor = Cursor(self)\n",
        "        self.filename = ''\n",
        "        \n",
        "    def insert(self, character):\n",
        "        \n",
        "        '''\n",
        "        check whether the character being passed in is a Character or a str. \n",
        "        If it is a string, it is wrapped in a Character class so all objects\n",
        "        in the list are Character objects.\n",
        "        '''\n",
        "        if not hasattr(character, 'character'):\n",
        "            character = Character(character)       # Composition\n",
        "            \n",
        "        self.characters.insert(self.cursor.position, character)\n",
        "        self.cursor.forward()\n",
        "        \n",
        "    def delete(self):\n",
        "        del self.characters[self.cursor.position]\n",
        "        \n",
        "    def save(self):\n",
        "        f = open(self.filename, 'w')\n",
        "        f.write(''.join(self.characters))\n",
        "        f.close()\n",
        "        \n",
        "    @property\n",
        "    def string(self):\n",
        "        return \"\".join((str(c) for c in self.characters))"
      ],
      "id": "6a762df0",
      "execution_count": null,
      "outputs": []
    },
    {
      "cell_type": "markdown",
      "metadata": {
        "id": "ca768d31"
      },
      "source": [
        "Finally, we also need to check Character.character at home and end methods"
      ],
      "id": "ca768d31"
    },
    {
      "cell_type": "code",
      "metadata": {
        "id": "ccef027b"
      },
      "source": [
        "class Cursor:\n",
        "    def __init__(self, document):\n",
        "        self.document = document\n",
        "        self.position = 0\n",
        "        \n",
        "    def forward(self):\n",
        "        self.position += 1\n",
        "        \n",
        "    def back(self):\n",
        "        self.position -= 1\n",
        "        \n",
        "    def home(self):\n",
        "        while self.document.characters[self.position-1].character != '\\n':\n",
        "            self.position -= 1\n",
        "            if self.position == 0:\n",
        "                # Got to beginning of file before newline\n",
        "                break\n",
        "        \n",
        "    def end(self):\n",
        "        while self.position < len(self.document.characters) and self.document.characters[self.position].character != '\\n':\n",
        "            self.position += 1"
      ],
      "id": "ccef027b",
      "execution_count": null,
      "outputs": []
    },
    {
      "cell_type": "code",
      "metadata": {
        "id": "090c8699"
      },
      "source": [
        "d = Document()"
      ],
      "id": "090c8699",
      "execution_count": null,
      "outputs": []
    },
    {
      "cell_type": "code",
      "metadata": {
        "id": "7dd634db"
      },
      "source": [
        "d.insert('h')\n",
        "d.insert('e')\n",
        "d.insert(Character('l', bold=True))\n",
        "d.insert(Character('l', bold=True))\n",
        "d.insert('o')\n",
        "d.insert('\\n')\n",
        "d.insert(Character('w', italic=True))\n",
        "d.insert(Character('o', italic=True))\n",
        "d.insert(Character('r', underline=True))\n",
        "d.insert('l')\n",
        "d.insert('d')"
      ],
      "id": "7dd634db",
      "execution_count": null,
      "outputs": []
    },
    {
      "cell_type": "code",
      "metadata": {
        "id": "cf94e7f5",
        "outputId": "6ef4c5b5-8838-468f-cce3-4de736f434e2"
      },
      "source": [
        "print(d.string)"
      ],
      "id": "cf94e7f5",
      "execution_count": null,
      "outputs": [
        {
          "name": "stdout",
          "output_type": "stream",
          "text": [
            "he*l*lo\n",
            "/w/o_rld\n"
          ]
        }
      ]
    },
    {
      "cell_type": "code",
      "metadata": {
        "id": "7e74ea93"
      },
      "source": [
        "d.characters[0].underline = True"
      ],
      "id": "7e74ea93",
      "execution_count": null,
      "outputs": []
    },
    {
      "cell_type": "code",
      "metadata": {
        "id": "0069bdbe",
        "outputId": "64d2d411-502d-4a26-ad0c-169e268a1d5c"
      },
      "source": [
        "print(d.string)"
      ],
      "id": "0069bdbe",
      "execution_count": null,
      "outputs": [
        {
          "name": "stdout",
          "output_type": "stream",
          "text": [
            "_he*l*lo\n",
            "/w/o_rld\n"
          ]
        }
      ]
    },
    {
      "cell_type": "code",
      "metadata": {
        "id": "44345a83"
      },
      "source": [
        ""
      ],
      "id": "44345a83",
      "execution_count": null,
      "outputs": []
    }
  ]
}