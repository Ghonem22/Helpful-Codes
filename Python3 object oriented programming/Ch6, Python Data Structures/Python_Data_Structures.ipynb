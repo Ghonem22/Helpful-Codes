{
  "cells": [
    {
      "cell_type": "markdown",
      "metadata": {
        "id": "view-in-github",
        "colab_type": "text"
      },
      "source": [
        "<a href=\"https://colab.research.google.com/github/Ghonem22/Learning/blob/main/Python3%20object%20oriented%20programming/Ch6%2C%20Python%20Data%20Structures/Python_Data_Structures.ipynb\" target=\"_parent\"><img src=\"https://colab.research.google.com/assets/colab-badge.svg\" alt=\"Open In Colab\"/></a>"
      ]
    },
    {
      "cell_type": "markdown",
      "id": "5754a92c",
      "metadata": {
        "id": "5754a92c"
      },
      "source": [
        "# CH6: Python Data Structures"
      ]
    },
    {
      "cell_type": "markdown",
      "id": "71669a33",
      "metadata": {
        "id": "71669a33"
      },
      "source": [
        "## What will this chapter cover?\n",
        "\n",
        "- Tuples and named tuples\n",
        "- Dictionaries\n",
        "- Lists and sets\n",
        "- How and why to extend built-in objects\n",
        "- Three types of queues"
      ]
    },
    {
      "cell_type": "markdown",
      "id": "8fb7d54e",
      "metadata": {
        "id": "8fb7d54e"
      },
      "source": [
        "## Empty objects\n",
        "\n",
        "* It's the most basic Python built-in, every class inherit from it by default.\n",
        "* we can instantiate an object without writing a subclass\n",
        "* it's not possible to set any attributes on an object that was instantiated directly to save memory."
      ]
    },
    {
      "cell_type": "code",
      "execution_count": null,
      "id": "fd38101c",
      "metadata": {
        "id": "fd38101c",
        "outputId": "39d0b2ca-e5f8-41d6-9958-31bb16913463"
      },
      "outputs": [
        {
          "ename": "AttributeError",
          "evalue": "'object' object has no attribute 'x'",
          "output_type": "error",
          "traceback": [
            "\u001b[1;31m---------------------------------------------------------------------------\u001b[0m",
            "\u001b[1;31mAttributeError\u001b[0m                            Traceback (most recent call last)",
            "\u001b[1;32m~\\AppData\\Local\\Temp/ipykernel_3800/4125208658.py\u001b[0m in \u001b[0;36m<module>\u001b[1;34m\u001b[0m\n\u001b[0;32m      1\u001b[0m \u001b[0mo\u001b[0m \u001b[1;33m=\u001b[0m \u001b[0mobject\u001b[0m\u001b[1;33m(\u001b[0m\u001b[1;33m)\u001b[0m\u001b[1;33m\u001b[0m\u001b[1;33m\u001b[0m\u001b[0m\n\u001b[1;32m----> 2\u001b[1;33m \u001b[0mo\u001b[0m\u001b[1;33m.\u001b[0m\u001b[0mx\u001b[0m \u001b[1;33m=\u001b[0m \u001b[1;36m5\u001b[0m\u001b[1;33m\u001b[0m\u001b[1;33m\u001b[0m\u001b[0m\n\u001b[0m",
            "\u001b[1;31mAttributeError\u001b[0m: 'object' object has no attribute 'x'"
          ]
        }
      ],
      "source": [
        "o = object()\n",
        "o.x = 5"
      ]
    },
    {
      "cell_type": "markdown",
      "id": "1c8b76e3",
      "metadata": {
        "id": "1c8b76e3"
      },
      "source": [
        "**What will happen if python allow to set attributes to object?**\n",
        "\n",
        "* it takes a certain amount of system memory to keep track of what attributes each object has, for storing both the attribute name and its value.\n",
        "\n",
        "* Even if no attributes are stored, memory is allocated for potential new attributes.\n",
        "\n",
        "**This will consume alot of memory (every class extends object).**\n",
        "\n",
        "---\n",
        "It is possible to restrict arbitrary properties on our own classes using **slots**.\n",
        "\n",
        "**Resource:**\n",
        "\n",
        "https://python-course.eu/oop/slots-avoiding-dynamically-created-attributes.php"
      ]
    },
    {
      "cell_type": "code",
      "execution_count": null,
      "id": "77ea7b9e",
      "metadata": {
        "id": "77ea7b9e",
        "outputId": "03a15e39-d9ff-4817-b4a0-f587d78f97f9"
      },
      "outputs": [
        {
          "name": "stdout",
          "output_type": "stream",
          "text": [
            "42\n"
          ]
        },
        {
          "ename": "AttributeError",
          "evalue": "'S' object has no attribute 'new'",
          "output_type": "error",
          "traceback": [
            "\u001b[1;31m---------------------------------------------------------------------------\u001b[0m",
            "\u001b[1;31mAttributeError\u001b[0m                            Traceback (most recent call last)",
            "\u001b[1;32m~\\AppData\\Local\\Temp/ipykernel_3800/4105023829.py\u001b[0m in \u001b[0;36m<module>\u001b[1;34m\u001b[0m\n\u001b[0;32m     10\u001b[0m \u001b[0mprint\u001b[0m\u001b[1;33m(\u001b[0m\u001b[0mx\u001b[0m\u001b[1;33m.\u001b[0m\u001b[0mval\u001b[0m\u001b[1;33m)\u001b[0m\u001b[1;33m\u001b[0m\u001b[1;33m\u001b[0m\u001b[0m\n\u001b[0;32m     11\u001b[0m \u001b[1;33m\u001b[0m\u001b[0m\n\u001b[1;32m---> 12\u001b[1;33m \u001b[0mx\u001b[0m\u001b[1;33m.\u001b[0m\u001b[0mnew\u001b[0m \u001b[1;33m=\u001b[0m \u001b[1;34m\"not possible\"\u001b[0m\u001b[1;33m\u001b[0m\u001b[1;33m\u001b[0m\u001b[0m\n\u001b[0m",
            "\u001b[1;31mAttributeError\u001b[0m: 'S' object has no attribute 'new'"
          ]
        }
      ],
      "source": [
        "class S(object):\n",
        "\n",
        "    __slots__ = ['val']\n",
        "\n",
        "    def __init__(self, v):\n",
        "        self.val = v\n",
        "\n",
        "\n",
        "x = S(42)\n",
        "print(x.val)\n",
        "\n",
        "x.new = \"not possible\"\n"
      ]
    },
    {
      "cell_type": "code",
      "execution_count": null,
      "id": "95ad86c1",
      "metadata": {
        "id": "95ad86c1",
        "outputId": "12d15e17-1873-4512-c7bb-217bc1f84944"
      },
      "outputs": [
        {
          "data": {
            "text/plain": [
              "['val']"
            ]
          },
          "execution_count": 3,
          "metadata": {},
          "output_type": "execute_result"
        }
      ],
      "source": [
        "x.__slots__"
      ]
    },
    {
      "cell_type": "markdown",
      "id": "d70fe462",
      "metadata": {
        "id": "d70fe462"
      },
      "source": [
        "**If we created an empty class like this, We will be able to set attributes:**"
      ]
    },
    {
      "cell_type": "code",
      "execution_count": null,
      "id": "b6c73d9d",
      "metadata": {
        "id": "b6c73d9d",
        "outputId": "ea066281-276e-4626-fe43-8034d413ed40"
      },
      "outputs": [
        {
          "data": {
            "text/plain": [
              "'hello'"
            ]
          },
          "execution_count": 4,
          "metadata": {},
          "output_type": "execute_result"
        }
      ],
      "source": [
        "class MyObject:\n",
        "    pass\n",
        "\n",
        "m = MyObject()\n",
        "m.x = \"hello\"\n",
        "m.x "
      ]
    },
    {
      "cell_type": "markdown",
      "id": "0b087636",
      "metadata": {
        "id": "0b087636"
      },
      "source": [
        "## Tuples and named tuples\n",
        "\n",
        "* Store a specific number of other objects in order.\n",
        "* Immutable (if you need to modify a tuple, you're using the wrong data type)\n",
        "* we can use them as keys in dictionaries\n",
        "* used to store data not behaviors.\n",
        "* Can be used to aggregate different pieces of data together into one container.\n",
        "* \n",
        "* "
      ]
    },
    {
      "cell_type": "code",
      "execution_count": null,
      "id": "d4ae9b7c",
      "metadata": {
        "id": "d4ae9b7c",
        "outputId": "438d3378-a573-437c-c444-bf8cb5119d82"
      },
      "outputs": [
        {
          "data": {
            "text/plain": [
              "('FB', 75.0, 75.03, 74.9)"
            ]
          },
          "execution_count": 6,
          "metadata": {},
          "output_type": "execute_result"
        }
      ],
      "source": [
        "stock = \"FB\", 75.00, 75.03, 74.90\n",
        "stock"
      ]
    },
    {
      "cell_type": "code",
      "execution_count": null,
      "id": "bb928264",
      "metadata": {
        "id": "bb928264",
        "outputId": "6426cdba-19cb-4cb5-db10-6904ff4d0e7c"
      },
      "outputs": [
        {
          "data": {
            "text/plain": [
              "('FB', 75.0, 75.03, 74.9)"
            ]
          },
          "execution_count": 7,
          "metadata": {},
          "output_type": "execute_result"
        }
      ],
      "source": [
        "stock2 = (\"FB\", 75.00, 75.03, 74.90)\n",
        "stock2"
      ]
    },
    {
      "cell_type": "code",
      "execution_count": null,
      "id": "8221fb31",
      "metadata": {
        "id": "8221fb31",
        "outputId": "53c9831b-a613-44eb-bf2b-b8ffd4276307"
      },
      "outputs": [
        {
          "data": {
            "text/plain": [
              "(75.0, 75.03)"
            ]
          },
          "execution_count": 11,
          "metadata": {},
          "output_type": "execute_result"
        }
      ],
      "source": [
        "stock2[1:3]"
      ]
    },
    {
      "cell_type": "code",
      "execution_count": null,
      "id": "75576dfe",
      "metadata": {
        "id": "75576dfe",
        "outputId": "20c23a02-7093-403c-e71d-6e8d0d12fd52"
      },
      "outputs": [
        {
          "data": {
            "text/plain": [
              "(74.965, datetime.date(2014, 10, 31))"
            ]
          },
          "execution_count": 10,
          "metadata": {},
          "output_type": "execute_result"
        }
      ],
      "source": [
        "import datetime\n",
        "def middle(stock, date):\n",
        "    symbol, current, high, low = stock          # Here we could easily inpack the tuple values.\n",
        "    return (((high + low) / 2), date)\n",
        "\n",
        "middle(stock, datetime.date(2014, 10, 31))"
      ]
    },
    {
      "cell_type": "markdown",
      "id": "937904b9",
      "metadata": {
        "id": "937904b9"
      },
      "source": [
        "**It's easy to unpack tuples or get a slice, but try to use it only when you know that all the values are going to be useful at once and it's normally going to be unpacked when it is accessed.**"
      ]
    },
    {
      "cell_type": "markdown",
      "id": "4d434b65",
      "metadata": {
        "id": "4d434b65"
      },
      "source": [
        "### Named tuples\n",
        "\n",
        "**what do we do when we want to group values together, but know we're frequently going to need to access them individually?**\n",
        "\n",
        "1. we could use a dictionary (most useful if we don't know exactly how many or which specific data will be stored)\n",
        "\n",
        "2. we can use a named tuple, especially if we know in advance what attributes we need to store"
      ]
    },
    {
      "cell_type": "code",
      "execution_count": null,
      "id": "6b256bce",
      "metadata": {
        "id": "6b256bce"
      },
      "outputs": [],
      "source": [
        "from collections import namedtuple\n",
        "Stock = namedtuple(\"Stock\", \"symbol current high low\")\n",
        "stock = Stock(\"FB\", 75.00, high=75.03, low=74.90)"
      ]
    },
    {
      "cell_type": "markdown",
      "id": "b1d40a06",
      "metadata": {
        "id": "b1d40a06"
      },
      "source": [
        "**The namedtuple constructor accepts two arguments. The first is an identifier for the named tuple.\n",
        "The second is a string of space-separated (or comma) attributes that the named tuple can have**"
      ]
    },
    {
      "cell_type": "code",
      "execution_count": null,
      "id": "e96d1030",
      "metadata": {
        "id": "e96d1030",
        "outputId": "9c24f439-fcb9-41e1-ed99-ef0e60650d5c"
      },
      "outputs": [
        {
          "data": {
            "text/plain": [
              "('FB', 75.0, 75.03, 74.9)"
            ]
          },
          "execution_count": 14,
          "metadata": {},
          "output_type": "execute_result"
        }
      ],
      "source": [
        "stock.symbol, stock.current, stock.high, stock.low"
      ]
    },
    {
      "cell_type": "markdown",
      "id": "9fe4e002",
      "metadata": {
        "id": "9fe4e002"
      },
      "source": [
        "**In namedtuple, we must pass the same number of arguments as we defined. and we can't set additional arguments later or change values**"
      ]
    },
    {
      "cell_type": "code",
      "execution_count": null,
      "id": "7c96b39b",
      "metadata": {
        "id": "7c96b39b",
        "outputId": "8769a91b-49c3-4e59-8016-24bdad883e28"
      },
      "outputs": [
        {
          "ename": "AttributeError",
          "evalue": "can't set attribute",
          "output_type": "error",
          "traceback": [
            "\u001b[1;31m---------------------------------------------------------------------------\u001b[0m",
            "\u001b[1;31mAttributeError\u001b[0m                            Traceback (most recent call last)",
            "\u001b[1;32m~\\AppData\\Local\\Temp/ipykernel_3800/3062716553.py\u001b[0m in \u001b[0;36m<module>\u001b[1;34m\u001b[0m\n\u001b[1;32m----> 1\u001b[1;33m \u001b[0mstock\u001b[0m\u001b[1;33m.\u001b[0m\u001b[0mcurrent\u001b[0m \u001b[1;33m=\u001b[0m \u001b[1;36m74.98\u001b[0m\u001b[1;33m\u001b[0m\u001b[1;33m\u001b[0m\u001b[0m\n\u001b[0m",
            "\u001b[1;31mAttributeError\u001b[0m: can't set attribute"
          ]
        }
      ],
      "source": [
        "stock.current = 74.98"
      ]
    },
    {
      "cell_type": "markdown",
      "id": "1d24eec1",
      "metadata": {
        "id": "1d24eec1"
      },
      "source": [
        "## Dictionaries\n",
        "\n",
        "* It's useful containers that allow us to map objects directly to other objects.\n",
        "* Dictionaries are extremely efficient at looking up a value, given a specific key object that maps to that value.\n"
      ]
    },
    {
      "cell_type": "code",
      "execution_count": null,
      "id": "b908cd56",
      "metadata": {
        "id": "b908cd56",
        "outputId": "45a2159f-056d-4ba0-f431-23772bcf38df"
      },
      "outputs": [
        {
          "data": {
            "text/plain": [
              "(613.3, 625.86, 610.5)"
            ]
          },
          "execution_count": 25,
          "metadata": {},
          "output_type": "execute_result"
        }
      ],
      "source": [
        "stocks = {\"GOOG\": (613.30, 625.86, 610.50),\n",
        "            \"MSFT\": (30.25, 30.70, 30.19)}\n",
        "\n",
        "stocks[\"GOOG\"]"
      ]
    },
    {
      "cell_type": "code",
      "execution_count": null,
      "id": "cf64f591",
      "metadata": {
        "id": "cf64f591",
        "outputId": "f1c7538c-e02e-4be8-9698-d9f498159459"
      },
      "outputs": [
        {
          "name": "stdout",
          "output_type": "stream",
          "text": [
            "None\n"
          ]
        }
      ],
      "source": [
        "print(stocks.get(\"RIM\"))"
      ]
    },
    {
      "cell_type": "markdown",
      "id": "a696fe29",
      "metadata": {
        "id": "a696fe29"
      },
      "source": [
        "**It will prent this sentence if this key isn't in the dact**"
      ]
    },
    {
      "cell_type": "code",
      "execution_count": null,
      "id": "7c6898cf",
      "metadata": {
        "id": "7c6898cf",
        "outputId": "1812ed4f-05de-469c-84b7-5e2637f69566"
      },
      "outputs": [
        {
          "data": {
            "text/plain": [
              "'NOT FOUND'"
            ]
          },
          "execution_count": 28,
          "metadata": {},
          "output_type": "execute_result"
        }
      ],
      "source": [
        "stocks.get(\"RIM\", \"NOT FOUND\")"
      ]
    },
    {
      "cell_type": "markdown",
      "id": "e9d94bf5",
      "metadata": {
        "id": "e9d94bf5"
      },
      "source": [
        "**setdefault: it's like get, but if the key exist, it will return the values, else: it will set this key to the default and return it**"
      ]
    },
    {
      "cell_type": "code",
      "execution_count": null,
      "id": "634cd593",
      "metadata": {
        "id": "634cd593",
        "outputId": "b6b857d1-0516-4007-e08c-3290cd1b2ca0"
      },
      "outputs": [
        {
          "data": {
            "text/plain": [
              "(613.3, 625.86, 610.5)"
            ]
          },
          "execution_count": 30,
          "metadata": {},
          "output_type": "execute_result"
        }
      ],
      "source": [
        "stocks.setdefault(\"GOOG\", (50,50,50,50))"
      ]
    },
    {
      "cell_type": "code",
      "execution_count": null,
      "id": "c3f56334",
      "metadata": {
        "id": "c3f56334",
        "outputId": "90acf9b5-1cf2-4703-dbb8-b4146f35d57f"
      },
      "outputs": [
        {
          "data": {
            "text/plain": [
              "(50, 50, 50, 50)"
            ]
          },
          "execution_count": 31,
          "metadata": {},
          "output_type": "execute_result"
        }
      ],
      "source": [
        "stocks.setdefault(\"notexist\", (50,50,50,50))"
      ]
    },
    {
      "cell_type": "code",
      "execution_count": null,
      "id": "687a0891",
      "metadata": {
        "id": "687a0891",
        "outputId": "8715a6c9-a091-484a-caf4-314efe5ef4e3"
      },
      "outputs": [
        {
          "data": {
            "text/plain": [
              "(50, 50, 50, 50)"
            ]
          },
          "execution_count": 32,
          "metadata": {},
          "output_type": "execute_result"
        }
      ],
      "source": [
        "stocks[\"notexist\"]"
      ]
    },
    {
      "cell_type": "code",
      "execution_count": null,
      "id": "57a9524a",
      "metadata": {
        "id": "57a9524a",
        "outputId": "333cef23-a6c7-4a03-8d09-819d69f9a883"
      },
      "outputs": [
        {
          "name": "stdout",
          "output_type": "stream",
          "text": [
            "GOOG last value is 610.5\n",
            "MSFT last value is 30.19\n",
            "notexist last value is 50\n"
          ]
        }
      ],
      "source": [
        "for stock, values in stocks.items():\n",
        "    print(\"{} last value is {}\".format(stock, values[-1]))"
      ]
    },
    {
      "cell_type": "code",
      "execution_count": null,
      "id": "bed44675",
      "metadata": {
        "id": "bed44675",
        "outputId": "5a98d604-cd2c-4953-f5d5-882af026356f"
      },
      "outputs": [
        {
          "data": {
            "text/plain": [
              "{'astring': 'somestring',\n",
              " 5: 'aninteger',\n",
              " 25.2: 'floats work too',\n",
              " ('abc', 123): 'so do tuples'}"
            ]
          },
          "execution_count": 4,
          "metadata": {},
          "output_type": "execute_result"
        }
      ],
      "source": [
        "random_keys = {}\n",
        "random_keys[\"astring\"] = \"somestring\"\n",
        "random_keys[5] = \"aninteger\"\n",
        "random_keys[25.2] = \"floats work too\"\n",
        "random_keys[(\"abc\", 123)] = \"so do tuples\"\n",
        "\n",
        "random_keys"
      ]
    },
    {
      "cell_type": "code",
      "execution_count": null,
      "id": "5dd5123b",
      "metadata": {
        "id": "5dd5123b"
      },
      "outputs": [],
      "source": [
        "class AnObject:\n",
        "    def __init__(self, avalue):\n",
        "        self.avalue = avalue"
      ]
    },
    {
      "cell_type": "code",
      "execution_count": null,
      "id": "bfd4911b",
      "metadata": {
        "id": "bfd4911b"
      },
      "outputs": [],
      "source": [
        "my_object = AnObject(14)\n",
        "random_keys[my_object] = \"We can even store objects\"\n",
        "my_object.avalue = 12"
      ]
    },
    {
      "cell_type": "code",
      "execution_count": null,
      "id": "9e71ed86",
      "metadata": {
        "id": "9e71ed86",
        "outputId": "bccb5253-da84-4b10-99e1-7e820516b6e2"
      },
      "outputs": [
        {
          "name": "stdout",
          "output_type": "stream",
          "text": [
            "unable to store list\n",
            "\n"
          ]
        }
      ],
      "source": [
        "try:\n",
        "    random_keys[[1,2,3]] = \"we can't store lists though\"\n",
        "except:\n",
        "    print(\"unable to store list\\n\")"
      ]
    },
    {
      "cell_type": "code",
      "execution_count": null,
      "id": "b599c816",
      "metadata": {
        "id": "b599c816",
        "outputId": "b6abf3e6-f4e8-408b-e816-4c4465b4ab66"
      },
      "outputs": [
        {
          "name": "stdout",
          "output_type": "stream",
          "text": [
            "astring has value somestring\n",
            "5 has value aninteger\n",
            "25.2 has value floats work too\n",
            "('abc', 123) has value so do tuples\n",
            "<__main__.AnObject object at 0x000002C57BD80DC0> has value We can even store objects\n"
          ]
        }
      ],
      "source": [
        "for key, value in random_keys.items():\n",
        "    print(\"{} has value {}\".format(key, value))"
      ]
    },
    {
      "cell_type": "markdown",
      "id": "70b0853a",
      "metadata": {
        "id": "70b0853a"
      },
      "source": [
        "**We can see that Dictionary can use even objects as keys, but lists  can't be used**"
      ]
    },
    {
      "cell_type": "markdown",
      "id": "a3ca9df6",
      "metadata": {
        "id": "a3ca9df6"
      },
      "source": [
        "### Using defaultdict"
      ]
    },
    {
      "cell_type": "code",
      "execution_count": null,
      "id": "91bb5e2b",
      "metadata": {
        "id": "91bb5e2b",
        "outputId": "09d85c8e-883a-4a1a-b128-cb370ba2495a"
      },
      "outputs": [
        {
          "data": {
            "text/plain": [
              "{'m': 5,\n",
              " 'y': 1,\n",
              " ' ': 5,\n",
              " 'n': 2,\n",
              " 'a': 2,\n",
              " 'e': 2,\n",
              " 'i': 1,\n",
              " 's': 1,\n",
              " 'h': 2,\n",
              " 'o': 2,\n",
              " 'u': 1,\n",
              " 'd': 1,\n",
              " 'g': 1}"
            ]
          },
          "execution_count": 2,
          "metadata": {},
          "output_type": "execute_result"
        }
      ],
      "source": [
        "# counting the number of times a letter occurs in a given sentence using setdefault\n",
        "def letter_frequency(sentence):\n",
        "    frequencies = {}\n",
        "    for letter in sentence:\n",
        "        # if letter doesn't exist, set it with zero value\n",
        "        frequency = frequencies.setdefault(letter, 0)\n",
        "        # if letter exist, add one to its value\n",
        "        frequencies[letter] = frequency + 1\n",
        "    return frequencies\n",
        "\n",
        "letter_frequency(\"my name is mahmoud ghonem \")"
      ]
    },
    {
      "cell_type": "markdown",
      "id": "cb04db94",
      "metadata": {
        "id": "cb04db94"
      },
      "source": [
        "**we can use a different version of the dictionary, called defaultdict:**"
      ]
    },
    {
      "cell_type": "markdown",
      "id": "b625d528",
      "metadata": {
        "id": "b625d528"
      },
      "source": [
        "* The defaultdict accepts a function in its constructor.\n",
        "* if the key is accessed that is not already in the dictionary, it calls that function, with no parameters, to create a default value.\n",
        "* in the example belo, we pass int which is constructor for an integer object, it set deafult zero value if we pass it without any arguments."
      ]
    },
    {
      "cell_type": "code",
      "execution_count": null,
      "id": "f2c704fb",
      "metadata": {
        "id": "f2c704fb",
        "outputId": "f060ff26-ed10-4a1b-f0a6-ef77356adb45"
      },
      "outputs": [
        {
          "data": {
            "text/plain": [
              "defaultdict(int,\n",
              "            {'m': 5,\n",
              "             'y': 1,\n",
              "             ' ': 5,\n",
              "             'n': 2,\n",
              "             'a': 2,\n",
              "             'e': 2,\n",
              "             'i': 1,\n",
              "             's': 1,\n",
              "             'h': 2,\n",
              "             'o': 2,\n",
              "             'u': 1,\n",
              "             'd': 1,\n",
              "             'g': 1})"
            ]
          },
          "execution_count": 6,
          "metadata": {},
          "output_type": "execute_result"
        }
      ],
      "source": [
        "from collections import defaultdict\n",
        "def letter_frequency(sentence):\n",
        "    # if the letter doesn't exist in the defaultdict, the number zero is returned when we access it.\n",
        "    frequencies = defaultdict(int)\n",
        "    for letter in sentence:\n",
        "        frequencies[letter] += 1\n",
        "    return frequencies\n",
        "\n",
        "letter_frequency(\"my name is mahmoud ghonem \")"
      ]
    },
    {
      "cell_type": "markdown",
      "id": "02c524eb",
      "metadata": {
        "id": "02c524eb"
      },
      "source": [
        "**WE can write our own functions and pass them into the defaultdict. Suppose we want to create a defaultdict**"
      ]
    },
    {
      "cell_type": "code",
      "execution_count": null,
      "id": "5b0b9e08",
      "metadata": {
        "id": "5b0b9e08"
      },
      "outputs": [],
      "source": [
        "from collections import defaultdict\n",
        "num_items = 0\n",
        "def tuple_counter():\n",
        "    global num_items\n",
        "    num_items += 1\n",
        "    return (num_items, [])\n",
        "\n",
        "d = defaultdict(tuple_counter)"
      ]
    },
    {
      "cell_type": "code",
      "execution_count": null,
      "id": "bdce974c",
      "metadata": {
        "id": "bdce974c",
        "outputId": "7a8f041f-360f-4547-b6f0-c848dfbf5f00"
      },
      "outputs": [
        {
          "data": {
            "text/plain": [
              "defaultdict(<function __main__.tuple_counter()>, {'x': (1, []), 'y': (2, [])})"
            ]
          },
          "execution_count": 19,
          "metadata": {},
          "output_type": "execute_result"
        }
      ],
      "source": [
        "d['x']\n",
        "d['y']\n",
        "d"
      ]
    },
    {
      "cell_type": "code",
      "execution_count": null,
      "id": "7c551d04",
      "metadata": {
        "id": "7c551d04"
      },
      "outputs": [],
      "source": [
        "d['z'][1].append(\"hello\")"
      ]
    },
    {
      "cell_type": "code",
      "execution_count": null,
      "id": "fb1fb93f",
      "metadata": {
        "id": "fb1fb93f",
        "outputId": "76002c2e-916f-4936-9653-18a598fd9edc"
      },
      "outputs": [
        {
          "data": {
            "text/plain": [
              "defaultdict(<function __main__.tuple_counter()>,\n",
              "            {'x': (1, []), 'y': (2, []), 'z': (3, ['hello'])})"
            ]
          },
          "execution_count": 21,
          "metadata": {},
          "output_type": "execute_result"
        }
      ],
      "source": [
        "d"
      ]
    },
    {
      "cell_type": "markdown",
      "id": "25deeb42",
      "metadata": {
        "id": "25deeb42"
      },
      "source": [
        "### Counter\n",
        "\n",
        "The Counter object behaves like a beefed up dictionary where the keys are the items being counted and the values are the number of such items.\n",
        "\n",
        "\n",
        "More simpler idea for the past example:"
      ]
    },
    {
      "cell_type": "code",
      "execution_count": null,
      "id": "0220f0fd",
      "metadata": {
        "id": "0220f0fd"
      },
      "outputs": [],
      "source": [
        "from collections import Counter\n",
        "\n",
        "def letter_frequency(sentence):\n",
        "    return Counter(sentence)"
      ]
    },
    {
      "cell_type": "code",
      "execution_count": null,
      "id": "6ab3725c",
      "metadata": {
        "id": "6ab3725c"
      },
      "outputs": [],
      "source": [
        "# letter_frequency(\"my name is mahmoud ghonem \")\n",
        "c = Counter(\"my name is mahmoud ghonem \")"
      ]
    },
    {
      "cell_type": "code",
      "execution_count": null,
      "id": "c32cda23",
      "metadata": {
        "id": "c32cda23",
        "outputId": "852b83d7-d21b-4cc0-ea03-633c523757f8"
      },
      "outputs": [
        {
          "data": {
            "text/plain": [
              "[('m', 5), (' ', 5), ('n', 2)]"
            ]
          },
          "execution_count": 35,
          "metadata": {},
          "output_type": "execute_result"
        }
      ],
      "source": [
        "# This is a method of Counter, it returns n most frequent\n",
        "c.most_common(3)"
      ]
    },
    {
      "cell_type": "markdown",
      "id": "367cf4aa",
      "metadata": {
        "id": "367cf4aa"
      },
      "source": [
        "## Lists\n",
        "\n",
        "**Lists have several methods that can be invoked upon them:**\n",
        "\n",
        "* The append(element) method adds an element to the end of the list\n",
        "* The insert(index, element) method inserts an item at a specific position\n",
        "* The count(element) method tells us how many times an element appears in the list\n",
        "* The index()method tells us the index of an item in the list, raising an exception if it can't find it\n",
        "* The find()method does the same thing, but returns -1 instead of raising an exception for missing items\n",
        "* The reverse() method does exactly what it says—turns the list around\n",
        "* The sort() method has some rather intricate object-oriented behaviors, which we'll cover now"
      ]
    },
    {
      "cell_type": "markdown",
      "id": "e39ff8e9",
      "metadata": {
        "id": "e39ff8e9"
      },
      "source": [
        "### Sorting lists\n",
        "\n",
        "* This operation is case sensitive, so all capital letters will be sorted before lowercase letters\n",
        "* If a list of tuples is provided, the list is sorted by the first element in each tuple.\n",
        "* If a mixture containing unsortable items: the sort will raise a TypeError exception.\n",
        "\n",
        "---\n",
        "**How can we make objects of a class we made sortable?**\n",
        "\n",
        "By adjst The special method __ lt __ , it's stand for less than:\n",
        "\n",
        "return True if our class is somehow less than the passed parameter, and False otherwise"
      ]
    },
    {
      "cell_type": "code",
      "execution_count": null,
      "id": "e54ebc05",
      "metadata": {
        "id": "e54ebc05"
      },
      "outputs": [],
      "source": [
        "class WeirdSortee:\n",
        "    \n",
        "    def __init__(self, string, number, sort_num):\n",
        "        self.string = string\n",
        "        self.number = number\n",
        "        self.sort_num = sort_num\n",
        "        \n",
        "    def __lt__(self, object):\n",
        "        if self.sort_num:\n",
        "            return self.number < object.number\n",
        "        return self.string < object.string\n",
        "    \n",
        "    def __repr__(self):\n",
        "        return\"{}:{}\".format(self.string, self.number)"
      ]
    },
    {
      "cell_type": "code",
      "execution_count": null,
      "id": "410d5d94",
      "metadata": {
        "id": "410d5d94",
        "outputId": "4eedf773-5e85-45bf-e860-c718f5736942"
      },
      "outputs": [
        {
          "data": {
            "text/plain": [
              "str"
            ]
          },
          "execution_count": 40,
          "metadata": {},
          "output_type": "execute_result"
        }
      ],
      "source": [
        "type(x[2])"
      ]
    },
    {
      "cell_type": "code",
      "execution_count": null,
      "id": "2c8ee0d6",
      "metadata": {
        "id": "2c8ee0d6",
        "outputId": "233b1027-7f41-43bf-9227-17671aa15510"
      },
      "outputs": [
        {
          "data": {
            "text/plain": [
              "[a:4, b:3, c:2, d:1]"
            ]
          },
          "execution_count": 43,
          "metadata": {},
          "output_type": "execute_result"
        }
      ],
      "source": [
        "a = WeirdSortee('a', 4, True)\n",
        "b = WeirdSortee('b', 3, True)\n",
        "c = WeirdSortee('c', 2, True)\n",
        "d = WeirdSortee('d', 1, True)\n",
        "l = [a,b,c,d]\n",
        "\n",
        "l"
      ]
    },
    {
      "cell_type": "code",
      "execution_count": null,
      "id": "0491f4b2",
      "metadata": {
        "id": "0491f4b2"
      },
      "outputs": [],
      "source": [
        "l.sort()"
      ]
    },
    {
      "cell_type": "code",
      "execution_count": null,
      "id": "3af58307",
      "metadata": {
        "id": "3af58307",
        "outputId": "25b34a94-e3e7-4504-dffa-8e94d558e117"
      },
      "outputs": [
        {
          "data": {
            "text/plain": [
              "[d:1, c:2, b:3, a:4]"
            ]
          },
          "execution_count": 45,
          "metadata": {},
          "output_type": "execute_result"
        }
      ],
      "source": [
        "l"
      ]
    },
    {
      "cell_type": "code",
      "execution_count": null,
      "id": "9f32e1af",
      "metadata": {
        "id": "9f32e1af"
      },
      "outputs": [],
      "source": [
        "l.reverse()"
      ]
    },
    {
      "cell_type": "code",
      "execution_count": null,
      "id": "ad1a232a",
      "metadata": {
        "id": "ad1a232a",
        "outputId": "2bec1c80-d2c7-4521-c8c1-6ae517d832b3"
      },
      "outputs": [
        {
          "data": {
            "text/plain": [
              "[a:4, b:3, c:2, d:1]"
            ]
          },
          "execution_count": 47,
          "metadata": {},
          "output_type": "execute_result"
        }
      ],
      "source": [
        "l"
      ]
    },
    {
      "cell_type": "code",
      "execution_count": null,
      "id": "c8ccabe4",
      "metadata": {
        "id": "c8ccabe4"
      },
      "outputs": [],
      "source": [
        "for i in l:\n",
        "    i.sort_num = False"
      ]
    },
    {
      "cell_type": "code",
      "execution_count": null,
      "id": "ffd4eeba",
      "metadata": {
        "id": "ffd4eeba",
        "outputId": "f688d22f-842b-4274-803f-1ca75ca4698d"
      },
      "outputs": [
        {
          "data": {
            "text/plain": [
              "[a:4, b:3, c:2, d:1]"
            ]
          },
          "execution_count": 50,
          "metadata": {},
          "output_type": "execute_result"
        }
      ],
      "source": [
        "l.sort()\n",
        "l"
      ]
    },
    {
      "cell_type": "markdown",
      "id": "63ada73b",
      "metadata": {
        "id": "63ada73b"
      },
      "source": [
        "## Sets\n",
        "\n",
        "**useful when we want to ensure objects in the list are unique.**"
      ]
    },
    {
      "cell_type": "code",
      "execution_count": null,
      "id": "88f06b02",
      "metadata": {
        "id": "88f06b02"
      },
      "outputs": [],
      "source": [
        "song_library = [(\"Phantom Of The Opera\", \"Sarah Brightman\"),\n",
        "                    (\"Knocking On Heaven's Door\", \"Guns N' Roses\"),\n",
        "                    (\"Captain Nemo\", \"Sarah Brightman\"),\n",
        "                    (\"Patterns In The Ivy\", \"Opeth\"),\n",
        "                    (\"November Rain\", \"Guns N' Roses\"),\n",
        "                    (\"Beautiful\", \"Sarah Brightman\"),\n",
        "                    (\"Mal's Song\", \"Vixy and Tony\")]"
      ]
    },
    {
      "cell_type": "code",
      "execution_count": null,
      "id": "9e6ff4ea",
      "metadata": {
        "id": "9e6ff4ea",
        "outputId": "367bb719-c266-4439-8a9e-d2984e312fee"
      },
      "outputs": [
        {
          "name": "stdout",
          "output_type": "stream",
          "text": [
            "{\"Guns N' Roses\", 'Opeth', 'Vixy and Tony', 'Sarah Brightman'}\n"
          ]
        }
      ],
      "source": [
        "artists = set()\n",
        "for song, artist in song_library:\n",
        "    artists.add(artist)\n",
        "print(artists)"
      ]
    },
    {
      "cell_type": "code",
      "execution_count": null,
      "id": "cc65c575",
      "metadata": {
        "id": "cc65c575",
        "outputId": "a88a8a85-0bdc-4f1f-9230-5b254ae91258"
      },
      "outputs": [
        {
          "data": {
            "text/plain": [
              "(\"Knocking On Heaven's Door\", \"Guns N' Roses\", \"Guns N' Roses\")"
            ]
          },
          "execution_count": 54,
          "metadata": {},
          "output_type": "execute_result"
        }
      ],
      "source": [
        "# remeber that we can repeat values in tubles, but it was immutable\n",
        "(\"Knocking On Heaven's Door\", \"Guns N' Roses\", \"Guns N' Roses\")"
      ]
    },
    {
      "cell_type": "markdown",
      "id": "b30bb0e2",
      "metadata": {
        "id": "b30bb0e2"
      },
      "source": [
        "* **There is no built-in syntax for an empty set as there is for lists and dictionaries; we create a set using the set() constructor.**\n",
        "\n",
        "* **Items can be added individually to the set using its add method.**\n",
        "\n",
        "* **notice that the items are not printed in the order they were added to the sets.**\n",
        "\n",
        "* **The primary purpose of a set is to divide the world into two groups: \"things that are in the set\", and, \"things that are not in the set\".**\n",
        "\n",
        "* **if we want to sort or order them, we'll have to convert the set to a list.**"
      ]
    },
    {
      "cell_type": "code",
      "execution_count": null,
      "id": "5b41ee2a",
      "metadata": {
        "id": "5b41ee2a",
        "outputId": "75aec3c7-7df0-4914-ce4a-3abf7e27e2b9"
      },
      "outputs": [
        {
          "data": {
            "text/plain": [
              "True"
            ]
          },
          "execution_count": 60,
          "metadata": {},
          "output_type": "execute_result"
        }
      ],
      "source": [
        "\"Opeth\" in artists"
      ]
    },
    {
      "cell_type": "code",
      "execution_count": null,
      "id": "6ca8f348",
      "metadata": {
        "id": "6ca8f348",
        "outputId": "0258b955-8449-4c09-aae4-dec524f8e24a"
      },
      "outputs": [
        {
          "name": "stdout",
          "output_type": "stream",
          "text": [
            "Guns N' Roses plays good music\n",
            "Opeth plays good music\n",
            "Vixy and Tony plays good music\n",
            "Sarah Brightman plays good music\n"
          ]
        }
      ],
      "source": [
        "for artist in artists:\n",
        "    print(\"{} plays good music\".format(artist))"
      ]
    },
    {
      "cell_type": "code",
      "execution_count": null,
      "id": "adb12445",
      "metadata": {
        "id": "adb12445",
        "outputId": "a344167e-aa24-4849-a28b-163fddd9aba8"
      },
      "outputs": [
        {
          "data": {
            "text/plain": [
              "[\"Guns N' Roses\", 'Opeth', 'Sarah Brightman', 'Vixy and Tony']"
            ]
          },
          "execution_count": 62,
          "metadata": {},
          "output_type": "execute_result"
        }
      ],
      "source": [
        "alphabetical = list(artists)\n",
        "alphabetical.sort()\n",
        "alphabetical"
      ]
    },
    {
      "cell_type": "markdown",
      "id": "001cef52",
      "metadata": {
        "id": "001cef52"
      },
      "source": [
        "\n",
        "\n",
        "my_artists = {\"Sarah Brightman\", \"Guns N' Roses\",\n",
        "                \"Opeth\", \"Vixy and Tony\"}\n",
        "\n",
        "\n",
        "auburns_artists = {\"Nickelback\", \"Guns N' Roses\",\n",
        "                    \"Savage Garden\"}"
      ]
    },
    {
      "cell_type": "markdown",
      "id": "5441cd76",
      "metadata": {
        "id": "5441cd76"
      },
      "source": [
        "**Sets are most useful when two or more of them are used in combination. as:**\n",
        "\n",
        "* union\n",
        "* intersection\n",
        "* symmetric_difference : it is the set of objects that are in one set or the other, but not both.\n",
        "* "
      ]
    },
    {
      "cell_type": "code",
      "execution_count": null,
      "id": "f4459f8f",
      "metadata": {
        "id": "f4459f8f",
        "outputId": "aa275916-405f-4a01-fbc7-2bc599337eac"
      },
      "outputs": [
        {
          "name": "stdout",
          "output_type": "stream",
          "text": [
            "All: {'Nickelback', \"Guns N' Roses\", 'Savage Garden', 'Opeth', 'Vixy and Tony', 'Sarah Brightman'}\n",
            "Both: {\"Guns N' Roses\"}\n",
            "Either but not both: {'Savage Garden', 'Opeth', 'Nickelback', 'Vixy and Tony', 'Sarah Brightman'}\n"
          ]
        }
      ],
      "source": [
        "print(\"All: {}\".format(my_artists.union(auburns_artists)))\n",
        "\n",
        "print(\"Both: {}\".format(auburns_artists.intersection(my_artists)))\n",
        "\n",
        "print(\"Either but not both: {}\".format(my_artists.symmetric_difference(auburns_artists)))"
      ]
    },
    {
      "cell_type": "markdown",
      "id": "42fe916f",
      "metadata": {
        "id": "42fe916f"
      },
      "source": [
        "**These methods all return the same result, regardless of which set calls the other.**\n",
        "\n",
        "---\n",
        "\n",
        "**There are also methods that return different results depending on who is the caller and who is the argument:**\n",
        "\n",
        "* issubset: returns True, if all of the items in the calling set are also in the set passed as an argument\n",
        "* issuperset : returns True if all of the items in the argument are also in the calling set.\n",
        "* difference\n"
      ]
    },
    {
      "cell_type": "code",
      "execution_count": null,
      "id": "f41acc9d",
      "metadata": {
        "id": "f41acc9d",
        "outputId": "ffebb329-01bc-4715-dc82-dc9a9fbd4ddb"
      },
      "outputs": [
        {
          "name": "stdout",
          "output_type": "stream",
          "text": [
            "issuperset: True\n",
            "issubset: False\n",
            "difference: {'Vixy and Tony', 'Sarah Brightman'}\n",
            "********************\n",
            "issuperset: False\n",
            "issubset: True\n",
            "difference: set()\n"
          ]
        }
      ],
      "source": [
        "my_artists = {\"Sarah Brightman\", \"Guns N' Roses\",\n",
        "                \"Opeth\", \"Vixy and Tony\"}\n",
        "bands = {\"Guns N' Roses\", \"Opeth\"}\n",
        "\n",
        "print(\"issuperset: {}\".format(my_artists.issuperset(bands)))\n",
        "print(\"issubset: {}\".format(my_artists.issubset(bands)))\n",
        "print(\"difference: {}\".format(my_artists.difference(bands)))\n",
        "print(\"*\"*20)\n",
        "print(\"issuperset: {}\".format(bands.issuperset(my_artists)))\n",
        "print(\"issubset: {}\".format(bands.issubset(my_artists)))\n",
        "print(\"difference: {}\".format(bands.difference(my_artists)))"
      ]
    },
    {
      "cell_type": "markdown",
      "id": "50831b9a",
      "metadata": {
        "id": "50831b9a"
      },
      "source": [
        "## Extending built-ins\n",
        "\n",
        "**Composition is usually the best alternative if all we want to do is use the container to store some objects using that container's features**\n",
        "\n",
        "**If we want to change behavior or add attributes, we can inherit built-ins**"
      ]
    },
    {
      "cell_type": "code",
      "execution_count": null,
      "id": "ae7ff5f3",
      "metadata": {
        "id": "ae7ff5f3"
      },
      "outputs": [],
      "source": [
        "class SillyInt(int):\n",
        "    def __add__(self, num):\n",
        "        return 0"
      ]
    },
    {
      "cell_type": "code",
      "execution_count": null,
      "id": "7fbaf461",
      "metadata": {
        "id": "7fbaf461",
        "outputId": "2ec00f61-1e5d-451b-f86e-3598ce26b085"
      },
      "outputs": [
        {
          "data": {
            "text/plain": [
              "0"
            ]
          },
          "execution_count": 69,
          "metadata": {},
          "output_type": "execute_result"
        }
      ],
      "source": [
        "a = SillyInt(1)\n",
        "b = SillyInt(2)\n",
        "a + b"
      ]
    },
    {
      "cell_type": "markdown",
      "id": "2fcef52d",
      "metadata": {
        "id": "2fcef52d"
      },
      "source": [
        "**Here we inherit from int and override the speacial method __ add __ to do this silly thing** "
      ]
    },
    {
      "cell_type": "code",
      "execution_count": null,
      "id": "60fd1055",
      "metadata": {
        "id": "60fd1055",
        "outputId": "85059492-9dcd-4cac-8a4f-9d5fefa60598"
      },
      "outputs": [
        {
          "name": "stdout",
          "output_type": "stream",
          "text": [
            "Help on wrapper_descriptor:\n",
            "\n",
            "__add__(self, value, /)\n",
            "    Return self+value.\n",
            "\n"
          ]
        }
      ],
      "source": [
        "help(list.__add__)"
      ]
    },
    {
      "cell_type": "markdown",
      "id": "fb67d391",
      "metadata": {
        "id": "fb67d391"
      },
      "source": [
        "**Often, the need to extend a built-in data type is an indication that we're using the wrong sort of data type**"
      ]
    },
    {
      "cell_type": "markdown",
      "id": "8482625f",
      "metadata": {
        "id": "8482625f"
      },
      "source": [
        "## Queues\n",
        "\n",
        "Python therefore provides three types of queue data structures, depending on what kind of access you are looking for.\n",
        "\n",
        "---\n",
        "\n",
        "**Before we start our queues, however, consider the trusty list data structure. Python lists are the most advantageous data structure for many use cases:**\n",
        "\n",
        "* They support efficient random access to any element in the list\n",
        "* They have strict ordering of elements\n",
        "* They support the append operation efficiently\n",
        "\n",
        "**But they are also slow for checking if an element exists in the list, and by extension, searching.**\n",
        "\n"
      ]
    },
    {
      "cell_type": "markdown",
      "id": "561da86b",
      "metadata": {
        "id": "561da86b"
      },
      "source": [
        "### FIFO queues (First In First Out):\n",
        "\n",
        "It's like The first person to enter the line gets served first, the second person in line gets served second, and if a new person desires service, they join the end of the line and wait their turn.\n",
        "\n",
        "---\n",
        "The Queue class is a good choice when you don't need to access any data inside the data structure except the next object to be consumed."
      ]
    },
    {
      "cell_type": "markdown",
      "id": "986e11b1",
      "metadata": {
        "id": "986e11b1"
      },
      "source": [
        "* A Queue can have \"infinite\" (until the computer runs out of memory) capacity, but it is more commonly bounded to some maximum size.\n",
        "\n",
        "* The primary methods are put() and get()\n",
        "\n",
        "* The default behavior is to block or idly wait until the Queue object has data or room available to complete the operation.\n",
        "\n",
        "* You can have it raise exceptions instead by passing the block=False parameter.\n",
        "\n",
        "* Or you can have it wait a defined amount of time before raising an exception by passing a timeout parameter."
      ]
    },
    {
      "cell_type": "code",
      "execution_count": null,
      "id": "e0c649a5",
      "metadata": {
        "id": "e0c649a5",
        "outputId": "616f61a9-e4a8-4cf5-b5c3-90f56f2604b0"
      },
      "outputs": [
        {
          "ename": "Empty",
          "evalue": "",
          "output_type": "error",
          "traceback": [
            "\u001b[1;31m---------------------------------------------------------------------------\u001b[0m",
            "\u001b[1;31mEmpty\u001b[0m                                     Traceback (most recent call last)",
            "\u001b[1;32m~\\AppData\\Local\\Temp/ipykernel_20816/1227005947.py\u001b[0m in \u001b[0;36m<module>\u001b[1;34m\u001b[0m\n\u001b[0;32m      3\u001b[0m \u001b[0mlineup\u001b[0m \u001b[1;33m=\u001b[0m \u001b[0mQueue\u001b[0m\u001b[1;33m(\u001b[0m\u001b[0mmaxsize\u001b[0m\u001b[1;33m=\u001b[0m\u001b[1;36m3\u001b[0m\u001b[1;33m)\u001b[0m\u001b[1;33m\u001b[0m\u001b[1;33m\u001b[0m\u001b[0m\n\u001b[0;32m      4\u001b[0m \u001b[1;33m\u001b[0m\u001b[0m\n\u001b[1;32m----> 5\u001b[1;33m \u001b[0mlineup\u001b[0m\u001b[1;33m.\u001b[0m\u001b[0mget\u001b[0m\u001b[1;33m(\u001b[0m\u001b[0mblock\u001b[0m\u001b[1;33m=\u001b[0m\u001b[1;32mFalse\u001b[0m\u001b[1;33m)\u001b[0m\u001b[1;33m\u001b[0m\u001b[1;33m\u001b[0m\u001b[0m\n\u001b[0m",
            "\u001b[1;32m~\\anaconda3\\lib\\queue.py\u001b[0m in \u001b[0;36mget\u001b[1;34m(self, block, timeout)\u001b[0m\n\u001b[0;32m    165\u001b[0m             \u001b[1;32mif\u001b[0m \u001b[1;32mnot\u001b[0m \u001b[0mblock\u001b[0m\u001b[1;33m:\u001b[0m\u001b[1;33m\u001b[0m\u001b[1;33m\u001b[0m\u001b[0m\n\u001b[0;32m    166\u001b[0m                 \u001b[1;32mif\u001b[0m \u001b[1;32mnot\u001b[0m \u001b[0mself\u001b[0m\u001b[1;33m.\u001b[0m\u001b[0m_qsize\u001b[0m\u001b[1;33m(\u001b[0m\u001b[1;33m)\u001b[0m\u001b[1;33m:\u001b[0m\u001b[1;33m\u001b[0m\u001b[1;33m\u001b[0m\u001b[0m\n\u001b[1;32m--> 167\u001b[1;33m                     \u001b[1;32mraise\u001b[0m \u001b[0mEmpty\u001b[0m\u001b[1;33m\u001b[0m\u001b[1;33m\u001b[0m\u001b[0m\n\u001b[0m\u001b[0;32m    168\u001b[0m             \u001b[1;32melif\u001b[0m \u001b[0mtimeout\u001b[0m \u001b[1;32mis\u001b[0m \u001b[1;32mNone\u001b[0m\u001b[1;33m:\u001b[0m\u001b[1;33m\u001b[0m\u001b[1;33m\u001b[0m\u001b[0m\n\u001b[0;32m    169\u001b[0m                 \u001b[1;32mwhile\u001b[0m \u001b[1;32mnot\u001b[0m \u001b[0mself\u001b[0m\u001b[1;33m.\u001b[0m\u001b[0m_qsize\u001b[0m\u001b[1;33m(\u001b[0m\u001b[1;33m)\u001b[0m\u001b[1;33m:\u001b[0m\u001b[1;33m\u001b[0m\u001b[1;33m\u001b[0m\u001b[0m\n",
            "\u001b[1;31mEmpty\u001b[0m: "
          ]
        }
      ],
      "source": [
        "from queue import Queue\n",
        "\n",
        "lineup = Queue(maxsize=3)\n",
        "\n",
        "lineup.get(block=False)"
      ]
    },
    {
      "cell_type": "code",
      "execution_count": null,
      "id": "39a9e21c",
      "metadata": {
        "id": "39a9e21c",
        "outputId": "39d082d9-0f37-4879-f0c1-05044ad94ca2"
      },
      "outputs": [
        {
          "ename": "Full",
          "evalue": "",
          "output_type": "error",
          "traceback": [
            "\u001b[1;31m---------------------------------------------------------------------------\u001b[0m",
            "\u001b[1;31mFull\u001b[0m                                      Traceback (most recent call last)",
            "\u001b[1;32m~\\AppData\\Local\\Temp/ipykernel_20816/1005164965.py\u001b[0m in \u001b[0;36m<module>\u001b[1;34m\u001b[0m\n\u001b[0;32m      2\u001b[0m \u001b[0mlineup\u001b[0m\u001b[1;33m.\u001b[0m\u001b[0mput\u001b[0m\u001b[1;33m(\u001b[0m\u001b[1;34m\"two\"\u001b[0m\u001b[1;33m)\u001b[0m\u001b[1;33m\u001b[0m\u001b[1;33m\u001b[0m\u001b[0m\n\u001b[0;32m      3\u001b[0m \u001b[0mlineup\u001b[0m\u001b[1;33m.\u001b[0m\u001b[0mput\u001b[0m\u001b[1;33m(\u001b[0m\u001b[1;34m\"three\"\u001b[0m\u001b[1;33m)\u001b[0m\u001b[1;33m\u001b[0m\u001b[1;33m\u001b[0m\u001b[0m\n\u001b[1;32m----> 4\u001b[1;33m \u001b[0mlineup\u001b[0m\u001b[1;33m.\u001b[0m\u001b[0mput\u001b[0m\u001b[1;33m(\u001b[0m\u001b[1;34m\"four\"\u001b[0m\u001b[1;33m,\u001b[0m \u001b[0mtimeout\u001b[0m\u001b[1;33m=\u001b[0m\u001b[1;36m1\u001b[0m\u001b[1;33m)\u001b[0m  \u001b[1;31m# we set the maxsize by 3, we timeout = 1 to rause the exception after second\u001b[0m\u001b[1;33m\u001b[0m\u001b[1;33m\u001b[0m\u001b[0m\n\u001b[0m",
            "\u001b[1;32m~\\anaconda3\\lib\\queue.py\u001b[0m in \u001b[0;36mput\u001b[1;34m(self, item, block, timeout)\u001b[0m\n\u001b[0;32m    145\u001b[0m                         \u001b[0mremaining\u001b[0m \u001b[1;33m=\u001b[0m \u001b[0mendtime\u001b[0m \u001b[1;33m-\u001b[0m \u001b[0mtime\u001b[0m\u001b[1;33m(\u001b[0m\u001b[1;33m)\u001b[0m\u001b[1;33m\u001b[0m\u001b[1;33m\u001b[0m\u001b[0m\n\u001b[0;32m    146\u001b[0m                         \u001b[1;32mif\u001b[0m \u001b[0mremaining\u001b[0m \u001b[1;33m<=\u001b[0m \u001b[1;36m0.0\u001b[0m\u001b[1;33m:\u001b[0m\u001b[1;33m\u001b[0m\u001b[1;33m\u001b[0m\u001b[0m\n\u001b[1;32m--> 147\u001b[1;33m                             \u001b[1;32mraise\u001b[0m \u001b[0mFull\u001b[0m\u001b[1;33m\u001b[0m\u001b[1;33m\u001b[0m\u001b[0m\n\u001b[0m\u001b[0;32m    148\u001b[0m                         \u001b[0mself\u001b[0m\u001b[1;33m.\u001b[0m\u001b[0mnot_full\u001b[0m\u001b[1;33m.\u001b[0m\u001b[0mwait\u001b[0m\u001b[1;33m(\u001b[0m\u001b[0mremaining\u001b[0m\u001b[1;33m)\u001b[0m\u001b[1;33m\u001b[0m\u001b[1;33m\u001b[0m\u001b[0m\n\u001b[0;32m    149\u001b[0m             \u001b[0mself\u001b[0m\u001b[1;33m.\u001b[0m\u001b[0m_put\u001b[0m\u001b[1;33m(\u001b[0m\u001b[0mitem\u001b[0m\u001b[1;33m)\u001b[0m\u001b[1;33m\u001b[0m\u001b[1;33m\u001b[0m\u001b[0m\n",
            "\u001b[1;31mFull\u001b[0m: "
          ]
        }
      ],
      "source": [
        "lineup.put(\"one\")\n",
        "lineup.put(\"two\")\n",
        "lineup.put(\"three\")\n",
        "lineup.put(\"four\", timeout=1)  # we set the maxsize by 3, we timeout = 1 to rause the exception after second"
      ]
    },
    {
      "cell_type": "code",
      "execution_count": null,
      "id": "20dc50ca",
      "metadata": {
        "id": "20dc50ca",
        "outputId": "f1720f16-a66b-4c57-f001-9eff7c187901"
      },
      "outputs": [
        {
          "data": {
            "text/plain": [
              "True"
            ]
          },
          "execution_count": 3,
          "metadata": {},
          "output_type": "execute_result"
        }
      ],
      "source": [
        "lineup.full()"
      ]
    },
    {
      "cell_type": "code",
      "execution_count": null,
      "id": "deba78d6",
      "metadata": {
        "id": "deba78d6",
        "outputId": "944bd462-d715-4b28-af71-ce3775bb05c6"
      },
      "outputs": [
        {
          "data": {
            "text/plain": [
              "'one'"
            ]
          },
          "execution_count": 4,
          "metadata": {},
          "output_type": "execute_result"
        }
      ],
      "source": [
        "lineup.get()"
      ]
    },
    {
      "cell_type": "code",
      "execution_count": null,
      "id": "285c3a8b",
      "metadata": {
        "id": "285c3a8b",
        "outputId": "2758c587-3ca2-4461-be38-96530103a317"
      },
      "outputs": [
        {
          "data": {
            "text/plain": [
              "'two'"
            ]
          },
          "execution_count": 6,
          "metadata": {},
          "output_type": "execute_result"
        }
      ],
      "source": [
        "lineup.get()"
      ]
    },
    {
      "cell_type": "code",
      "execution_count": null,
      "id": "199ed9bd",
      "metadata": {
        "id": "199ed9bd",
        "outputId": "51247e19-4a87-4a10-adf5-2a188998eb6b"
      },
      "outputs": [
        {
          "data": {
            "text/plain": [
              "'three'"
            ]
          },
          "execution_count": 7,
          "metadata": {},
          "output_type": "execute_result"
        }
      ],
      "source": [
        "lineup.get()"
      ]
    },
    {
      "cell_type": "code",
      "execution_count": null,
      "id": "9a9fd4fe",
      "metadata": {
        "id": "9a9fd4fe",
        "outputId": "6770fb24-5ed6-45f3-fd87-865b5a96b608"
      },
      "outputs": [
        {
          "data": {
            "text/plain": [
              "True"
            ]
          },
          "execution_count": 8,
          "metadata": {},
          "output_type": "execute_result"
        }
      ],
      "source": [
        "lineup.empty()"
      ]
    },
    {
      "cell_type": "markdown",
      "id": "524605c1",
      "metadata": {
        "id": "524605c1"
      },
      "source": [
        "### LIFO queues (Last In First Out): frequently called stacks.\n"
      ]
    },
    {
      "cell_type": "code",
      "execution_count": null,
      "id": "1f37166a",
      "metadata": {
        "id": "1f37166a",
        "outputId": "7b317fca-46ac-4fdd-8884-09c4993ba0fb"
      },
      "outputs": [
        {
          "ename": "Full",
          "evalue": "",
          "output_type": "error",
          "traceback": [
            "\u001b[1;31m---------------------------------------------------------------------------\u001b[0m",
            "\u001b[1;31mFull\u001b[0m                                      Traceback (most recent call last)",
            "\u001b[1;32m~\\AppData\\Local\\Temp/ipykernel_20816/713176179.py\u001b[0m in \u001b[0;36m<module>\u001b[1;34m\u001b[0m\n\u001b[0;32m      5\u001b[0m \u001b[0mstack\u001b[0m\u001b[1;33m.\u001b[0m\u001b[0mput\u001b[0m\u001b[1;33m(\u001b[0m\u001b[1;34m\"two\"\u001b[0m\u001b[1;33m)\u001b[0m\u001b[1;33m\u001b[0m\u001b[1;33m\u001b[0m\u001b[0m\n\u001b[0;32m      6\u001b[0m \u001b[0mstack\u001b[0m\u001b[1;33m.\u001b[0m\u001b[0mput\u001b[0m\u001b[1;33m(\u001b[0m\u001b[1;34m\"three\"\u001b[0m\u001b[1;33m)\u001b[0m\u001b[1;33m\u001b[0m\u001b[1;33m\u001b[0m\u001b[0m\n\u001b[1;32m----> 7\u001b[1;33m \u001b[0mstack\u001b[0m\u001b[1;33m.\u001b[0m\u001b[0mput\u001b[0m\u001b[1;33m(\u001b[0m\u001b[1;34m\"four\"\u001b[0m\u001b[1;33m,\u001b[0m \u001b[0mblock\u001b[0m\u001b[1;33m=\u001b[0m\u001b[1;32mFalse\u001b[0m\u001b[1;33m)\u001b[0m\u001b[1;33m\u001b[0m\u001b[1;33m\u001b[0m\u001b[0m\n\u001b[0m",
            "\u001b[1;32m~\\anaconda3\\lib\\queue.py\u001b[0m in \u001b[0;36mput\u001b[1;34m(self, item, block, timeout)\u001b[0m\n\u001b[0;32m    134\u001b[0m                 \u001b[1;32mif\u001b[0m \u001b[1;32mnot\u001b[0m \u001b[0mblock\u001b[0m\u001b[1;33m:\u001b[0m\u001b[1;33m\u001b[0m\u001b[1;33m\u001b[0m\u001b[0m\n\u001b[0;32m    135\u001b[0m                     \u001b[1;32mif\u001b[0m \u001b[0mself\u001b[0m\u001b[1;33m.\u001b[0m\u001b[0m_qsize\u001b[0m\u001b[1;33m(\u001b[0m\u001b[1;33m)\u001b[0m \u001b[1;33m>=\u001b[0m \u001b[0mself\u001b[0m\u001b[1;33m.\u001b[0m\u001b[0mmaxsize\u001b[0m\u001b[1;33m:\u001b[0m\u001b[1;33m\u001b[0m\u001b[1;33m\u001b[0m\u001b[0m\n\u001b[1;32m--> 136\u001b[1;33m                         \u001b[1;32mraise\u001b[0m \u001b[0mFull\u001b[0m\u001b[1;33m\u001b[0m\u001b[1;33m\u001b[0m\u001b[0m\n\u001b[0m\u001b[0;32m    137\u001b[0m                 \u001b[1;32melif\u001b[0m \u001b[0mtimeout\u001b[0m \u001b[1;32mis\u001b[0m \u001b[1;32mNone\u001b[0m\u001b[1;33m:\u001b[0m\u001b[1;33m\u001b[0m\u001b[1;33m\u001b[0m\u001b[0m\n\u001b[0;32m    138\u001b[0m                     \u001b[1;32mwhile\u001b[0m \u001b[0mself\u001b[0m\u001b[1;33m.\u001b[0m\u001b[0m_qsize\u001b[0m\u001b[1;33m(\u001b[0m\u001b[1;33m)\u001b[0m \u001b[1;33m>=\u001b[0m \u001b[0mself\u001b[0m\u001b[1;33m.\u001b[0m\u001b[0mmaxsize\u001b[0m\u001b[1;33m:\u001b[0m\u001b[1;33m\u001b[0m\u001b[1;33m\u001b[0m\u001b[0m\n",
            "\u001b[1;31mFull\u001b[0m: "
          ]
        }
      ],
      "source": [
        "from queue import LifoQueue\n",
        "\n",
        "stack = LifoQueue(maxsize=3)\n",
        "stack.put(\"one\")\n",
        "stack.put(\"two\")\n",
        "stack.put(\"three\")\n",
        "stack.put(\"four\", block=False)"
      ]
    },
    {
      "cell_type": "code",
      "execution_count": null,
      "id": "f6c0c789",
      "metadata": {
        "id": "f6c0c789",
        "outputId": "7a18d926-5782-48ca-92ff-0895510b2e4c"
      },
      "outputs": [
        {
          "data": {
            "text/plain": [
              "'three'"
            ]
          },
          "execution_count": 10,
          "metadata": {},
          "output_type": "execute_result"
        }
      ],
      "source": [
        "stack.get()"
      ]
    },
    {
      "cell_type": "code",
      "execution_count": null,
      "id": "549d94c0",
      "metadata": {
        "id": "549d94c0",
        "outputId": "aac4b458-84be-4a8e-ca90-ffdbbb0e3127"
      },
      "outputs": [
        {
          "data": {
            "text/plain": [
              "'two'"
            ]
          },
          "execution_count": 11,
          "metadata": {},
          "output_type": "execute_result"
        }
      ],
      "source": [
        "stack.get()"
      ]
    },
    {
      "cell_type": "code",
      "execution_count": null,
      "id": "b435f934",
      "metadata": {
        "id": "b435f934",
        "outputId": "a3affc46-540f-4d0c-8926-87c91f0cba11"
      },
      "outputs": [
        {
          "data": {
            "text/plain": [
              "'one'"
            ]
          },
          "execution_count": 12,
          "metadata": {},
          "output_type": "execute_result"
        }
      ],
      "source": [
        "stack.get()"
      ]
    },
    {
      "cell_type": "code",
      "execution_count": null,
      "id": "8008acf5",
      "metadata": {
        "id": "8008acf5",
        "outputId": "5f4c657a-32e4-4b79-d94c-a6fe2441bd46"
      },
      "outputs": [
        {
          "data": {
            "text/plain": [
              "True"
            ]
          },
          "execution_count": 13,
          "metadata": {},
          "output_type": "execute_result"
        }
      ],
      "source": [
        "stack.empty()"
      ]
    },
    {
      "cell_type": "markdown",
      "id": "60cbd4f5",
      "metadata": {
        "id": "60cbd4f5"
      },
      "source": [
        "## Priority queues\n",
        "\n",
        "* instead of relying on the order that items arrive to determine when they should be returned, the most \"important\" item is returned.\n",
        "\n",
        "* By convention, the most important, or highest priority item is the one that sorts lowest using the less than operator.\n",
        "\n",
        "---\n",
        "* A common convention is to store tuples in the priority queue, where the first element in the tuple is the priority for that element, and the second element is the data.\n",
        "\n",
        "* Another common paradigm is to implement the __lt__ method.\n",
        "\n",
        "---\n",
        "\n",
        "A priority queue might be used, for example, by a search engine to ensure it refreshes the content of the most popular web pages before crawling sites that are less likely to be searched for."
      ]
    },
    {
      "cell_type": "code",
      "execution_count": null,
      "id": "0bce15e0",
      "metadata": {
        "id": "0bce15e0",
        "outputId": "a18eb5bd-a599-4827-b44a-f6f858ef9b58"
      },
      "outputs": [
        {
          "ename": "Full",
          "evalue": "",
          "output_type": "error",
          "traceback": [
            "\u001b[1;31m---------------------------------------------------------------------------\u001b[0m",
            "\u001b[1;31mFull\u001b[0m                                      Traceback (most recent call last)",
            "\u001b[1;32m~\\AppData\\Local\\Temp/ipykernel_20816/983071054.py\u001b[0m in \u001b[0;36m<module>\u001b[1;34m\u001b[0m\n\u001b[0;32m      6\u001b[0m \u001b[0mheap\u001b[0m\u001b[1;33m.\u001b[0m\u001b[0mput\u001b[0m\u001b[1;33m(\u001b[0m\u001b[1;33m(\u001b[0m\u001b[1;36m1\u001b[0m\u001b[1;33m,\u001b[0m \u001b[1;34m\"one\"\u001b[0m\u001b[1;33m)\u001b[0m \u001b[1;33m)\u001b[0m\u001b[1;33m\u001b[0m\u001b[1;33m\u001b[0m\u001b[0m\n\u001b[0;32m      7\u001b[0m \u001b[0mheap\u001b[0m\u001b[1;33m.\u001b[0m\u001b[0mput\u001b[0m\u001b[1;33m(\u001b[0m\u001b[1;33m(\u001b[0m\u001b[1;36m2\u001b[0m\u001b[1;33m,\u001b[0m \u001b[1;34m\"two\"\u001b[0m\u001b[1;33m)\u001b[0m\u001b[1;33m)\u001b[0m\u001b[1;33m\u001b[0m\u001b[1;33m\u001b[0m\u001b[0m\n\u001b[1;32m----> 8\u001b[1;33m \u001b[0mheap\u001b[0m\u001b[1;33m.\u001b[0m\u001b[0mput\u001b[0m\u001b[1;33m(\u001b[0m\u001b[1;33m(\u001b[0m\u001b[1;36m5\u001b[0m\u001b[1;33m,\u001b[0m \u001b[1;34m\"five\"\u001b[0m\u001b[1;33m)\u001b[0m\u001b[1;33m,\u001b[0m \u001b[0mblock\u001b[0m\u001b[1;33m=\u001b[0m\u001b[1;32mFalse\u001b[0m\u001b[1;33m)\u001b[0m\u001b[1;33m\u001b[0m\u001b[1;33m\u001b[0m\u001b[0m\n\u001b[0m",
            "\u001b[1;32m~\\anaconda3\\lib\\queue.py\u001b[0m in \u001b[0;36mput\u001b[1;34m(self, item, block, timeout)\u001b[0m\n\u001b[0;32m    134\u001b[0m                 \u001b[1;32mif\u001b[0m \u001b[1;32mnot\u001b[0m \u001b[0mblock\u001b[0m\u001b[1;33m:\u001b[0m\u001b[1;33m\u001b[0m\u001b[1;33m\u001b[0m\u001b[0m\n\u001b[0;32m    135\u001b[0m                     \u001b[1;32mif\u001b[0m \u001b[0mself\u001b[0m\u001b[1;33m.\u001b[0m\u001b[0m_qsize\u001b[0m\u001b[1;33m(\u001b[0m\u001b[1;33m)\u001b[0m \u001b[1;33m>=\u001b[0m \u001b[0mself\u001b[0m\u001b[1;33m.\u001b[0m\u001b[0mmaxsize\u001b[0m\u001b[1;33m:\u001b[0m\u001b[1;33m\u001b[0m\u001b[1;33m\u001b[0m\u001b[0m\n\u001b[1;32m--> 136\u001b[1;33m                         \u001b[1;32mraise\u001b[0m \u001b[0mFull\u001b[0m\u001b[1;33m\u001b[0m\u001b[1;33m\u001b[0m\u001b[0m\n\u001b[0m\u001b[0;32m    137\u001b[0m                 \u001b[1;32melif\u001b[0m \u001b[0mtimeout\u001b[0m \u001b[1;32mis\u001b[0m \u001b[1;32mNone\u001b[0m\u001b[1;33m:\u001b[0m\u001b[1;33m\u001b[0m\u001b[1;33m\u001b[0m\u001b[0m\n\u001b[0;32m    138\u001b[0m                     \u001b[1;32mwhile\u001b[0m \u001b[0mself\u001b[0m\u001b[1;33m.\u001b[0m\u001b[0m_qsize\u001b[0m\u001b[1;33m(\u001b[0m\u001b[1;33m)\u001b[0m \u001b[1;33m>=\u001b[0m \u001b[0mself\u001b[0m\u001b[1;33m.\u001b[0m\u001b[0mmaxsize\u001b[0m\u001b[1;33m:\u001b[0m\u001b[1;33m\u001b[0m\u001b[1;33m\u001b[0m\u001b[0m\n",
            "\u001b[1;31mFull\u001b[0m: "
          ]
        }
      ],
      "source": [
        "from queue import PriorityQueue\n",
        "\n",
        "heap = PriorityQueue(maxsize = 4)\n",
        "heap.put((3, \"three\"))\n",
        "heap.put((4, \"four\"))\n",
        "heap.put((1, \"one\") )\n",
        "heap.put((2, \"two\"))\n",
        "heap.put((5, \"five\"), block=False)"
      ]
    },
    {
      "cell_type": "code",
      "execution_count": null,
      "id": "5c189666",
      "metadata": {
        "id": "5c189666",
        "outputId": "448681aa-1e3d-4ea4-ed8f-2ee623062e5e"
      },
      "outputs": [
        {
          "name": "stdout",
          "output_type": "stream",
          "text": [
            "(1, 'one')\n",
            "(2, 'two')\n",
            "(3, 'three')\n",
            "(4, 'four')\n"
          ]
        }
      ],
      "source": [
        "while not heap.empty():\n",
        "    print(heap.get())"
      ]
    },
    {
      "cell_type": "code",
      "execution_count": null,
      "id": "b3bb597b",
      "metadata": {
        "id": "b3bb597b"
      },
      "outputs": [],
      "source": [
        ""
      ]
    }
  ],
  "metadata": {
    "kernelspec": {
      "display_name": "Python 3 (ipykernel)",
      "language": "python",
      "name": "python3"
    },
    "language_info": {
      "codemirror_mode": {
        "name": "ipython",
        "version": 3
      },
      "file_extension": ".py",
      "mimetype": "text/x-python",
      "name": "python",
      "nbconvert_exporter": "python",
      "pygments_lexer": "ipython3",
      "version": "3.8.12"
    },
    "colab": {
      "name": "Ch6, Python Data Structures.ipynb",
      "provenance": [],
      "include_colab_link": true
    }
  },
  "nbformat": 4,
  "nbformat_minor": 5
}