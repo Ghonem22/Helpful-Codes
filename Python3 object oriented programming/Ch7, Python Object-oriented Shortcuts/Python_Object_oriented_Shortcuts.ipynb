{
  "cells": [
    {
      "cell_type": "markdown",
      "metadata": {
        "id": "view-in-github",
        "colab_type": "text"
      },
      "source": [
        "<a href=\"https://colab.research.google.com/github/Ghonem22/Learning/blob/main/Python3%20object%20oriented%20programming/Ch7%2C%20Python%20Object-oriented%20Shortcuts/Python_Object_oriented_Shortcuts.ipynb\" target=\"_parent\"><img src=\"https://colab.research.google.com/assets/colab-badge.svg\" alt=\"Open In Colab\"/></a>"
      ]
    },
    {
      "cell_type": "markdown",
      "id": "2d0504a5",
      "metadata": {
        "id": "2d0504a5"
      },
      "source": [
        "# CH7: Python Object-oriented Shortcuts"
      ]
    },
    {
      "cell_type": "markdown",
      "id": "0fc181ec",
      "metadata": {
        "id": "0fc181ec"
      },
      "source": [
        "## What will we cover in this chapter?\n",
        "\n",
        "\n",
        "* Built-in functions that take care of common tasks in one call\n",
        "\n",
        "* File I/O and context managers\n",
        "\n",
        "* An alternative to method overloading\n",
        "\n",
        "* Functions as objects"
      ]
    },
    {
      "cell_type": "markdown",
      "id": "2e37e5b0",
      "metadata": {
        "id": "2e37e5b0"
      },
      "source": [
        "## Python built-in functions\n",
        "\n",
        "* There are numerous functions in Python that perform a task or calculate a result on certain types of objects without being methods on the underlying class.\n",
        "\n",
        "* Many, but not all, of these are special double underscore methods.\n",
        "\n",
        "---\n",
        "\n",
        "### 1- The len() function"
      ]
    },
    {
      "cell_type": "code",
      "execution_count": null,
      "id": "1223e1ff",
      "metadata": {
        "id": "1223e1ff",
        "outputId": "21bdbc60-997e-49cc-b587-a3a1f56da185"
      },
      "outputs": [
        {
          "data": {
            "text/plain": [
              "4"
            ]
          },
          "execution_count": 1,
          "metadata": {},
          "output_type": "execute_result"
        }
      ],
      "source": [
        "len([1,2,3,4])"
      ]
    },
    {
      "cell_type": "markdown",
      "id": "2cc77277",
      "metadata": {
        "id": "2cc77277"
      },
      "source": [
        "**Most objects that len() will apply to have a method called __ len __ () that returns the same value. So len(myobj) seems to call myobj.__ len __().**"
      ]
    },
    {
      "cell_type": "markdown",
      "id": "faa8ec57",
      "metadata": {
        "id": "faa8ec57"
      },
      "source": [
        "### 2. Reversed()\n",
        "\n",
        "**it takes any sequence as input, and returns a copy of that sequence in reverse order.**\n",
        "\n",
        "**reversed calls the __ reversed __ () function on the class for the parameter.**"
      ]
    },
    {
      "cell_type": "code",
      "execution_count": null,
      "id": "92541ffe",
      "metadata": {
        "id": "92541ffe",
        "outputId": "71a2f02f-caea-4b15-dd9b-fc81de726c17"
      },
      "outputs": [
        {
          "name": "stdout",
          "output_type": "stream",
          "text": [
            "\n",
            "list: 5, 4, 3, 2, 1, \n",
            "CustomSequence: x4, x3, x2, x1, x0, \n",
            "FunkyBackwards: B, A, C, K, W, A, R, D, S, !, "
          ]
        }
      ],
      "source": [
        "normal_list=[1,2,3,4,5]\n",
        "\n",
        "class CustomSequence():\n",
        "    def __len__(self):\n",
        "        return 5\n",
        "    \n",
        "    def __getitem__(self, index):\n",
        "        return \"x{0}\".format(index)\n",
        "    \n",
        "class FunkyBackwards():\n",
        "    def __reversed__(self):\n",
        "        return \"BACKWARDS!\"\n",
        "    \n",
        "    \n",
        "for seq in normal_list, CustomSequence(), FunkyBackwards():\n",
        "    print(\"\\n{}: \".format(seq.__class__.__name__), end=\"\")\n",
        "    for item in reversed(seq):\n",
        "        print(item, end=\", \")"
      ]
    },
    {
      "cell_type": "markdown",
      "id": "c3ba8e4d",
      "metadata": {
        "id": "c3ba8e4d"
      },
      "source": [
        "### 3. Enumerate()\n",
        "\n",
        "**This is useful if we need to use index numbers directly as we use looping**\n"
      ]
    },
    {
      "cell_type": "code",
      "execution_count": null,
      "id": "9b7c103c",
      "metadata": {
        "id": "9b7c103c",
        "outputId": "ce5902db-c547-4f5b-9f0a-330ee27cc8b9"
      },
      "outputs": [
        {
          "name": "stdout",
          "output_type": "stream",
          "text": [
            "0: 1\n",
            "1: 2\n",
            "2: 3\n",
            "3: 4\n",
            "4: 5\n"
          ]
        }
      ],
      "source": [
        "normal_list=[1,2,3,4,5]\n",
        "\n",
        "for i, num in enumerate(normal_list):\n",
        "    print(\"{}: {}\".format(i, num))"
      ]
    },
    {
      "cell_type": "markdown",
      "id": "f0d82e4a",
      "metadata": {
        "id": "f0d82e4a"
      },
      "source": [
        "## File I/O\n",
        "\n",
        "* Operating systems, however, actually represent files as a sequence of bytes, not text.\n",
        "\n",
        "* Python has wrapped the interface that operating systems provide in a sweet abstraction that allows us to work with file (or file-like, vis-á-vis duck typing) objects.\n",
        "\n",
        "* The open() built-in function is used to open a file and return a file object.\n",
        "\n",
        "* The file will be opened for reading, and the bytes will be converted to text using the platform default encoding."
      ]
    },
    {
      "cell_type": "code",
      "execution_count": null,
      "id": "ec351884",
      "metadata": {
        "id": "ec351884",
        "outputId": "638a6646-d897-4d5c-93d4-111f7b09465b"
      },
      "outputs": [
        {
          "name": "stdout",
          "output_type": "stream",
          "text": [
            "C:\\Users\\aghon\\Desktop\n"
          ]
        }
      ],
      "source": [
        "# Directory of our file\n",
        "cd Desktop/"
      ]
    },
    {
      "cell_type": "code",
      "execution_count": null,
      "id": "e5484f59",
      "metadata": {
        "id": "e5484f59"
      },
      "outputs": [],
      "source": [
        "# Here we open filex.txt and write the content, then closed it\n",
        "contents = \"Some file contents\"\n",
        "file = open(\"filex.txt\", \"w\")   # if we change w to a, that will append content to the file content\n",
        "file.write(contents)\n",
        "file.close()"
      ]
    },
    {
      "cell_type": "code",
      "execution_count": null,
      "id": "5b8b466d",
      "metadata": {
        "id": "5b8b466d",
        "outputId": "5cc6fc61-2563-4015-c3f5-6c520cec86fb"
      },
      "outputs": [
        {
          "name": "stdout",
          "output_type": "stream",
          "text": [
            "Some file contentsSome file contentsSome file contents"
          ]
        }
      ],
      "source": [
        "with open('filex.txt') as file:\n",
        "    for line in file:\n",
        "        print(line, end='')"
      ]
    },
    {
      "cell_type": "markdown",
      "id": "1a70d912",
      "metadata": {
        "id": "1a70d912"
      },
      "source": [
        "## An alternative to method overloading\n",
        "\n",
        "* **it simply refers to having multiple methods with the same name that accept different sets of arguments.**\n",
        "\n",
        "* **In non-object-oriented languages, we might need two functions, called add_s and add_i, to accommodate such situations.**\n",
        "\n",
        "* **In statically typed object-oriented languages, we'd need two methods, both called add, one that accepts strings, and one that accepts integers.** \n",
        "\n",
        "* **In Python, we only need one method, which accepts any type of object. It may have to do some testing on the object type (for example, if it is a string, convert it to an integer), but only one method is required.** \n",
        "\n"
      ]
    },
    {
      "cell_type": "markdown",
      "id": "a9bbc01b",
      "metadata": {
        "id": "a9bbc01b"
      },
      "source": [
        "### Variable argument lists"
      ]
    },
    {
      "cell_type": "code",
      "execution_count": null,
      "id": "53626702",
      "metadata": {
        "id": "53626702",
        "outputId": "ea7b7c61-4bc7-461c-a36c-f42da75a7e0b"
      },
      "outputs": [
        {
          "name": "stdout",
          "output_type": "stream",
          "text": [
            "http://www.archlinux.org\n",
            "http://www.archlinux.org\n",
            "http://ccphillips.net/\n"
          ]
        }
      ],
      "source": [
        "def get_pages(*links):\n",
        "    for link in links:\n",
        "        #download the link with urllib\n",
        "        print(link)\n",
        "        \n",
        "get_pages()\n",
        "get_pages('http://www.archlinux.org')\n",
        "get_pages('http://www.archlinux.org',\n",
        "                'http://ccphillips.net/')"
      ]
    },
    {
      "cell_type": "code",
      "execution_count": null,
      "id": "54803cce",
      "metadata": {
        "id": "54803cce"
      },
      "outputs": [],
      "source": [
        "# Here is another example:\n",
        "\n",
        "class Options:\n",
        "    default_options = {\n",
        "                        'port': 21,\n",
        "                        'host': 'localhost',\n",
        "                        'username': None,\n",
        "                        'password': None,\n",
        "                        'debug': False,\n",
        "                        }\n",
        "    \n",
        "    def __init__(self, **kwargs):\n",
        "        \n",
        "        self.options = dict(Options.default_options)\n",
        "        self.options.update(kwargs)\n",
        "        \n",
        "    # it simply allows us to use the new class using indexing syntax.    \n",
        "    def __getitem__(self, key):\n",
        "        return self.options[key]    "
      ]
    },
    {
      "cell_type": "code",
      "execution_count": null,
      "id": "8d320673",
      "metadata": {
        "id": "8d320673"
      },
      "outputs": [],
      "source": [
        "options = Options(username=\"dusty\", password=\"drowssap\", debug=True)"
      ]
    },
    {
      "cell_type": "code",
      "execution_count": null,
      "id": "bf201a30",
      "metadata": {
        "id": "bf201a30",
        "outputId": "2fcf51c7-8f02-4e87-9285-e1b45420f898"
      },
      "outputs": [
        {
          "data": {
            "text/plain": [
              "True"
            ]
          },
          "execution_count": 5,
          "metadata": {},
          "output_type": "execute_result"
        }
      ],
      "source": [
        "options['debug']"
      ]
    },
    {
      "cell_type": "code",
      "execution_count": null,
      "id": "15601382",
      "metadata": {
        "id": "15601382",
        "outputId": "aa21b3d0-e87e-4262-ec9f-1b2378c74301"
      },
      "outputs": [
        {
          "data": {
            "text/plain": [
              "21"
            ]
          },
          "execution_count": 6,
          "metadata": {},
          "output_type": "execute_result"
        }
      ],
      "source": [
        "options['port']"
      ]
    },
    {
      "cell_type": "markdown",
      "id": "db2f9ed5",
      "metadata": {
        "id": "db2f9ed5"
      },
      "source": [
        "**a detailed example**"
      ]
    },
    {
      "cell_type": "code",
      "execution_count": null,
      "id": "ca9308a6",
      "metadata": {
        "id": "ca9308a6"
      },
      "outputs": [],
      "source": [
        "import shutil\n",
        "import os.path\n",
        "\n",
        "\n",
        "def augmented_move(target_folder, *filenames, verbose=False, **specific):\n",
        "    '''Move all filenames into the target_folder, allowing\n",
        "    specific treatment of certain files.'''\n",
        "    \n",
        "    def print_verbose(message, filename):\n",
        "        '''print the message only if verbose is enabled'''\n",
        "        if verbose:\n",
        "            print(message.format(filename))\n",
        "            \n",
        "    for filename in filenames:\n",
        "        target_path = os.path.join(target_folder, filename)\n",
        "        if filename in specific:\n",
        "            if specific[filename] == 'ignore':\n",
        "                print_verbose(\"Ignoring {0}\", filename)\n",
        "            elif specific[filename] == 'copy':\n",
        "                print_verbose(\"Copying {0}\", filename)\n",
        "                shutil.copyfile(filename, target_path)\n",
        "        else:\n",
        "            print_verbose(\"Moving {0}\", filename)\n",
        "            shutil.move(filename, target_path)"
      ]
    },
    {
      "cell_type": "code",
      "execution_count": null,
      "id": "d6dee1d4",
      "metadata": {
        "id": "d6dee1d4"
      },
      "outputs": [],
      "source": [
        "# Example (it would raise error: there is nocsuch files)\n",
        "\n",
        "# here  \"four\", \"five\", \"six\", \"three\" will be stored in  *filenames to unpack and use them later. \n",
        "augmented_move(\"move_here\", \"four\", \"five\", \"six\", \"three\", verbose=True)\n",
        "\n",
        "# here  (four=\"copy\", five=\"ignore\") will be stored as dict in  **specific to unpack and use them later. \n",
        "augmented_move(\"move_here\", \"four\", \"five\", \"six\", four=\"copy\", five=\"ignore\")"
      ]
    },
    {
      "cell_type": "markdown",
      "id": "69d8fea0",
      "metadata": {
        "id": "69d8fea0"
      },
      "source": [
        "### Unpacking arguments"
      ]
    },
    {
      "cell_type": "code",
      "execution_count": null,
      "id": "6b1688cf",
      "metadata": {
        "id": "6b1688cf",
        "outputId": "c60039d1-7c2f-4ef4-f11b-2e473ffb9689"
      },
      "outputs": [
        {
          "name": "stdout",
          "output_type": "stream",
          "text": [
            "Unpacking a sequence: 0 1 2\n",
            "Unpacking a dict: ONE TWO THREE\n"
          ]
        }
      ],
      "source": [
        "def show_args(arg1, arg2, arg3=\"THREE\"):\n",
        "    print(arg1, arg2, arg3)\n",
        "    \n",
        "some_args = range(3)\n",
        "more_args = {\n",
        "            \"arg1\": \"ONE\",\n",
        "            \"arg2\": \"TWO\"}\n",
        "\n",
        "print(\"Unpacking a sequence:\", end=\" \")\n",
        "show_args(*some_args)\n",
        "\n",
        "print(\"Unpacking a dict:\", end=\" \")\n",
        "show_args(**more_args)"
      ]
    },
    {
      "cell_type": "markdown",
      "id": "05ff50a5",
      "metadata": {
        "id": "05ff50a5"
      },
      "source": [
        "## Functions are objects too\n",
        "\n",
        "**We set an attribute on the function, named description (not very good descriptions, admittedly). We were also able to see the function's __name__ attribute, and to access its class, demonstrating that the function really is an object with attributes. Then we called the function by using the callable syntax (the parentheses).**"
      ]
    },
    {
      "cell_type": "markdown",
      "id": "b86342af",
      "metadata": {
        "id": "b86342af"
      },
      "source": [
        "### Using functions as attributes"
      ]
    },
    {
      "cell_type": "code",
      "execution_count": null,
      "id": "0c80d8b1",
      "metadata": {
        "id": "0c80d8b1"
      },
      "outputs": [],
      "source": [
        "class A:\n",
        "    def print(self):\n",
        "        print(\"my class is A\")\n",
        "\n",
        "def fake_print():\n",
        "    print(\"my class is not A\")"
      ]
    },
    {
      "cell_type": "code",
      "execution_count": null,
      "id": "9ed02322",
      "metadata": {
        "id": "9ed02322",
        "outputId": "32a2a653-4519-43f7-d42a-0c4c7c97f0cf"
      },
      "outputs": [
        {
          "name": "stdout",
          "output_type": "stream",
          "text": [
            "my class is A\n",
            "my class is not A\n"
          ]
        }
      ],
      "source": [
        "a = A()\n",
        "a.print()\n",
        "a.print = fake_print\n",
        "a.print()"
      ]
    },
    {
      "cell_type": "markdown",
      "id": "7ee1051b",
      "metadata": {
        "id": "7ee1051b"
      },
      "source": [
        "**replacing or adding methods at run time (called monkey-patching) is used in automated testing.but it can be dangerous:\n",
        "\n",
        "* There is no self parameter in the function, So This will change the method for all instances of that object, even ones that have already been instantiated.\n",
        "\n",
        "* this can be both dangerous and confusing to maintain."
      ]
    },
    {
      "cell_type": "code",
      "execution_count": null,
      "id": "aec314e2",
      "metadata": {
        "id": "aec314e2"
      },
      "outputs": [],
      "source": [
        ""
      ]
    }
  ],
  "metadata": {
    "kernelspec": {
      "display_name": "Python 3 (ipykernel)",
      "language": "python",
      "name": "python3"
    },
    "language_info": {
      "codemirror_mode": {
        "name": "ipython",
        "version": 3
      },
      "file_extension": ".py",
      "mimetype": "text/x-python",
      "name": "python",
      "nbconvert_exporter": "python",
      "pygments_lexer": "ipython3",
      "version": "3.8.12"
    },
    "colab": {
      "name": "CH7, Python Object-oriented Shortcuts.ipynb",
      "provenance": [],
      "include_colab_link": true
    }
  },
  "nbformat": 4,
  "nbformat_minor": 5
}