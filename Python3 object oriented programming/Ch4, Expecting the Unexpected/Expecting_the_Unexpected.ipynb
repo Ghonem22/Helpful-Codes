{
  "nbformat": 4,
  "nbformat_minor": 5,
  "metadata": {
    "kernelspec": {
      "display_name": "Python 3 (ipykernel)",
      "language": "python",
      "name": "python3"
    },
    "language_info": {
      "codemirror_mode": {
        "name": "ipython",
        "version": 3
      },
      "file_extension": ".py",
      "mimetype": "text/x-python",
      "name": "python",
      "nbconvert_exporter": "python",
      "pygments_lexer": "ipython3",
      "version": "3.8.5"
    },
    "colab": {
      "name": "Ch4, Expecting the Unexpected.ipynb",
      "provenance": [],
      "toc_visible": true,
      "include_colab_link": true
    }
  },
  "cells": [
    {
      "cell_type": "markdown",
      "metadata": {
        "id": "view-in-github",
        "colab_type": "text"
      },
      "source": [
        "<a href=\"https://colab.research.google.com/github/Ghonem22/Learning/blob/main/Python3%20object%20oriented%20programming/Ch4%2C%20Expecting%20the%20Unexpected/Expecting_the_Unexpected.ipynb\" target=\"_parent\"><img src=\"https://colab.research.google.com/assets/colab-badge.svg\" alt=\"Open In Colab\"/></a>"
      ]
    },
    {
      "cell_type": "markdown",
      "metadata": {
        "id": "8ef39af0"
      },
      "source": [
        "# Ch4: Expecting the Unexpected\n"
      ],
      "id": "8ef39af0"
    },
    {
      "cell_type": "markdown",
      "metadata": {
        "id": "0bf8bcde"
      },
      "source": [
        "### What will we cover in this chapter?\n",
        "\n",
        "- How to cause an exception to occur\n",
        "\n",
        "- How to recover when an exception has occurred\n",
        "\n",
        "- How to handle different exception types in different ways\n",
        "\n",
        "- Creating new types of exception\n",
        "\n",
        "- Using the exception syntax for flow control"
      ],
      "id": "0bf8bcde"
    },
    {
      "cell_type": "markdown",
      "metadata": {
        "id": "c793d305"
      },
      "source": [
        "## Types of Errors"
      ],
      "id": "c793d305"
    },
    {
      "cell_type": "code",
      "metadata": {
        "id": "701951dd",
        "outputId": "43f1c932-f25f-4936-c032-814e05f3869d"
      },
      "source": [
        "# SyntaxError\n",
        "print \"hello world\""
      ],
      "id": "701951dd",
      "execution_count": null,
      "outputs": [
        {
          "ename": "SyntaxError",
          "evalue": "Missing parentheses in call to 'print'. Did you mean print(\"hello world\")? (Temp/ipykernel_7116/3454453950.py, line 2)",
          "output_type": "error",
          "traceback": [
            "\u001b[1;36m  File \u001b[1;32m\"C:\\Users\\aghon\\AppData\\Local\\Temp/ipykernel_7116/3454453950.py\"\u001b[1;36m, line \u001b[1;32m2\u001b[0m\n\u001b[1;33m    print \"hello world\"\u001b[0m\n\u001b[1;37m          ^\u001b[0m\n\u001b[1;31mSyntaxError\u001b[0m\u001b[1;31m:\u001b[0m Missing parentheses in call to 'print'. Did you mean print(\"hello world\")?\n"
          ]
        }
      ]
    },
    {
      "cell_type": "code",
      "metadata": {
        "id": "216f56b7",
        "outputId": "294c5cb7-2ec6-4765-af14-5113306c9970"
      },
      "source": [
        "# ZeroDivisionError:\n",
        "x = 5 / 0"
      ],
      "id": "216f56b7",
      "execution_count": null,
      "outputs": [
        {
          "ename": "ZeroDivisionError",
          "evalue": "division by zero",
          "output_type": "error",
          "traceback": [
            "\u001b[1;31m---------------------------------------------------------------------------\u001b[0m",
            "\u001b[1;31mZeroDivisionError\u001b[0m                         Traceback (most recent call last)",
            "\u001b[1;32m~\\AppData\\Local\\Temp/ipykernel_7116/2163786239.py\u001b[0m in \u001b[0;36m<module>\u001b[1;34m\u001b[0m\n\u001b[0;32m      1\u001b[0m \u001b[1;31m# ZeroDivisionError:\u001b[0m\u001b[1;33m\u001b[0m\u001b[1;33m\u001b[0m\u001b[1;33m\u001b[0m\u001b[0m\n\u001b[1;32m----> 2\u001b[1;33m \u001b[0mx\u001b[0m \u001b[1;33m=\u001b[0m \u001b[1;36m5\u001b[0m \u001b[1;33m/\u001b[0m \u001b[1;36m0\u001b[0m\u001b[1;33m\u001b[0m\u001b[1;33m\u001b[0m\u001b[0m\n\u001b[0m",
            "\u001b[1;31mZeroDivisionError\u001b[0m: division by zero"
          ]
        }
      ]
    },
    {
      "cell_type": "code",
      "metadata": {
        "id": "9f613998",
        "outputId": "2ed7ef4d-aeb4-4524-8b7d-b1bf7f71cc1d"
      },
      "source": [
        "# IndexError:\n",
        "lst = [1,2,3]\n",
        "print(lst[3])"
      ],
      "id": "9f613998",
      "execution_count": null,
      "outputs": [
        {
          "ename": "IndexError",
          "evalue": "list index out of range",
          "output_type": "error",
          "traceback": [
            "\u001b[1;31m---------------------------------------------------------------------------\u001b[0m",
            "\u001b[1;31mIndexError\u001b[0m                                Traceback (most recent call last)",
            "\u001b[1;32m~\\AppData\\Local\\Temp/ipykernel_7116/2866965290.py\u001b[0m in \u001b[0;36m<module>\u001b[1;34m\u001b[0m\n\u001b[0;32m      1\u001b[0m \u001b[1;31m# IndexError:\u001b[0m\u001b[1;33m\u001b[0m\u001b[1;33m\u001b[0m\u001b[1;33m\u001b[0m\u001b[0m\n\u001b[0;32m      2\u001b[0m \u001b[0mlst\u001b[0m \u001b[1;33m=\u001b[0m \u001b[1;33m[\u001b[0m\u001b[1;36m1\u001b[0m\u001b[1;33m,\u001b[0m\u001b[1;36m2\u001b[0m\u001b[1;33m,\u001b[0m\u001b[1;36m3\u001b[0m\u001b[1;33m]\u001b[0m\u001b[1;33m\u001b[0m\u001b[1;33m\u001b[0m\u001b[0m\n\u001b[1;32m----> 3\u001b[1;33m \u001b[0mprint\u001b[0m\u001b[1;33m(\u001b[0m\u001b[0mlst\u001b[0m\u001b[1;33m[\u001b[0m\u001b[1;36m3\u001b[0m\u001b[1;33m]\u001b[0m\u001b[1;33m)\u001b[0m\u001b[1;33m\u001b[0m\u001b[1;33m\u001b[0m\u001b[0m\n\u001b[0m",
            "\u001b[1;31mIndexError\u001b[0m: list index out of range"
          ]
        }
      ]
    },
    {
      "cell_type": "code",
      "metadata": {
        "id": "b04be2e3",
        "outputId": "428d3c72-4c5f-4234-c7fd-86ddb7c27434"
      },
      "source": [
        "# TypeError:\n",
        "lst + 2"
      ],
      "id": "b04be2e3",
      "execution_count": null,
      "outputs": [
        {
          "ename": "TypeError",
          "evalue": "can only concatenate list (not \"int\") to list",
          "output_type": "error",
          "traceback": [
            "\u001b[1;31m---------------------------------------------------------------------------\u001b[0m",
            "\u001b[1;31mTypeError\u001b[0m                                 Traceback (most recent call last)",
            "\u001b[1;32m~\\AppData\\Local\\Temp/ipykernel_7116/3642855859.py\u001b[0m in \u001b[0;36m<module>\u001b[1;34m\u001b[0m\n\u001b[0;32m      1\u001b[0m \u001b[1;31m# TypeError:\u001b[0m\u001b[1;33m\u001b[0m\u001b[1;33m\u001b[0m\u001b[1;33m\u001b[0m\u001b[0m\n\u001b[1;32m----> 2\u001b[1;33m \u001b[0mlst\u001b[0m \u001b[1;33m+\u001b[0m \u001b[1;36m2\u001b[0m\u001b[1;33m\u001b[0m\u001b[1;33m\u001b[0m\u001b[0m\n\u001b[0m",
            "\u001b[1;31mTypeError\u001b[0m: can only concatenate list (not \"int\") to list"
          ]
        }
      ]
    },
    {
      "cell_type": "code",
      "metadata": {
        "id": "56bd78f4",
        "outputId": "1922f75f-1072-4b94-86c4-ab51358d0c50"
      },
      "source": [
        "# AttributeError:\n",
        "lst.add"
      ],
      "id": "56bd78f4",
      "execution_count": null,
      "outputs": [
        {
          "ename": "AttributeError",
          "evalue": "'list' object has no attribute 'add'",
          "output_type": "error",
          "traceback": [
            "\u001b[1;31m---------------------------------------------------------------------------\u001b[0m",
            "\u001b[1;31mAttributeError\u001b[0m                            Traceback (most recent call last)",
            "\u001b[1;32m~\\AppData\\Local\\Temp/ipykernel_7116/1119881608.py\u001b[0m in \u001b[0;36m<module>\u001b[1;34m\u001b[0m\n\u001b[0;32m      1\u001b[0m \u001b[1;31m# AttributeError:\u001b[0m\u001b[1;33m\u001b[0m\u001b[1;33m\u001b[0m\u001b[1;33m\u001b[0m\u001b[0m\n\u001b[1;32m----> 2\u001b[1;33m \u001b[0mlst\u001b[0m\u001b[1;33m.\u001b[0m\u001b[0madd\u001b[0m\u001b[1;33m\u001b[0m\u001b[1;33m\u001b[0m\u001b[0m\n\u001b[0m",
            "\u001b[1;31mAttributeError\u001b[0m: 'list' object has no attribute 'add'"
          ]
        }
      ]
    },
    {
      "cell_type": "code",
      "metadata": {
        "id": "4f5231a6",
        "outputId": "0a0f096f-063a-4a45-fd46-cb8ecd49c2fd"
      },
      "source": [
        "# KeyError:\n",
        "d = {'a': 'hello'}\n",
        "d['b']"
      ],
      "id": "4f5231a6",
      "execution_count": null,
      "outputs": [
        {
          "ename": "KeyError",
          "evalue": "'b'",
          "output_type": "error",
          "traceback": [
            "\u001b[1;31m---------------------------------------------------------------------------\u001b[0m",
            "\u001b[1;31mKeyError\u001b[0m                                  Traceback (most recent call last)",
            "\u001b[1;32m~\\AppData\\Local\\Temp/ipykernel_7116/3049536236.py\u001b[0m in \u001b[0;36m<module>\u001b[1;34m\u001b[0m\n\u001b[0;32m      1\u001b[0m \u001b[1;31m# KeyError:\u001b[0m\u001b[1;33m\u001b[0m\u001b[1;33m\u001b[0m\u001b[1;33m\u001b[0m\u001b[0m\n\u001b[0;32m      2\u001b[0m \u001b[0md\u001b[0m \u001b[1;33m=\u001b[0m \u001b[1;33m{\u001b[0m\u001b[1;34m'a'\u001b[0m\u001b[1;33m:\u001b[0m \u001b[1;34m'hello'\u001b[0m\u001b[1;33m}\u001b[0m\u001b[1;33m\u001b[0m\u001b[1;33m\u001b[0m\u001b[0m\n\u001b[1;32m----> 3\u001b[1;33m \u001b[0md\u001b[0m\u001b[1;33m[\u001b[0m\u001b[1;34m'b'\u001b[0m\u001b[1;33m]\u001b[0m\u001b[1;33m\u001b[0m\u001b[1;33m\u001b[0m\u001b[0m\n\u001b[0m",
            "\u001b[1;31mKeyError\u001b[0m: 'b'"
          ]
        }
      ]
    },
    {
      "cell_type": "code",
      "metadata": {
        "id": "ab3da19a",
        "outputId": "7b05fa55-1dd6-459e-8e54-f593094ca175"
      },
      "source": [
        "# NameError:\n",
        "print(this_is_not_a_var)"
      ],
      "id": "ab3da19a",
      "execution_count": null,
      "outputs": [
        {
          "ename": "NameError",
          "evalue": "name 'this_is_not_a_var' is not defined",
          "output_type": "error",
          "traceback": [
            "\u001b[1;31m---------------------------------------------------------------------------\u001b[0m",
            "\u001b[1;31mNameError\u001b[0m                                 Traceback (most recent call last)",
            "\u001b[1;32m~\\AppData\\Local\\Temp/ipykernel_7116/2616781117.py\u001b[0m in \u001b[0;36m<module>\u001b[1;34m\u001b[0m\n\u001b[0;32m      1\u001b[0m \u001b[1;31m# NameError:\u001b[0m\u001b[1;33m\u001b[0m\u001b[1;33m\u001b[0m\u001b[1;33m\u001b[0m\u001b[0m\n\u001b[1;32m----> 2\u001b[1;33m \u001b[0mprint\u001b[0m\u001b[1;33m(\u001b[0m\u001b[0mthis_is_not_a_var\u001b[0m\u001b[1;33m)\u001b[0m\u001b[1;33m\u001b[0m\u001b[1;33m\u001b[0m\u001b[0m\n\u001b[0m",
            "\u001b[1;31mNameError\u001b[0m: name 'this_is_not_a_var' is not defined"
          ]
        }
      ]
    },
    {
      "cell_type": "markdown",
      "metadata": {
        "id": "ed56117e"
      },
      "source": [
        "### Raising an exception\n",
        "\n",
        "Raising an exception stops all execution right up through the function call stack until it is either handled or forces the interpreter to exit."
      ],
      "id": "ed56117e"
    },
    {
      "cell_type": "code",
      "metadata": {
        "id": "162e7494"
      },
      "source": [
        "class EvenOnly(list):\n",
        "    '''\n",
        "    We override append method here, to append only even int numbers.\n",
        "    \n",
        "    Notice That we raised:\n",
        "    1- TypeError if the user tried to append any values except int num\n",
        "    2- ValueError if the user tried to append odd number.\n",
        "    '''\n",
        "    def append(self, integer):\n",
        "        if not isinstance(integer, int):\n",
        "            raise TypeError(\"Only integers can be added\")\n",
        "        if integer % 2:\n",
        "            raise ValueError(\"Only even numbers can be added\")\n",
        "        super().append(integer)"
      ],
      "id": "162e7494",
      "execution_count": null,
      "outputs": []
    },
    {
      "cell_type": "code",
      "metadata": {
        "id": "ea3b014c"
      },
      "source": [
        "x = EvenOnly()\n",
        "x.append(4)"
      ],
      "id": "ea3b014c",
      "execution_count": null,
      "outputs": []
    },
    {
      "cell_type": "code",
      "metadata": {
        "id": "2a85d65b",
        "outputId": "0c3bed65-f318-4ec4-851c-7bdce14cdcee"
      },
      "source": [
        "x.append(14.2)"
      ],
      "id": "2a85d65b",
      "execution_count": null,
      "outputs": [
        {
          "ename": "TypeError",
          "evalue": "Only integers can be added",
          "output_type": "error",
          "traceback": [
            "\u001b[1;31m---------------------------------------------------------------------------\u001b[0m",
            "\u001b[1;31mTypeError\u001b[0m                                 Traceback (most recent call last)",
            "\u001b[1;32m~\\AppData\\Local\\Temp/ipykernel_7116/1824647577.py\u001b[0m in \u001b[0;36m<module>\u001b[1;34m\u001b[0m\n\u001b[1;32m----> 1\u001b[1;33m \u001b[0mx\u001b[0m\u001b[1;33m.\u001b[0m\u001b[0mappend\u001b[0m\u001b[1;33m(\u001b[0m\u001b[1;36m14.2\u001b[0m\u001b[1;33m)\u001b[0m\u001b[1;33m\u001b[0m\u001b[1;33m\u001b[0m\u001b[0m\n\u001b[0m",
            "\u001b[1;32m~\\AppData\\Local\\Temp/ipykernel_7116/1949004208.py\u001b[0m in \u001b[0;36mappend\u001b[1;34m(self, integer)\u001b[0m\n\u001b[0;32m      9\u001b[0m     \u001b[1;32mdef\u001b[0m \u001b[0mappend\u001b[0m\u001b[1;33m(\u001b[0m\u001b[0mself\u001b[0m\u001b[1;33m,\u001b[0m \u001b[0minteger\u001b[0m\u001b[1;33m)\u001b[0m\u001b[1;33m:\u001b[0m\u001b[1;33m\u001b[0m\u001b[1;33m\u001b[0m\u001b[0m\n\u001b[0;32m     10\u001b[0m         \u001b[1;32mif\u001b[0m \u001b[1;32mnot\u001b[0m \u001b[0misinstance\u001b[0m\u001b[1;33m(\u001b[0m\u001b[0minteger\u001b[0m\u001b[1;33m,\u001b[0m \u001b[0mint\u001b[0m\u001b[1;33m)\u001b[0m\u001b[1;33m:\u001b[0m\u001b[1;33m\u001b[0m\u001b[1;33m\u001b[0m\u001b[0m\n\u001b[1;32m---> 11\u001b[1;33m             \u001b[1;32mraise\u001b[0m \u001b[0mTypeError\u001b[0m\u001b[1;33m(\u001b[0m\u001b[1;34m\"Only integers can be added\"\u001b[0m\u001b[1;33m)\u001b[0m\u001b[1;33m\u001b[0m\u001b[1;33m\u001b[0m\u001b[0m\n\u001b[0m\u001b[0;32m     12\u001b[0m         \u001b[1;32mif\u001b[0m \u001b[0minteger\u001b[0m \u001b[1;33m%\u001b[0m \u001b[1;36m2\u001b[0m\u001b[1;33m:\u001b[0m\u001b[1;33m\u001b[0m\u001b[1;33m\u001b[0m\u001b[0m\n\u001b[0;32m     13\u001b[0m             \u001b[1;32mraise\u001b[0m \u001b[0mValueError\u001b[0m\u001b[1;33m(\u001b[0m\u001b[1;34m\"Only even numbers can be added\"\u001b[0m\u001b[1;33m)\u001b[0m\u001b[1;33m\u001b[0m\u001b[1;33m\u001b[0m\u001b[0m\n",
            "\u001b[1;31mTypeError\u001b[0m: Only integers can be added"
          ]
        }
      ]
    },
    {
      "cell_type": "code",
      "metadata": {
        "id": "c4c46f7a",
        "outputId": "b1656d93-b43c-4c6a-cc50-0748d66a45b5"
      },
      "source": [
        "x.append(3)"
      ],
      "id": "c4c46f7a",
      "execution_count": null,
      "outputs": [
        {
          "ename": "ValueError",
          "evalue": "Only even numbers can be added",
          "output_type": "error",
          "traceback": [
            "\u001b[1;31m---------------------------------------------------------------------------\u001b[0m",
            "\u001b[1;31mValueError\u001b[0m                                Traceback (most recent call last)",
            "\u001b[1;32m~\\AppData\\Local\\Temp/ipykernel_7116/304661131.py\u001b[0m in \u001b[0;36m<module>\u001b[1;34m\u001b[0m\n\u001b[1;32m----> 1\u001b[1;33m \u001b[0mx\u001b[0m\u001b[1;33m.\u001b[0m\u001b[0mappend\u001b[0m\u001b[1;33m(\u001b[0m\u001b[1;36m3\u001b[0m\u001b[1;33m)\u001b[0m\u001b[1;33m\u001b[0m\u001b[1;33m\u001b[0m\u001b[0m\n\u001b[0m",
            "\u001b[1;32m~\\AppData\\Local\\Temp/ipykernel_7116/1949004208.py\u001b[0m in \u001b[0;36mappend\u001b[1;34m(self, integer)\u001b[0m\n\u001b[0;32m     11\u001b[0m             \u001b[1;32mraise\u001b[0m \u001b[0mTypeError\u001b[0m\u001b[1;33m(\u001b[0m\u001b[1;34m\"Only integers can be added\"\u001b[0m\u001b[1;33m)\u001b[0m\u001b[1;33m\u001b[0m\u001b[1;33m\u001b[0m\u001b[0m\n\u001b[0;32m     12\u001b[0m         \u001b[1;32mif\u001b[0m \u001b[0minteger\u001b[0m \u001b[1;33m%\u001b[0m \u001b[1;36m2\u001b[0m\u001b[1;33m:\u001b[0m\u001b[1;33m\u001b[0m\u001b[1;33m\u001b[0m\u001b[0m\n\u001b[1;32m---> 13\u001b[1;33m             \u001b[1;32mraise\u001b[0m \u001b[0mValueError\u001b[0m\u001b[1;33m(\u001b[0m\u001b[1;34m\"Only even numbers can be added\"\u001b[0m\u001b[1;33m)\u001b[0m\u001b[1;33m\u001b[0m\u001b[1;33m\u001b[0m\u001b[0m\n\u001b[0m\u001b[0;32m     14\u001b[0m         \u001b[0msuper\u001b[0m\u001b[1;33m(\u001b[0m\u001b[1;33m)\u001b[0m\u001b[1;33m.\u001b[0m\u001b[0mappend\u001b[0m\u001b[1;33m(\u001b[0m\u001b[0minteger\u001b[0m\u001b[1;33m)\u001b[0m\u001b[1;33m\u001b[0m\u001b[1;33m\u001b[0m\u001b[0m\n",
            "\u001b[1;31mValueError\u001b[0m: Only even numbers can be added"
          ]
        }
      ]
    },
    {
      "cell_type": "markdown",
      "metadata": {
        "id": "7235cffc"
      },
      "source": [
        "### Handling exceptions"
      ],
      "id": "7235cffc"
    },
    {
      "cell_type": "markdown",
      "metadata": {
        "id": "a29481ea"
      },
      "source": [
        "**The code stops excution after an Error is raised, which we will notice in the example below:**\n",
        "\n",
        "The first line in  no_return() is printed, then the Exception is raised, which stop stop excution and move to except phrase."
      ],
      "id": "a29481ea"
    },
    {
      "cell_type": "code",
      "metadata": {
        "id": "dc3088af",
        "outputId": "88ffda87-f78b-4901-a204-cdc8ded25811"
      },
      "source": [
        "def no_return():\n",
        "    print(\"I am about to raise an exception\")\n",
        "    raise Exception(\"This is always raised\")\n",
        "    print(\"This line will never execute\")\n",
        "    return \"I won't be returned\"\n",
        "\n",
        "'''\n",
        "if Try met any Exception from any kind, it will stop excution\n",
        "and excpet will continue excution.\n",
        "\n",
        "We can add specific type of Exceptions after except. but in this case, excpet\n",
        "will continue excution if this Exceptions is raised only.\n",
        "'''\n",
        "try:\n",
        "    no_return()\n",
        "except:\n",
        "    print(\"I caught an exception\")\n",
        "    print(\"executed after the exception\")"
      ],
      "id": "dc3088af",
      "execution_count": null,
      "outputs": [
        {
          "name": "stdout",
          "output_type": "stream",
          "text": [
            "I am about to raise an exception\n",
            "I caught an exception\n",
            "executed after the exception\n"
          ]
        }
      ]
    },
    {
      "cell_type": "code",
      "metadata": {
        "id": "802b0021",
        "outputId": "a7a558f0-442b-4655-b513-4ebb9f147f04"
      },
      "source": [
        "def funny_division(divider):\n",
        "    try:\n",
        "        return 100 / divider\n",
        "    except ZeroDivisionError:\n",
        "        return \"Zero is not a good idea!\"\n",
        "\n",
        "print(funny_division(0))\n",
        "print(funny_division(50.0))\n",
        "\n",
        "'''\n",
        "We didn't include TypeError after except, So this line won't Work properly As\n",
        "you will see\n",
        "'''\n",
        "print(funny_division(\"hello\"))"
      ],
      "id": "802b0021",
      "execution_count": null,
      "outputs": [
        {
          "name": "stdout",
          "output_type": "stream",
          "text": [
            "Zero is not a good idea!\n",
            "2.0\n"
          ]
        },
        {
          "ename": "TypeError",
          "evalue": "unsupported operand type(s) for /: 'int' and 'str'",
          "output_type": "error",
          "traceback": [
            "\u001b[1;31m---------------------------------------------------------------------------\u001b[0m",
            "\u001b[1;31mTypeError\u001b[0m                                 Traceback (most recent call last)",
            "\u001b[1;32m~\\AppData\\Local\\Temp/ipykernel_7116/1698764583.py\u001b[0m in \u001b[0;36m<module>\u001b[1;34m\u001b[0m\n\u001b[0;32m     12\u001b[0m \u001b[0myou\u001b[0m \u001b[0mwill\u001b[0m \u001b[0msee\u001b[0m\u001b[1;33m\u001b[0m\u001b[1;33m\u001b[0m\u001b[0m\n\u001b[0;32m     13\u001b[0m '''\n\u001b[1;32m---> 14\u001b[1;33m \u001b[0mprint\u001b[0m\u001b[1;33m(\u001b[0m\u001b[0mfunny_division\u001b[0m\u001b[1;33m(\u001b[0m\u001b[1;34m\"hello\"\u001b[0m\u001b[1;33m)\u001b[0m\u001b[1;33m)\u001b[0m\u001b[1;33m\u001b[0m\u001b[1;33m\u001b[0m\u001b[0m\n\u001b[0m",
            "\u001b[1;32m~\\AppData\\Local\\Temp/ipykernel_7116/1698764583.py\u001b[0m in \u001b[0;36mfunny_division\u001b[1;34m(divider)\u001b[0m\n\u001b[0;32m      1\u001b[0m \u001b[1;32mdef\u001b[0m \u001b[0mfunny_division\u001b[0m\u001b[1;33m(\u001b[0m\u001b[0mdivider\u001b[0m\u001b[1;33m)\u001b[0m\u001b[1;33m:\u001b[0m\u001b[1;33m\u001b[0m\u001b[1;33m\u001b[0m\u001b[0m\n\u001b[0;32m      2\u001b[0m     \u001b[1;32mtry\u001b[0m\u001b[1;33m:\u001b[0m\u001b[1;33m\u001b[0m\u001b[1;33m\u001b[0m\u001b[0m\n\u001b[1;32m----> 3\u001b[1;33m         \u001b[1;32mreturn\u001b[0m \u001b[1;36m100\u001b[0m \u001b[1;33m/\u001b[0m \u001b[0mdivider\u001b[0m\u001b[1;33m\u001b[0m\u001b[1;33m\u001b[0m\u001b[0m\n\u001b[0m\u001b[0;32m      4\u001b[0m     \u001b[1;32mexcept\u001b[0m \u001b[0mZeroDivisionError\u001b[0m\u001b[1;33m:\u001b[0m\u001b[1;33m\u001b[0m\u001b[1;33m\u001b[0m\u001b[0m\n\u001b[0;32m      5\u001b[0m         \u001b[1;32mreturn\u001b[0m \u001b[1;34m\"Zero is not a good idea!\"\u001b[0m\u001b[1;33m\u001b[0m\u001b[1;33m\u001b[0m\u001b[0m\n",
            "\u001b[1;31mTypeError\u001b[0m: unsupported operand type(s) for /: 'int' and 'str'"
          ]
        }
      ]
    },
    {
      "cell_type": "markdown",
      "metadata": {
        "id": "d6c05a41"
      },
      "source": [
        "If we had used an empty except clause that didn't specify a ZeroDivisionError, it would have accused us of dividing by zero when we sent it a string\n",
        "\n",
        "We can even catch two or more different exceptions and handle them with the same code."
      ],
      "id": "d6c05a41"
    },
    {
      "cell_type": "code",
      "metadata": {
        "id": "886fcdeb",
        "outputId": "3b20c158-43d8-41b9-8b68-45c6bf52328b"
      },
      "source": [
        "def funny_division2(anumber):\n",
        "    try:\n",
        "        if anumber == 13:\n",
        "            raise ValueError(\"13 is an unlucky number\")\n",
        "        return 100 / anumber\n",
        "    except (ZeroDivisionError, TypeError):\n",
        "        return \"Enter a number other than zero\"\n",
        "'''\n",
        "num 13 will raise ValueError which isn't included with except,\n",
        "So ValueError will be raised when we try to use 13\n",
        "'''\n",
        "for val in (0, \"hello\", 50.0, 13):\n",
        "    print(\"Testing {}:\".format(val), end=\" \")\n",
        "    print(funny_division2(val))"
      ],
      "id": "886fcdeb",
      "execution_count": null,
      "outputs": [
        {
          "name": "stdout",
          "output_type": "stream",
          "text": [
            "Testing 0: Enter a number other than zero\n",
            "Testing hello: Enter a number other than zero\n",
            "Testing 50.0: 2.0\n",
            "Testing 13: "
          ]
        },
        {
          "ename": "ValueError",
          "evalue": "13 is an unlucky number",
          "output_type": "error",
          "traceback": [
            "\u001b[1;31m---------------------------------------------------------------------------\u001b[0m",
            "\u001b[1;31mValueError\u001b[0m                                Traceback (most recent call last)",
            "\u001b[1;32m~\\AppData\\Local\\Temp/ipykernel_7116/1912022751.py\u001b[0m in \u001b[0;36m<module>\u001b[1;34m\u001b[0m\n\u001b[0;32m     12\u001b[0m \u001b[1;32mfor\u001b[0m \u001b[0mval\u001b[0m \u001b[1;32min\u001b[0m \u001b[1;33m(\u001b[0m\u001b[1;36m0\u001b[0m\u001b[1;33m,\u001b[0m \u001b[1;34m\"hello\"\u001b[0m\u001b[1;33m,\u001b[0m \u001b[1;36m50.0\u001b[0m\u001b[1;33m,\u001b[0m \u001b[1;36m13\u001b[0m\u001b[1;33m)\u001b[0m\u001b[1;33m:\u001b[0m\u001b[1;33m\u001b[0m\u001b[1;33m\u001b[0m\u001b[0m\n\u001b[0;32m     13\u001b[0m     \u001b[0mprint\u001b[0m\u001b[1;33m(\u001b[0m\u001b[1;34m\"Testing {}:\"\u001b[0m\u001b[1;33m.\u001b[0m\u001b[0mformat\u001b[0m\u001b[1;33m(\u001b[0m\u001b[0mval\u001b[0m\u001b[1;33m)\u001b[0m\u001b[1;33m,\u001b[0m \u001b[0mend\u001b[0m\u001b[1;33m=\u001b[0m\u001b[1;34m\" \"\u001b[0m\u001b[1;33m)\u001b[0m\u001b[1;33m\u001b[0m\u001b[1;33m\u001b[0m\u001b[0m\n\u001b[1;32m---> 14\u001b[1;33m     \u001b[0mprint\u001b[0m\u001b[1;33m(\u001b[0m\u001b[0mfunny_division2\u001b[0m\u001b[1;33m(\u001b[0m\u001b[0mval\u001b[0m\u001b[1;33m)\u001b[0m\u001b[1;33m)\u001b[0m\u001b[1;33m\u001b[0m\u001b[1;33m\u001b[0m\u001b[0m\n\u001b[0m",
            "\u001b[1;32m~\\AppData\\Local\\Temp/ipykernel_7116/1912022751.py\u001b[0m in \u001b[0;36mfunny_division2\u001b[1;34m(anumber)\u001b[0m\n\u001b[0;32m      2\u001b[0m     \u001b[1;32mtry\u001b[0m\u001b[1;33m:\u001b[0m\u001b[1;33m\u001b[0m\u001b[1;33m\u001b[0m\u001b[0m\n\u001b[0;32m      3\u001b[0m         \u001b[1;32mif\u001b[0m \u001b[0manumber\u001b[0m \u001b[1;33m==\u001b[0m \u001b[1;36m13\u001b[0m\u001b[1;33m:\u001b[0m\u001b[1;33m\u001b[0m\u001b[1;33m\u001b[0m\u001b[0m\n\u001b[1;32m----> 4\u001b[1;33m             \u001b[1;32mraise\u001b[0m \u001b[0mValueError\u001b[0m\u001b[1;33m(\u001b[0m\u001b[1;34m\"13 is an unlucky number\"\u001b[0m\u001b[1;33m)\u001b[0m\u001b[1;33m\u001b[0m\u001b[1;33m\u001b[0m\u001b[0m\n\u001b[0m\u001b[0;32m      5\u001b[0m         \u001b[1;32mreturn\u001b[0m \u001b[1;36m100\u001b[0m \u001b[1;33m/\u001b[0m \u001b[0manumber\u001b[0m\u001b[1;33m\u001b[0m\u001b[1;33m\u001b[0m\u001b[0m\n\u001b[0;32m      6\u001b[0m     \u001b[1;32mexcept\u001b[0m \u001b[1;33m(\u001b[0m\u001b[0mZeroDivisionError\u001b[0m\u001b[1;33m,\u001b[0m \u001b[0mTypeError\u001b[0m\u001b[1;33m)\u001b[0m\u001b[1;33m:\u001b[0m\u001b[1;33m\u001b[0m\u001b[1;33m\u001b[0m\u001b[0m\n",
            "\u001b[1;31mValueError\u001b[0m: 13 is an unlucky number"
          ]
        }
      ]
    },
    {
      "cell_type": "markdown",
      "metadata": {
        "id": "a9aa4700"
      },
      "source": [
        "Sometimes, when we catch an exception, we need a reference to the Exception object itself. This most often happens when we define our own exceptions with custom arguments, but can also be relevant with standard exceptions.\n",
        "\n",
        "Most exception classes accept a set of arguments in their constructor, and we might want to access those attributes in the exception handler. \n",
        "\n",
        "If we define our own exception class, we can even call custom methods on it when we catch it. The syntax for capturing an exception as a variable uses the as keyword:"
      ],
      "id": "a9aa4700"
    },
    {
      "cell_type": "code",
      "metadata": {
        "id": "997c5b57",
        "outputId": "709b2232-f999-4bfc-f402-72e9bf1a87eb"
      },
      "source": [
        "try:\n",
        "    raise ValueError(\"This is an argument\")\n",
        "except ValueError as e:\n",
        "    # it prints out the string argument that we passed into ValueError upon initialization.\n",
        "    print(e.args)"
      ],
      "id": "997c5b57",
      "execution_count": null,
      "outputs": [
        {
          "name": "stdout",
          "output_type": "stream",
          "text": [
            "('This is an argument',)\n"
          ]
        }
      ]
    },
    {
      "cell_type": "markdown",
      "metadata": {
        "id": "f6da0607"
      },
      "source": [
        "#### Two more keywords: finally and else, can provide the missing pieces.\n",
        "\n",
        "The following example randomly picks an exception to throw and raises it. Then some not-so-complicated exception handling code is run that illustrates the newly introduced syntax:"
      ],
      "id": "f6da0607"
    },
    {
      "cell_type": "code",
      "metadata": {
        "id": "7f937373",
        "outputId": "f57a76c4-79af-4489-f8de-da1225b473c4"
      },
      "source": [
        "import random\n",
        "some_exceptions = [ValueError, TypeError, IndexError, None]\n",
        "\n",
        "try:\n",
        "    choice = random.choice(some_exceptions)\n",
        "    print(\"raising {}\".format(choice))\n",
        "    if choice:\n",
        "        raise choice(\"An error\")\n",
        "except ValueError:\n",
        "    print(\"Caught a ValueError\")\n",
        "except TypeError:\n",
        "    print(\"Caught a TypeError\")\n",
        "except Exception as e:\n",
        "    print(\"Caught some other error: %s\" %\n",
        "    ( e.__class__.__name__))\n",
        "else:\n",
        "    print(\"This code called if there is no exception\")\n",
        "finally:\n",
        "    print(\"This cleanup code is always called\")"
      ],
      "id": "7f937373",
      "execution_count": null,
      "outputs": [
        {
          "name": "stdout",
          "output_type": "stream",
          "text": [
            "raising <class 'ValueError'>\n",
            "Caught a ValueError\n",
            "This cleanup code is always called\n"
          ]
        }
      ]
    },
    {
      "cell_type": "markdown",
      "metadata": {
        "id": "60b42f20"
      },
      "source": [
        "As The Print phrases illistrate: \n",
        "\n",
        "- else statement is executed if there is no exception.\n",
        "- finally statement is always executed which is extremely useful when we need to perform certain tasks after our code has finished running As:\n",
        "\n",
        "    1. Cleaning up an open database connection\n",
        "    2. Closing an open file\n",
        "    3. Sending a closing handshake over the network"
      ],
      "id": "60b42f20"
    },
    {
      "cell_type": "markdown",
      "metadata": {
        "id": "fc090cde"
      },
      "source": [
        "## The exception hierarchy"
      ],
      "id": "fc090cde"
    },
    {
      "cell_type": "markdown",
      "metadata": {
        "id": "9d3839e2"
      },
      "source": [
        "### To inspect Base classes"
      ],
      "id": "9d3839e2"
    },
    {
      "cell_type": "code",
      "metadata": {
        "id": "d0b4a0bf",
        "outputId": "7c8f4faf-3d83-4141-ea5c-092fdc126e09"
      },
      "source": [
        "import inspect\n",
        "inspect.getmro(Exception)"
      ],
      "id": "d0b4a0bf",
      "execution_count": null,
      "outputs": [
        {
          "data": {
            "text/plain": [
              "(Exception, BaseException, object)"
            ]
          },
          "execution_count": 25,
          "metadata": {},
          "output_type": "execute_result"
        }
      ]
    },
    {
      "cell_type": "code",
      "metadata": {
        "id": "532f66b4",
        "outputId": "620978a5-7bb4-492f-a7b0-966ce9de8da0"
      },
      "source": [
        "inspect.getmro(SystemExit), inspect.getmro(KeyboardInterrupt)"
      ],
      "id": "532f66b4",
      "execution_count": null,
      "outputs": [
        {
          "data": {
            "text/plain": [
              "((SystemExit, BaseException, object),\n",
              " (KeyboardInterrupt, BaseException, object))"
            ]
          },
          "execution_count": 26,
          "metadata": {},
          "output_type": "execute_result"
        }
      ]
    },
    {
      "cell_type": "code",
      "metadata": {
        "id": "bf3a4182",
        "outputId": "bb09c36a-418c-4597-a40f-0e8ac81f070b"
      },
      "source": [
        "inspect.getmro(ValueError), inspect.getmro(TypeError)"
      ],
      "id": "bf3a4182",
      "execution_count": null,
      "outputs": [
        {
          "data": {
            "text/plain": [
              "((ValueError, Exception, BaseException, object),\n",
              " (TypeError, Exception, BaseException, object))"
            ]
          },
          "execution_count": 27,
          "metadata": {},
          "output_type": "execute_result"
        }
      ]
    },
    {
      "cell_type": "markdown",
      "metadata": {
        "id": "7306703f"
      },
      "source": [
        "* Exception itself actually inherits from a class called BaseException\n",
        "\n",
        "* There are two key exceptions, SystemExit and KeyboardInterrupt, that derive directly from BaseException instead of Exception:\n",
        "\n",
        "1. The SystemExit exception is raised whenever the program exits naturally.\n",
        "    Typically because we called the sys. exit function somewhere in our code (for example, when the user selected an exit menu item, clicked the \"close\" button on a window, or entered a command to shut down a server).\n",
        "\n",
        "    The exception is designed to allow us to clean up code before the program ultimately exits. So we generally don't need to handle it explicitly (because\n",
        "    cleanup code happens inside a finally clause).\n",
        "    \n",
        "2. KeyboardInterrupt (normally, Ctrl + C): when the user explicitly interrupts program execution\n",
        "        \n",
        "    Also, like SystemExit, it should handle any cleanup tasks inside finally blocks.\n",
        "    \n",
        "![image.png](data:image/png;base64,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)"
      ],
      "id": "7306703f"
    },
    {
      "cell_type": "markdown",
      "metadata": {
        "id": "701de08c"
      },
      "source": [
        "* if we use  except clause without specifying any type of exception,  it will catch all subclasses of BaseException; including the two special ones.\n",
        "\n",
        "* If you want to catch all exceptions other than SystemExit and KeyboardInterrupt, explicitly catch Exception.\n",
        "\n",
        "* use except BaseException: to catch all exceptions. to tell reader that you are intentionally handling the special case exceptions"
      ],
      "id": "701de08c"
    },
    {
      "cell_type": "markdown",
      "metadata": {
        "id": "624ce64e"
      },
      "source": [
        "## Defining our own exceptions\n",
        "\n",
        "Here's a simple exception we might use in a banking application:"
      ],
      "id": "624ce64e"
    },
    {
      "cell_type": "code",
      "metadata": {
        "id": "0eed0497",
        "outputId": "08e4c23d-d0d0-4b38-8867-d557fceb015e"
      },
      "source": [
        "class InvalidWithdrawal(Exception):\n",
        "    pass\n",
        "raise InvalidWithdrawal(\"You don't have $50 in your account\")"
      ],
      "id": "0eed0497",
      "execution_count": null,
      "outputs": [
        {
          "ename": "InvalidWithdrawal",
          "evalue": "You don't have $50 in your account",
          "output_type": "error",
          "traceback": [
            "\u001b[1;31m---------------------------------------------------------------------------\u001b[0m",
            "\u001b[1;31mInvalidWithdrawal\u001b[0m                         Traceback (most recent call last)",
            "\u001b[1;32m~\\AppData\\Local\\Temp/ipykernel_7116/1924248907.py\u001b[0m in \u001b[0;36m<module>\u001b[1;34m\u001b[0m\n\u001b[0;32m      1\u001b[0m \u001b[1;32mclass\u001b[0m \u001b[0mInvalidWithdrawal\u001b[0m\u001b[1;33m(\u001b[0m\u001b[0mException\u001b[0m\u001b[1;33m)\u001b[0m\u001b[1;33m:\u001b[0m\u001b[1;33m\u001b[0m\u001b[1;33m\u001b[0m\u001b[0m\n\u001b[0;32m      2\u001b[0m     \u001b[1;32mpass\u001b[0m\u001b[1;33m\u001b[0m\u001b[1;33m\u001b[0m\u001b[0m\n\u001b[1;32m----> 3\u001b[1;33m \u001b[1;32mraise\u001b[0m \u001b[0mInvalidWithdrawal\u001b[0m\u001b[1;33m(\u001b[0m\u001b[1;34m\"You don't have $50 in your account\"\u001b[0m\u001b[1;33m)\u001b[0m\u001b[1;33m\u001b[0m\u001b[1;33m\u001b[0m\u001b[0m\n\u001b[0m",
            "\u001b[1;31mInvalidWithdrawal\u001b[0m: You don't have $50 in your account"
          ]
        }
      ]
    },
    {
      "cell_type": "code",
      "metadata": {
        "id": "c3dfa31b"
      },
      "source": [
        "class InvalidWithdrawal(Exception):\n",
        "    def __init__(self, balance, amount):\n",
        "        super().__init__(\"account doesn't have ${}\".format(\n",
        "        amount))\n",
        "        self.amount = amount\n",
        "        self.balance = balance\n",
        "        \n",
        "    def overage(self):\n",
        "        return self.amount - self.balance"
      ],
      "id": "c3dfa31b",
      "execution_count": null,
      "outputs": []
    },
    {
      "cell_type": "code",
      "metadata": {
        "id": "0cbeb5b5",
        "outputId": "8f28a67f-b701-49f4-e76d-db175676268a"
      },
      "source": [
        "raise InvalidWithdrawal(20,50)"
      ],
      "id": "0cbeb5b5",
      "execution_count": null,
      "outputs": [
        {
          "ename": "InvalidWithdrawal",
          "evalue": "account doesn't have $50",
          "output_type": "error",
          "traceback": [
            "\u001b[1;31m---------------------------------------------------------------------------\u001b[0m",
            "\u001b[1;31mInvalidWithdrawal\u001b[0m                         Traceback (most recent call last)",
            "\u001b[1;32m~\\AppData\\Local\\Temp/ipykernel_7116/2484372883.py\u001b[0m in \u001b[0;36m<module>\u001b[1;34m\u001b[0m\n\u001b[1;32m----> 1\u001b[1;33m \u001b[1;32mraise\u001b[0m \u001b[0mInvalidWithdrawal\u001b[0m\u001b[1;33m(\u001b[0m\u001b[1;36m20\u001b[0m\u001b[1;33m,\u001b[0m\u001b[1;36m50\u001b[0m\u001b[1;33m)\u001b[0m\u001b[1;33m\u001b[0m\u001b[1;33m\u001b[0m\u001b[0m\n\u001b[0m",
            "\u001b[1;31mInvalidWithdrawal\u001b[0m: account doesn't have $50"
          ]
        }
      ]
    },
    {
      "cell_type": "code",
      "metadata": {
        "id": "8a6d1beb",
        "outputId": "cdc8029e-a171-47a4-f13d-7b1143c292e2"
      },
      "source": [
        "try:\n",
        "    raise InvalidWithdrawal(25, 50)\n",
        "    \n",
        "except InvalidWithdrawal as e:\n",
        "    print(\"I'm sorry, but your withdrawal is more than your balance by ${}\".format(e.overage()))"
      ],
      "id": "8a6d1beb",
      "execution_count": null,
      "outputs": [
        {
          "name": "stdout",
          "output_type": "stream",
          "text": [
            "I'm sorry, but your withdrawal is more than your balance by $25\n"
          ]
        }
      ]
    },
    {
      "cell_type": "markdown",
      "metadata": {
        "id": "59c82fe5"
      },
      "source": [
        "**The utility of custom exceptions truly comes to light when creating a framework, library, or API that is intended for access by other programmers.**"
      ],
      "id": "59c82fe5"
    },
    {
      "cell_type": "markdown",
      "metadata": {
        "id": "d37d736d"
      },
      "source": [
        "## Case study"
      ],
      "id": "d37d736d"
    },
    {
      "cell_type": "markdown",
      "metadata": {
        "id": "3a876ed1"
      },
      "source": [
        "**Designing Basic authentication and authorization system with some administrative features.**\n",
        "\n",
        "* User class that stores the username and an encrypted password. This class will also allow a user to log in by checking whether a supplied password is valid.\n",
        "\n",
        "* We probably won't need a Permission class, as those can just be strings mapped to a list of users using a dictionary.\n",
        "* central Authenticator class that handles user management and logging in or out.\n",
        "* Authorizor class that deals with permissions and checking whether a user can perform an activity."
      ],
      "id": "3a876ed1"
    },
    {
      "cell_type": "code",
      "metadata": {
        "id": "1b9f2768"
      },
      "source": [
        "import hashlib\n",
        "\n",
        "class User:\n",
        "    def __init__(self, username, password):\n",
        "        \n",
        "        self.username = username\n",
        "        self.password = self._encrypt_pw(password)\n",
        "        self.is_logged_in = False\n",
        "        \n",
        "    def _encrypt_pw(self, password):\n",
        "        hash_string = (self.username + password)\n",
        "        hash_string = hash_string.encode(\"utf8\")\n",
        "        return hashlib.sha256(hash_string).hexdigest()\n",
        "    \n",
        "    def check_password(self, password):\n",
        "        encrypted = self._encrypt_pw(password)\n",
        "        return encrypted == self.password\n",
        "    "
      ],
      "id": "1b9f2768",
      "execution_count": null,
      "outputs": []
    },
    {
      "cell_type": "markdown",
      "metadata": {
        "id": "ee803492"
      },
      "source": [
        "**Let's try this class:**"
      ],
      "id": "ee803492"
    },
    {
      "cell_type": "code",
      "metadata": {
        "id": "480aac2c"
      },
      "source": [
        "x = User(\"Ghonem\", \"Ghonem_pass\")"
      ],
      "id": "480aac2c",
      "execution_count": null,
      "outputs": []
    },
    {
      "cell_type": "code",
      "metadata": {
        "id": "e7c8a427",
        "outputId": "66ce935c-1568-4d95-ab34-5509153c2a13"
      },
      "source": [
        "x.check_password(\"Ghonem_pass\")"
      ],
      "id": "e7c8a427",
      "execution_count": null,
      "outputs": [
        {
          "data": {
            "text/plain": [
              "True"
            ]
          },
          "execution_count": 36,
          "metadata": {},
          "output_type": "execute_result"
        }
      ]
    },
    {
      "cell_type": "markdown",
      "metadata": {
        "id": "68717493"
      },
      "source": [
        "**we'll need a UsernameAlreadyExists exception. Also, for security's sake, we should probably raise an exception if the password is too short. Both of these exceptions will extend AuthException**"
      ],
      "id": "68717493"
    },
    {
      "cell_type": "code",
      "metadata": {
        "id": "1951a49c"
      },
      "source": [
        "class AuthException(Exception):\n",
        "    def __init__(self, username, user=None):\n",
        "        super().__init__(username, user)\n",
        "        \n",
        "        # instance of the User class associated with that username (optional)\n",
        "        self.username = username       \n",
        "        self.user = user\n",
        "        \n",
        "        \n",
        "class UsernameAlreadyExists(AuthException):\n",
        "    pass\n",
        "\n",
        "\n",
        "class PasswordTooShort(AuthException):\n",
        "    pass\n",
        "\n",
        "\n",
        "class InvalidUsername(AuthException):\n",
        "    pass\n",
        "\n",
        "\n",
        "class InvalidPassword(AuthException):\n",
        "    pass\n",
        "\n",
        "class PermissionError(AuthException):\n",
        "    pass\n",
        "                      \n",
        "class NotLoggedInError(AuthException):\n",
        "    pass\n",
        "                      \n",
        "                      \n",
        "class NotPermittedError(AuthException):\n",
        "    pass"
      ],
      "id": "1951a49c",
      "execution_count": null,
      "outputs": []
    },
    {
      "cell_type": "code",
      "metadata": {
        "id": "26450bc0"
      },
      "source": [
        "class Authenticator:\n",
        "    def __init__(self):\n",
        "        '''Construct an authenticator to manage users logging in and out.'''\n",
        "        self.users = {}\n",
        "        \n",
        "    def add_user(self, username, password):\n",
        "        if username in self.users:\n",
        "            raise UsernameAlreadyExists(username)\n",
        "        if len(password) < 6:\n",
        "            raise PasswordTooShort(username)\n",
        "        self.users[username] = User(username, password)\n",
        "        \n",
        "        \n",
        "    def login(self, username, password):\n",
        "        try:\n",
        "            user = self.users[username]\n",
        "            \n",
        "        except KeyError:\n",
        "            raise InvalidUsername(username)\n",
        "            \n",
        "        if not user.check_password(password):\n",
        "            raise InvalidPassword(username, user)\n",
        "            \n",
        "        user.is_logged_in = True\n",
        "        return True\n",
        "    \n",
        "    def is_logged_in(self, username):\n",
        "        if username in self.users:\n",
        "            return self.users[username].is_logged_in\n",
        "        return False"
      ],
      "id": "26450bc0",
      "execution_count": null,
      "outputs": []
    },
    {
      "cell_type": "code",
      "metadata": {
        "id": "28a7b3b7"
      },
      "source": [
        "authenticator = Authenticator()"
      ],
      "id": "28a7b3b7",
      "execution_count": null,
      "outputs": []
    },
    {
      "cell_type": "markdown",
      "metadata": {
        "id": "4914e955"
      },
      "source": [
        "**We don't need here to add a seperate class for permission. if we did, it will contain just attributes without methods. SO, we will use just a dictionary.** "
      ],
      "id": "4914e955"
    },
    {
      "cell_type": "code",
      "metadata": {
        "id": "d50fe962"
      },
      "source": [
        "class Authorizor:\n",
        "    \n",
        "    def __init__(self, authenticator):\n",
        "        \n",
        "        self.authenticator = authenticator      # Composition\n",
        "        self.permissions = {}\n",
        "    \n",
        "    def add_permission(self, perm_name):\n",
        "        #Create a new permission that users can be added to\n",
        "        try:\n",
        "            perm_set = self.permissions[perm_name]\n",
        "        # If there is no permission called perm_name, we will add one \n",
        "        except KeyError:\n",
        "            self.permissions[perm_name] = set()\n",
        "        else:\n",
        "            raise PermissionError(\"Permission Exists\")\n",
        "        \n",
        "    def permit_user(self, perm_name, username):\n",
        "        #Grant the given permission to the user\n",
        "        try:\n",
        "            perm_set = self.permissions[perm_name]\n",
        "        except KeyError:\n",
        "            raise PermissionError(\"Permission does not exist\")\n",
        "        else:\n",
        "            if username not in self.authenticator.users:\n",
        "                raise InvalidUsername(username)\n",
        "            perm_set.add(username)\n",
        "\n",
        "            \n",
        "    def check_permission(self, perm_name, username):\n",
        "        # The user should be logged in to check his permission\n",
        "        if not self.authenticator.is_logged_in(username):\n",
        "            raise NotLoggedInError(username)\n",
        "        try:\n",
        "            perm_set = self.permissions[perm_name]\n",
        "        except KeyError:\n",
        "            raise PermissionError(\"Permission does not exist\")\n",
        "        else:\n",
        "            if username not in perm_set:\n",
        "                raise NotPermittedError(username)\n",
        "            else:\n",
        "                return True"
      ],
      "id": "d50fe962",
      "execution_count": null,
      "outputs": []
    },
    {
      "cell_type": "code",
      "metadata": {
        "id": "209bc8df"
      },
      "source": [
        "auth = Authorizor(authenticator)"
      ],
      "id": "209bc8df",
      "execution_count": null,
      "outputs": []
    },
    {
      "cell_type": "code",
      "metadata": {
        "id": "1cc7c865"
      },
      "source": [
        "auth.authenticator.add_user(\"Ghonem\", \"Ghonem_pass\")"
      ],
      "id": "1cc7c865",
      "execution_count": null,
      "outputs": []
    },
    {
      "cell_type": "code",
      "metadata": {
        "id": "0f5311f0"
      },
      "source": [
        "auth.add_permission(\"paint\")"
      ],
      "id": "0f5311f0",
      "execution_count": null,
      "outputs": []
    },
    {
      "cell_type": "code",
      "metadata": {
        "id": "15fa4793",
        "outputId": "b899a9ce-0365-4278-a7f0-fe18c31a2709"
      },
      "source": [
        "# This will raise NotLoggedInError because the user called Ghonem isn't logged in.\n",
        "auth.check_permission(\"paint\", \"Ghonem\")"
      ],
      "id": "15fa4793",
      "execution_count": null,
      "outputs": [
        {
          "ename": "NotLoggedInError",
          "evalue": "('Ghonem', None)",
          "output_type": "error",
          "traceback": [
            "\u001b[1;31m---------------------------------------------------------------------------\u001b[0m",
            "\u001b[1;31mNotLoggedInError\u001b[0m                          Traceback (most recent call last)",
            "\u001b[1;32m~\\AppData\\Local\\Temp/ipykernel_7116/3039325454.py\u001b[0m in \u001b[0;36m<module>\u001b[1;34m\u001b[0m\n\u001b[0;32m      1\u001b[0m \u001b[1;31m# This will raise NotLoggedInError because the user called Ghonem isn't logged in.\u001b[0m\u001b[1;33m\u001b[0m\u001b[1;33m\u001b[0m\u001b[1;33m\u001b[0m\u001b[0m\n\u001b[1;32m----> 2\u001b[1;33m \u001b[0mauth\u001b[0m\u001b[1;33m.\u001b[0m\u001b[0mcheck_permission\u001b[0m\u001b[1;33m(\u001b[0m\u001b[1;34m\"paint\"\u001b[0m\u001b[1;33m,\u001b[0m \u001b[1;34m\"Ghonem\"\u001b[0m\u001b[1;33m)\u001b[0m\u001b[1;33m\u001b[0m\u001b[1;33m\u001b[0m\u001b[0m\n\u001b[0m",
            "\u001b[1;32m~\\AppData\\Local\\Temp/ipykernel_7116/3078550769.py\u001b[0m in \u001b[0;36mcheck_permission\u001b[1;34m(self, perm_name, username)\u001b[0m\n\u001b[0;32m     31\u001b[0m \u001b[1;33m\u001b[0m\u001b[0m\n\u001b[0;32m     32\u001b[0m         \u001b[1;32mif\u001b[0m \u001b[1;32mnot\u001b[0m \u001b[0mself\u001b[0m\u001b[1;33m.\u001b[0m\u001b[0mauthenticator\u001b[0m\u001b[1;33m.\u001b[0m\u001b[0mis_logged_in\u001b[0m\u001b[1;33m(\u001b[0m\u001b[0musername\u001b[0m\u001b[1;33m)\u001b[0m\u001b[1;33m:\u001b[0m\u001b[1;33m\u001b[0m\u001b[1;33m\u001b[0m\u001b[0m\n\u001b[1;32m---> 33\u001b[1;33m             \u001b[1;32mraise\u001b[0m \u001b[0mNotLoggedInError\u001b[0m\u001b[1;33m(\u001b[0m\u001b[0musername\u001b[0m\u001b[1;33m)\u001b[0m\u001b[1;33m\u001b[0m\u001b[1;33m\u001b[0m\u001b[0m\n\u001b[0m\u001b[0;32m     34\u001b[0m         \u001b[1;32mtry\u001b[0m\u001b[1;33m:\u001b[0m\u001b[1;33m\u001b[0m\u001b[1;33m\u001b[0m\u001b[0m\n\u001b[0;32m     35\u001b[0m             \u001b[0mperm_set\u001b[0m \u001b[1;33m=\u001b[0m \u001b[0mself\u001b[0m\u001b[1;33m.\u001b[0m\u001b[0mpermissions\u001b[0m\u001b[1;33m[\u001b[0m\u001b[0mperm_name\u001b[0m\u001b[1;33m]\u001b[0m\u001b[1;33m\u001b[0m\u001b[1;33m\u001b[0m\u001b[0m\n",
            "\u001b[1;31mNotLoggedInError\u001b[0m: ('Ghonem', None)"
          ]
        }
      ]
    },
    {
      "cell_type": "code",
      "metadata": {
        "id": "6b3b64f9",
        "outputId": "abc684c8-cd7d-451f-d17e-92f9b4a0a76f"
      },
      "source": [
        "auth.authenticator.is_logged_in(\"Ghonem\")"
      ],
      "id": "6b3b64f9",
      "execution_count": null,
      "outputs": [
        {
          "data": {
            "text/plain": [
              "False"
            ]
          },
          "execution_count": 48,
          "metadata": {},
          "output_type": "execute_result"
        }
      ]
    },
    {
      "cell_type": "code",
      "metadata": {
        "id": "8b71b21f",
        "outputId": "92ed10d1-4c66-45c8-e412-f1b6b3fc2060"
      },
      "source": [
        "auth.authenticator.login(\"Ghonem\", \"Ghonem_pass\")"
      ],
      "id": "8b71b21f",
      "execution_count": null,
      "outputs": [
        {
          "data": {
            "text/plain": [
              "True"
            ]
          },
          "execution_count": 49,
          "metadata": {},
          "output_type": "execute_result"
        }
      ]
    },
    {
      "cell_type": "code",
      "metadata": {
        "id": "6bd38ff2",
        "outputId": "d1e3df14-e791-4c45-e2fe-3a545af45005"
      },
      "source": [
        "'''\n",
        "This will raise an error because we added paint permission, \n",
        "but we didn't permit the user \"Ghonem\" \n",
        "'''\n",
        "auth.check_permission(\"paint\", \"Ghonem\")"
      ],
      "id": "6bd38ff2",
      "execution_count": null,
      "outputs": [
        {
          "ename": "NotPermittedError",
          "evalue": "('Ghonem', None)",
          "output_type": "error",
          "traceback": [
            "\u001b[1;31m---------------------------------------------------------------------------\u001b[0m",
            "\u001b[1;31mNotPermittedError\u001b[0m                         Traceback (most recent call last)",
            "\u001b[1;32m~\\AppData\\Local\\Temp/ipykernel_7116/2248626780.py\u001b[0m in \u001b[0;36m<module>\u001b[1;34m\u001b[0m\n\u001b[0;32m      3\u001b[0m \u001b[0mbut\u001b[0m \u001b[0mwe\u001b[0m \u001b[0mdidn\u001b[0m\u001b[0;31m'\u001b[0m\u001b[0mt\u001b[0m \u001b[0mpermit\u001b[0m \u001b[0mthe\u001b[0m \u001b[0muser\u001b[0m \u001b[1;34m\"GHonem\"\u001b[0m\u001b[1;33m\u001b[0m\u001b[1;33m\u001b[0m\u001b[0m\n\u001b[0;32m      4\u001b[0m '''\n\u001b[1;32m----> 5\u001b[1;33m \u001b[0mauth\u001b[0m\u001b[1;33m.\u001b[0m\u001b[0mcheck_permission\u001b[0m\u001b[1;33m(\u001b[0m\u001b[1;34m\"paint\"\u001b[0m\u001b[1;33m,\u001b[0m \u001b[1;34m\"Ghonem\"\u001b[0m\u001b[1;33m)\u001b[0m\u001b[1;33m\u001b[0m\u001b[1;33m\u001b[0m\u001b[0m\n\u001b[0m",
            "\u001b[1;32m~\\AppData\\Local\\Temp/ipykernel_7116/3078550769.py\u001b[0m in \u001b[0;36mcheck_permission\u001b[1;34m(self, perm_name, username)\u001b[0m\n\u001b[0;32m     38\u001b[0m         \u001b[1;32melse\u001b[0m\u001b[1;33m:\u001b[0m\u001b[1;33m\u001b[0m\u001b[1;33m\u001b[0m\u001b[0m\n\u001b[0;32m     39\u001b[0m             \u001b[1;32mif\u001b[0m \u001b[0musername\u001b[0m \u001b[1;32mnot\u001b[0m \u001b[1;32min\u001b[0m \u001b[0mperm_set\u001b[0m\u001b[1;33m:\u001b[0m\u001b[1;33m\u001b[0m\u001b[1;33m\u001b[0m\u001b[0m\n\u001b[1;32m---> 40\u001b[1;33m                 \u001b[1;32mraise\u001b[0m \u001b[0mNotPermittedError\u001b[0m\u001b[1;33m(\u001b[0m\u001b[0musername\u001b[0m\u001b[1;33m)\u001b[0m\u001b[1;33m\u001b[0m\u001b[1;33m\u001b[0m\u001b[0m\n\u001b[0m\u001b[0;32m     41\u001b[0m             \u001b[1;32melse\u001b[0m\u001b[1;33m:\u001b[0m\u001b[1;33m\u001b[0m\u001b[1;33m\u001b[0m\u001b[0m\n\u001b[0;32m     42\u001b[0m                 \u001b[1;32mreturn\u001b[0m \u001b[1;32mTrue\u001b[0m\u001b[1;33m\u001b[0m\u001b[1;33m\u001b[0m\u001b[0m\n",
            "\u001b[1;31mNotPermittedError\u001b[0m: ('Ghonem', None)"
          ]
        }
      ]
    },
    {
      "cell_type": "code",
      "metadata": {
        "id": "b3bbb338"
      },
      "source": [
        "auth.permit_user(\"paint\", \"Ghonem\")"
      ],
      "id": "b3bbb338",
      "execution_count": null,
      "outputs": []
    },
    {
      "cell_type": "code",
      "metadata": {
        "id": "4ab06f45",
        "outputId": "551ca5bb-9bae-4c3a-c765-47fccaccd279"
      },
      "source": [
        "auth.check_permission(\"paint\", \"Ghonem\")"
      ],
      "id": "4ab06f45",
      "execution_count": null,
      "outputs": [
        {
          "data": {
            "text/plain": [
              "True"
            ]
          },
          "execution_count": 56,
          "metadata": {},
          "output_type": "execute_result"
        }
      ]
    },
    {
      "cell_type": "markdown",
      "metadata": {
        "id": "6051b0b9"
      },
      "source": [
        "**We will now build an object manager that manage these classes to convert that into a simple system :**\n",
        "\n"
      ],
      "id": "6051b0b9"
    },
    {
      "cell_type": "code",
      "metadata": {
        "id": "a70b3815"
      },
      "source": [
        "class Editor:\n",
        "    def __init__(self):\n",
        "        self.username = None\n",
        "        self.menu_map = {\n",
        "                    \"login\": self.login,\n",
        "                    \"test\": self.test,\n",
        "                    \"change\": self.change,\n",
        "                    \"quit\": self.quit\n",
        "        }\n",
        "    \n",
        "    def login(self):\n",
        "        logged_in = False\n",
        "        while not logged_in:\n",
        "            username = input(\"username: \")\n",
        "            password = input(\"password: \") \n",
        "            \n",
        "            try:\n",
        "                logged_in = auth.authenticator.login(username, password)\n",
        "                print(\"successful\")\n",
        "            except InvalidUsername:\n",
        "                print(\"Sorry, that username does not exist\")\n",
        "            \n",
        "            except InvalidPassword:\n",
        "                print(\"Sorry, your password isn't correct\")\n",
        "                \n",
        "            else:\n",
        "                self.username = username\n",
        "                \n",
        "    def is_permitted(self, permission):\n",
        "        try:\n",
        "            auth.check_permission(permission, self.username)\n",
        "            \n",
        "        except NotLoggedInError as e:\n",
        "            print(\"{} is not logged in\".format(e.username))\n",
        "            return False\n",
        "        except NotPermittedError as e:\n",
        "            print(\"{} cannot {}\".format(e.username, permission))\n",
        "            return False\n",
        "        else:\n",
        "            return True\n",
        "        \n",
        "    def test(self):\n",
        "        if self.is_permitted(\"test program\"):\n",
        "            print(\"Testing program now...\")\n",
        "            \n",
        "    def change(self):\n",
        "        if self.is_permitted(\"change program\"):\n",
        "            print(\"Changing program now...\")\n",
        "            \n",
        "    def quit(self):\n",
        "        raise SystemExit()\n",
        "        \n",
        "    def menu(self):\n",
        "        try:\n",
        "            answer = \"\"\n",
        "            while True:\n",
        "                print(\"\"\"\n",
        "                Please enter a command:\n",
        "                \\tlogin\\tLogin\n",
        "                \\ttest\\tTest the program\n",
        "                \\tchange\\tChange the program\n",
        "                \\tquit\\tQuit\n",
        "                \"\"\")\n",
        "                \n",
        "                answer = input(\"enter a command: \").lower()\n",
        "                try:\n",
        "                    func = self.menu_map[answer]\n",
        "                except KeyError:\n",
        "                    print(\"{} is not a valid option\".format(answer))\n",
        "                else:\n",
        "                    func()\n",
        "        finally:\n",
        "            print(\"Thank you for testing the auth module\")\n"
      ],
      "id": "a70b3815",
      "execution_count": null,
      "outputs": []
    },
    {
      "cell_type": "code",
      "metadata": {
        "id": "a7c7529e",
        "outputId": "aff97e62-f1a1-4e96-c52d-37753631692f"
      },
      "source": [
        "Editor().menu()"
      ],
      "id": "a7c7529e",
      "execution_count": null,
      "outputs": [
        {
          "name": "stdout",
          "output_type": "stream",
          "text": [
            "\n",
            "                Please enter a command:\n",
            "                \tlogin\tLogin\n",
            "                \ttest\tTest the program\n",
            "                \tchange\tChange the program\n",
            "                \tquit\tQuit\n",
            "                \n",
            "enter a command: login\n",
            "username: Ghonem\n",
            "password: Ghonem_pass\n",
            "successful\n",
            "\n",
            "                Please enter a command:\n",
            "                \tlogin\tLogin\n",
            "                \ttest\tTest the program\n",
            "                \tchange\tChange the program\n",
            "                \tquit\tQuit\n",
            "                \n",
            "enter a command: quit\n",
            "Thank you for testing the auth module\n"
          ]
        },
        {
          "ename": "SystemExit",
          "evalue": "",
          "output_type": "error",
          "traceback": [
            "An exception has occurred, use %tb to see the full traceback.\n",
            "\u001b[1;31mSystemExit\u001b[0m\n"
          ]
        },
        {
          "name": "stderr",
          "output_type": "stream",
          "text": [
            "C:\\Users\\aghon\\anaconda3\\lib\\site-packages\\IPython\\core\\interactiveshell.py:3452: UserWarning: To exit: use 'exit', 'quit', or Ctrl-D.\n",
            "  warn(\"To exit: use 'exit', 'quit', or Ctrl-D.\", stacklevel=1)\n"
          ]
        }
      ]
    },
    {
      "cell_type": "code",
      "metadata": {
        "id": "7e13c646"
      },
      "source": [
        ""
      ],
      "id": "7e13c646",
      "execution_count": null,
      "outputs": []
    }
  ]
}