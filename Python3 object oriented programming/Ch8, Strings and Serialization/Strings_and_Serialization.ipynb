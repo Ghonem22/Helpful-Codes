{
  "cells": [
    {
      "cell_type": "markdown",
      "metadata": {
        "id": "view-in-github",
        "colab_type": "text"
      },
      "source": [
        "<a href=\"https://colab.research.google.com/github/Ghonem22/Learning/blob/main/Python3%20object%20oriented%20programming/Ch8%2C%20Strings%20and%20Serialization/Strings_and_Serialization.ipynb\" target=\"_parent\"><img src=\"https://colab.research.google.com/assets/colab-badge.svg\" alt=\"Open In Colab\"/></a>"
      ]
    },
    {
      "cell_type": "markdown",
      "id": "056f8960",
      "metadata": {
        "id": "056f8960"
      },
      "source": [
        "# CH8: Strings and Serialization"
      ]
    },
    {
      "cell_type": "markdown",
      "id": "c7487244",
      "metadata": {
        "id": "c7487244"
      },
      "source": [
        "## What will we cover in this chapter:\n",
        "    \n",
        "* The complexities of strings, bytes, and byte arrays\n",
        "* The ins and outs of string formatting\n",
        "* A few ways to serialize data\n",
        "* The mysterious regular expression"
      ]
    },
    {
      "cell_type": "markdown",
      "id": "343ed28d",
      "metadata": {
        "id": "343ed28d"
      },
      "source": [
        "## Strings\n",
        "\n",
        "Python strings are all represented in Unicode, a character definition standard that can represent virtually any character in any language on the planet. So, let's think of Python 3 strings as an immutable sequence of Unicode characters.\n",
        "\n",
        "---\n",
        "**What's unicode?**\n",
        "\n",
        "think of Unicode as a massive version of the ASCII table—one that has 1,114,112 possible code points. That’s 0 through 1,114,111, or 0 through 17 * (216) - 1, or 0x10ffff hexadecimal. In fact, ASCII is a perfect subset of Unicode. The first 128 characters in the Unicode table correspond precisely to the ASCII characters that you’d reasonably expect them to."
      ]
    },
    {
      "cell_type": "code",
      "execution_count": null,
      "id": "ae9ca323",
      "metadata": {
        "id": "ae9ca323"
      },
      "outputs": [],
      "source": [
        "### String manipulation\n",
        "\n",
        "a = \"hello\"\n",
        "b = 'world'\n",
        "c = '''a multiple\n",
        "    line string'''\n",
        "d = \"\"\"More\n",
        "    multiple\"\"\"\n",
        "e = (\"Three \" \"Strings \"\n",
        "    \"Together\")"
      ]
    },
    {
      "cell_type": "code",
      "execution_count": null,
      "id": "e791e0ae",
      "metadata": {
        "id": "e791e0ae",
        "outputId": "8f687c39-3990-4557-903d-a79539a8c3ff"
      },
      "outputs": [
        {
          "data": {
            "text/plain": [
              "'Three Strings Together'"
            ]
          },
          "execution_count": 2,
          "metadata": {},
          "output_type": "execute_result"
        }
      ],
      "source": [
        "e"
      ]
    },
    {
      "cell_type": "markdown",
      "id": "525344e6",
      "metadata": {
        "id": "525344e6"
      },
      "source": [
        "**The str class has numerous methods on it to make manipulating strings easier.**\n",
        "\n"
      ]
    },
    {
      "cell_type": "code",
      "execution_count": null,
      "id": "ce05e4a4",
      "metadata": {
        "id": "ce05e4a4",
        "outputId": "0166b650-5658-4e61-f0b4-626aa5fa4e66"
      },
      "outputs": [
        {
          "data": {
            "text/plain": [
              "3"
            ]
          },
          "execution_count": 10,
          "metadata": {},
          "output_type": "execute_result"
        }
      ],
      "source": [
        "s = \"hello world\"\n",
        "\n",
        "# how many times a given substring shows up in the string\n",
        "s.count('l')"
      ]
    },
    {
      "cell_type": "code",
      "execution_count": null,
      "id": "14d9e5e4",
      "metadata": {
        "id": "14d9e5e4",
        "outputId": "d74d3df8-9760-4b4c-8615-102094dff6e4"
      },
      "outputs": [
        {
          "data": {
            "text/plain": [
              "2"
            ]
          },
          "execution_count": 16,
          "metadata": {},
          "output_type": "execute_result"
        }
      ],
      "source": [
        "# the position of a given substring within the original string\n",
        "s.find('l')"
      ]
    },
    {
      "cell_type": "code",
      "execution_count": null,
      "id": "e95b24c5",
      "metadata": {
        "id": "e95b24c5",
        "outputId": "756d9ee6-8fb0-4fe8-ebb4-360dca4fd083"
      },
      "outputs": [
        {
          "data": {
            "text/plain": [
              "9"
            ]
          },
          "execution_count": 17,
          "metadata": {},
          "output_type": "execute_result"
        }
      ],
      "source": [
        "s.rfind('l')"
      ]
    },
    {
      "cell_type": "code",
      "execution_count": null,
      "id": "c339bad4",
      "metadata": {
        "id": "c339bad4",
        "outputId": "a0abe6b1-dada-418d-ce60-91fffa84999d"
      },
      "outputs": [
        {
          "data": {
            "text/plain": [
              "0"
            ]
          },
          "execution_count": 18,
          "metadata": {},
          "output_type": "execute_result"
        }
      ],
      "source": [
        "s.index('h')"
      ]
    },
    {
      "cell_type": "code",
      "execution_count": null,
      "id": "8daca6e4",
      "metadata": {
        "id": "8daca6e4",
        "outputId": "e4846cb4-3cc0-4d2c-c1d6-1bde9d471a54"
      },
      "outputs": [
        {
          "data": {
            "text/plain": [
              "6"
            ]
          },
          "execution_count": 14,
          "metadata": {},
          "output_type": "execute_result"
        }
      ],
      "source": [
        "s.rindex('h')"
      ]
    },
    {
      "cell_type": "markdown",
      "id": "a1dc5f39",
      "metadata": {
        "id": "a1dc5f39"
      },
      "source": [
        "* **The  'r' (rfind/ rindex....) methods refers to start searching from the end of the string**\n",
        "\n",
        "* **The find methods return -1 if the substring can't be found**\n",
        "\n",
        "* **index raises a ValueError if the substring can't be found**"
      ]
    },
    {
      "cell_type": "code",
      "execution_count": null,
      "id": "f799bd5f",
      "metadata": {
        "id": "f799bd5f",
        "outputId": "8889a106-c582-4dfe-8bcf-0f5dd5911cbe"
      },
      "outputs": [
        {
          "data": {
            "text/plain": [
              "'Hello world'"
            ]
          },
          "execution_count": 21,
          "metadata": {},
          "output_type": "execute_result"
        }
      ],
      "source": [
        "# capitalize first char\n",
        "s.capitalize()"
      ]
    },
    {
      "cell_type": "code",
      "execution_count": null,
      "id": "309209ba",
      "metadata": {
        "id": "309209ba",
        "outputId": "400950af-0538-4bcf-91fa-a2ec1b00ddfc"
      },
      "outputs": [
        {
          "data": {
            "text/plain": [
              "'Hello World'"
            ]
          },
          "execution_count": 23,
          "metadata": {},
          "output_type": "execute_result"
        }
      ],
      "source": [
        "# # capitalize first char of every word\n",
        "s.title()"
      ]
    },
    {
      "cell_type": "code",
      "execution_count": null,
      "id": "a72bb9e0",
      "metadata": {
        "id": "a72bb9e0",
        "outputId": "bd925bd9-e52f-4be8-a4d7-f4b0f054bfb6"
      },
      "outputs": [
        {
          "data": {
            "text/plain": [
              "['hello', 'world,', 'how', 'are', 'you']"
            ]
          },
          "execution_count": 26,
          "metadata": {},
          "output_type": "execute_result"
        }
      ],
      "source": [
        "s = \"hello world, how are you\"\n",
        "s2 = s.split(' ')\n",
        "s2"
      ]
    },
    {
      "cell_type": "code",
      "execution_count": null,
      "id": "aaa1d0a5",
      "metadata": {
        "id": "aaa1d0a5",
        "outputId": "35b8d08d-16d5-4443-a320-289c698e8ccc"
      },
      "outputs": [
        {
          "data": {
            "text/plain": [
              "'hello#world,#how#are#you'"
            ]
          },
          "execution_count": 27,
          "metadata": {},
          "output_type": "execute_result"
        }
      ],
      "source": [
        "'#'.join(s2)"
      ]
    },
    {
      "cell_type": "code",
      "execution_count": null,
      "id": "861365dc",
      "metadata": {
        "id": "861365dc",
        "outputId": "dda83090-6393-40a1-8a05-24d3a957980f"
      },
      "outputs": [
        {
          "data": {
            "text/plain": [
              "'hello**world,**how**are**you'"
            ]
          },
          "execution_count": 29,
          "metadata": {},
          "output_type": "execute_result"
        }
      ],
      "source": [
        "s.replace(' ', '**')\n"
      ]
    },
    {
      "cell_type": "code",
      "execution_count": null,
      "id": "e4d5d042",
      "metadata": {
        "id": "e4d5d042",
        "outputId": "b2e973cc-2e41-40b3-941e-abbeea1a7ccb"
      },
      "outputs": [
        {
          "data": {
            "text/plain": [
              "('hello ', 'world', ', how are you')"
            ]
          },
          "execution_count": 31,
          "metadata": {},
          "output_type": "execute_result"
        }
      ],
      "source": [
        "'''The partition and rpartition methods split the string at only the first or last\n",
        "occurrence of the substring, and return a tuple of three values: characters before\n",
        "the substring, the substring itself, and the characters after the substring.'''\n",
        "\n",
        "s.partition(' ')"
      ]
    },
    {
      "cell_type": "markdown",
      "id": "745fd04e",
      "metadata": {
        "id": "745fd04e"
      },
      "source": [
        "### String formatting"
      ]
    },
    {
      "cell_type": "code",
      "execution_count": null,
      "id": "95c1c0c6",
      "metadata": {
        "id": "95c1c0c6",
        "outputId": "3d6ff704-2919-4b9b-a104-d675ba27fa9d"
      },
      "outputs": [
        {
          "name": "stdout",
          "output_type": "stream",
          "text": [
            "Hello Dusty, you are currently writing.\n"
          ]
        }
      ],
      "source": [
        "template = \"Hello {}, you are currently {}.\"\n",
        "print(template.format('Dusty', 'writing'))"
      ]
    },
    {
      "cell_type": "code",
      "execution_count": null,
      "id": "d0e75590",
      "metadata": {
        "id": "d0e75590",
        "outputId": "1e98d888-294c-429d-9685-b44e85b9703d"
      },
      "outputs": [
        {
          "name": "stdout",
          "output_type": "stream",
          "text": [
            "Hello Dusty, you are writing. Your name is Dusty.\n"
          ]
        }
      ],
      "source": [
        "template = \"Hello {0}, you are {1}. Your name is {0}.\"\n",
        "print(template.format('Dusty', 'writing'))"
      ]
    },
    {
      "cell_type": "code",
      "execution_count": null,
      "id": "c0cc91d4",
      "metadata": {
        "id": "c0cc91d4",
        "outputId": "0c92877f-e10a-4a43-f0f1-4a430088a18a"
      },
      "outputs": [
        {
          "name": "stdout",
          "output_type": "stream",
          "text": [
            "x z y\n"
          ]
        }
      ],
      "source": [
        "print(\"{} {label} {}\".format(\"x\", \"y\", label=\"z\"))"
      ]
    },
    {
      "cell_type": "code",
      "execution_count": null,
      "id": "7ba4cbcf",
      "metadata": {
        "id": "7ba4cbcf",
        "outputId": "a7738244-204b-467e-9adf-09314eaec93b"
      },
      "outputs": [
        {
          "name": "stdout",
          "output_type": "stream",
          "text": [
            "\n",
            "    From: <a@example.com>\n",
            "    To: <b@example.com>\n",
            "    Subject: You Have Mail!\n",
            "    Here's some mail for you!\n"
          ]
        }
      ],
      "source": [
        "emails = (\"a@example.com\", \"b@example.com\")\n",
        "message = {\n",
        "    'subject': \"You Have Mail!\",\n",
        "    'message': \"Here's some mail for you!\"\n",
        "    }\n",
        "\n",
        "template = \"\"\"\n",
        "    From: <{0[0]}>\n",
        "    To: <{0[1]}>\n",
        "    Subject: {message[subject]}\n",
        "    {message[message]}\"\"\"\n",
        "\n",
        "print(template.format(emails, message=message))"
      ]
    },
    {
      "cell_type": "markdown",
      "id": "0ce67f51",
      "metadata": {
        "id": "0ce67f51"
      },
      "source": [
        "### Object lookups\n",
        "\n",
        "**We can also pass arbitrary objects as parameters, and use the dot notation to look up attributes on those objects.**"
      ]
    },
    {
      "cell_type": "code",
      "execution_count": null,
      "id": "745ad849",
      "metadata": {
        "id": "745ad849"
      },
      "outputs": [],
      "source": [
        "class EMail:\n",
        "    def __init__(self, from_addr, to_addr, subject, message):\n",
        "        self.from_addr = from_addr\n",
        "        self.to_addr = to_addr\n",
        "        self.subject = subject\n",
        "        self.message = message\n",
        "\n",
        "\n",
        "email = EMail(\"a@example.com\", \"b@example.com\",\n",
        "                \"You Have Mail!\",\n",
        "                \"Here's some mail for you!\")"
      ]
    },
    {
      "cell_type": "code",
      "execution_count": null,
      "id": "e34b7e5b",
      "metadata": {
        "id": "e34b7e5b",
        "outputId": "6bc07506-7c98-4d36-8c41-56e0987ab0bd"
      },
      "outputs": [
        {
          "name": "stdout",
          "output_type": "stream",
          "text": [
            "\n",
            "            From: <a@example.com>\n",
            "            To: <b@example.com>\n",
            "            Subject: You Have Mail!\n",
            "            Here's some mail for you!\n"
          ]
        }
      ],
      "source": [
        "template = \"\"\"\n",
        "            From: <{0.from_addr}>\n",
        "            To: <{0.to_addr}>\n",
        "            Subject: {0.subject}\n",
        "            {0.message}\"\"\"\n",
        "\n",
        "print(template.format(email))"
      ]
    },
    {
      "cell_type": "markdown",
      "id": "37dc5bdc",
      "metadata": {
        "id": "37dc5bdc"
      },
      "source": [
        "### Making it look right\n",
        "\n",
        "**What if the variables need a bit of coercion to make them look right in the output?**"
      ]
    },
    {
      "cell_type": "code",
      "execution_count": null,
      "id": "d5dd18b9",
      "metadata": {
        "id": "d5dd18b9",
        "outputId": "e955aceb-06e1-40ec-d759-6e566fbf909b"
      },
      "outputs": [
        {
          "name": "stdout",
          "output_type": "stream",
          "text": [
            "Sub: $12.32 Tax: $0.8624 Total: $13.182400000000001\n"
          ]
        }
      ],
      "source": [
        "subtotal = 12.32\n",
        "tax = subtotal * 0.07\n",
        "total = subtotal + tax\n",
        "\n",
        "\n",
        "print(\"Sub: ${0} Tax: ${1} Total: ${total}\".format(\n",
        "            subtotal, tax, total=total))"
      ]
    },
    {
      "cell_type": "code",
      "execution_count": null,
      "id": "7d5ed351",
      "metadata": {
        "id": "7d5ed351",
        "outputId": "38ecc856-138e-45f4-e390-64bb2653bfb1"
      },
      "outputs": [
        {
          "name": "stdout",
          "output_type": "stream",
          "text": [
            "Sub: $12.32 Tax: $0.86 Total: $13.18\n"
          ]
        }
      ],
      "source": [
        "print(\"Sub: ${0:0.2f} Tax: ${1:0.2f} \"\n",
        "    \"Total: ${total:0.2f}\".format(\n",
        "    subtotal, tax, total=total))"
      ]
    },
    {
      "cell_type": "markdown",
      "id": "a6b11a9d",
      "metadata": {
        "id": "a6b11a9d"
      },
      "source": [
        "**We can also specify that each number should take up a particular number of characters on the screen by placing a value before the period in the precision.**"
      ]
    },
    {
      "cell_type": "code",
      "execution_count": null,
      "id": "d901b226",
      "metadata": {
        "id": "d901b226",
        "outputId": "10104889-ad79-49a9-8f49-a0d917653efb"
      },
      "outputs": [
        {
          "name": "stdout",
          "output_type": "stream",
          "text": [
            "PRODUCT QUANTITY PRICE SUBTOTAL\n",
            "burger        5     $2.00    $  10.00\n",
            "fries         1     $3.50    $   3.50\n",
            "cola          3     $1.75    $   5.25\n"
          ]
        }
      ],
      "source": [
        "orders = [('burger', 2, 5),\n",
        "        ('fries', 3.5, 1),\n",
        "        ('cola', 1.75, 3)]\n",
        "\n",
        "\n",
        "print(\"PRODUCT QUANTITY PRICE SUBTOTAL\")\n",
        "\n",
        "for product, price, quantity in orders:\n",
        "    subtotal = price * quantity\n",
        "    print(\"{0:10s}{1: ^9d} ${2: <8.2f}${3: >7.2f}\".format(\n",
        "        product, quantity, price, subtotal))"
      ]
    },
    {
      "cell_type": "markdown",
      "id": "ea41777a",
      "metadata": {
        "id": "ea41777a"
      },
      "source": [
        "* **{0:10s}: The s means it is a string variable, and the 10 means it should take up ten characters.**\n",
        "* **{1: ^9d}: The d represents an integer value. The 9 tells us the value should take up nine characters. The caret character ^ tells us that the number should be aligned in the center of this available paddin**\n",
        "* **{2: <8.2f} and {3: >7.2f}: we use the < and > symbols, respectively, to represent that the numbers should be aligned to the left or right within the minimum space of eight or seven characters.**\n"
      ]
    },
    {
      "cell_type": "code",
      "execution_count": null,
      "id": "243627b4",
      "metadata": {
        "id": "243627b4",
        "outputId": "045d3e33-a536-4905-ab86-2fec6624f619"
      },
      "outputs": [
        {
          "name": "stdout",
          "output_type": "stream",
          "text": [
            "2021-12-11 01:31PM \n"
          ]
        }
      ],
      "source": [
        "import datetime\n",
        "print(\"{0:%Y-%m-%d %I:%M%p }\".format(\n",
        "    datetime.datetime.now()))"
      ]
    },
    {
      "cell_type": "markdown",
      "id": "3e748784",
      "metadata": {
        "id": "3e748784"
      },
      "source": [
        "## Strings are Unicode\n",
        "\n",
        "* strings as collections of immutable Unicode characters. But Unicode isn't really a storage format.\n",
        "\n",
        "* In contrast bytes, which are the lowest-level storage format in computing represent 8 bits, described as an integer between 0 and 255, or a hexadecimal equivalent between 0 and FF.\n",
        "\n",
        "* Bytes don't represent anything specific; a sequence of bytes may store characters of an encoded string, or pixels in an image.\n",
        "\n",
        "* If we print a byte object, any bytes that map to ASCII representations will be printed as their original character.\n",
        "\n",
        "* The character \"a\" is represented by the same byte as the integer 97, which is the hexadecimal number 0x61. Specifically, all of these are an interpretation of the binary pattern 01100001.\n",
        "\n",
        "* Many I/O operations only know how to deal with bytes, even if the bytes object refers to textual data. It is therefore vital to know how to convert between bytes and Unicode."
      ]
    },
    {
      "cell_type": "markdown",
      "id": "27318088",
      "metadata": {
        "id": "27318088"
      },
      "source": [
        "### Converting bytes to text\n",
        "\n",
        "* **we can convert array of bytes to Unicode using the .decode method on the bytes class.**\n",
        "* **This method accepts a string for the name of the character encoding.**\n",
        "* **There are many such names; common ones for Western languages include ASCII, UTF-8, and latin-1.**\n"
      ]
    },
    {
      "cell_type": "code",
      "execution_count": null,
      "id": "dca57eeb",
      "metadata": {
        "id": "dca57eeb",
        "outputId": "62d16914-be5b-4bcb-9627-96b8e559370c"
      },
      "outputs": [
        {
          "name": "stdout",
          "output_type": "stream",
          "text": [
            "b'clich\\xe9'\n",
            "cliché\n"
          ]
        }
      ],
      "source": [
        "characters = b'\\x63\\x6c\\x69\\x63\\x68\\xe9'   # b means we represent bytes\n",
        "print(characters)\n",
        "print(characters.decode(\"latin-1\"))"
      ]
    },
    {
      "cell_type": "markdown",
      "id": "12e44aa3",
      "metadata": {
        "id": "12e44aa3"
      },
      "source": [
        "### Converting text to bytes"
      ]
    },
    {
      "cell_type": "code",
      "execution_count": null,
      "id": "01f87be0",
      "metadata": {
        "id": "01f87be0",
        "outputId": "c7f2006e-1427-4026-9050-35ab4b16ff4f"
      },
      "outputs": [
        {
          "name": "stdout",
          "output_type": "stream",
          "text": [
            "b'clich\\xc3\\xa9'\n",
            "b'clich\\xe9'\n",
            "b'clich\\x82'\n"
          ]
        }
      ],
      "source": [
        "characters = \"cliché\"\n",
        "print(characters.encode(\"UTF-8\"))\n",
        "print(characters.encode(\"latin-1\"))\n",
        "print(characters.encode(\"CP437\"))\n"
      ]
    },
    {
      "cell_type": "markdown",
      "id": "d78e0278",
      "metadata": {
        "id": "d78e0278"
      },
      "source": [
        "**The accented character is represented as a different byte for each encoding; if we use the wrong one when we are decoding bytes to text, we get the wrong character.**"
      ]
    },
    {
      "cell_type": "markdown",
      "id": "fd379889",
      "metadata": {
        "id": "fd379889"
      },
      "source": [
        "## Regular expressions\n",
        "\n",
        "**Regular expressions are used to solve a common problem: Given a string, determine whether that string matches a given pattern and, optionally, collect substrings that contain relevant information. They can be used to answer questions like:**\n",
        "\n",
        "* **Is this string a valid URL?**\n",
        "* **What is the date and time of all warning messages in a log file?**\n",
        "* **Which users in /etc/passwd are in a given group?**\n",
        "* **What username and document were requested by the URL a visitor typed?**\n"
      ]
    },
    {
      "cell_type": "markdown",
      "id": "625cdbfc",
      "metadata": {
        "id": "625cdbfc"
      },
      "source": [
        "### Matching patterns\n",
        "\n",
        "**Regular expressionsThey rely on special characters to match unknown strings**"
      ]
    },
    {
      "cell_type": "code",
      "execution_count": null,
      "id": "375fbe4c",
      "metadata": {
        "id": "375fbe4c"
      },
      "outputs": [],
      "source": [
        "import re\n",
        "\n",
        "search_string = \"hello worl\"\n",
        "pattern = \"hello world\"\n",
        "\n",
        "match = re.match(pattern, search_string)\n",
        "if match:\n",
        "    print(\"regex matches\")"
      ]
    },
    {
      "cell_type": "markdown",
      "id": "244a72ca",
      "metadata": {
        "id": "244a72ca"
      },
      "source": [
        "**Given That: the match function matches the pattern to the beginning of the string:**\n",
        "\n",
        "* **if the pattern were \"ello world\", no match would be found.**\n",
        "* **if the pattern \"hello wo\" matches successfully.**"
      ]
    },
    {
      "cell_type": "code",
      "execution_count": null,
      "id": "cda91704",
      "metadata": {
        "id": "cda91704",
        "outputId": "f593466e-a4a4-40a8-884f-835fe8cab405"
      },
      "outputs": [
        {
          "name": "stdout",
          "output_type": "stream",
          "text": [
            "'C:\\Users\\aghon\\AppData\\Roaming\\jupyter\\runtime\\kernel-b5a423e9-530b-4dcb-9f3a-bee12e50115e.json' does not match pattern '-f'\n"
          ]
        }
      ],
      "source": [
        "# THis codes uses argv, it's for using it through command line\n",
        "\n",
        "import sys\n",
        "import re\n",
        "\n",
        "pattern = sys.argv[1]\n",
        "search_string = sys.argv[2]\n",
        "match = re.match(pattern, search_string)\n",
        "\n",
        "if match:\n",
        "    template = \"'{}' matches pattern '{}'\"\n",
        "else:\n",
        "    template = \"'{}' does not match pattern '{}'\"\n",
        "    \n",
        "print(template.format(search_string, pattern))\n",
        "\n",
        "# after writing this code inside .py file named \"regex_generic\", call this lines from the cmd \n",
        "# python regex_generic.py \"hello worl\" \"hello world\"         # This will match\n",
        "# python regex_generic.py \"ello world\" \"hello world\"         # This won't match"
      ]
    },
    {
      "cell_type": "markdown",
      "id": "9f09b84f",
      "metadata": {
        "id": "9f09b84f"
      },
      "source": [
        "### Matching a selection of characters\n",
        "\n",
        "**Using a period in the string means you don't care what the character is:**\n",
        "\n",
        "* 'hello world' matches pattern 'hel.o world'\n",
        "\n",
        "* 'helpo world' matches pattern 'hel.o world'\n",
        "\n",
        "* 'hel o world' matches pattern 'hel.o world'\n",
        "\n",
        "* 'helo world' does not match pattern 'hel.o world': this does not match because there is no character at the period's position in the pattern.\n",
        "\n",
        "---\n",
        "**We can put a set of characters inside square brackets to match any one of those\n",
        "characters.** \n",
        "\n",
        "* 'hello world' matches pattern 'hel[lp]o world'\n",
        "* 'helpo world' matches pattern 'hel[lp]o world'\n",
        "* 'helPo world' does not match pattern 'hel[lp]o world'\n",
        "\n",
        "---\n",
        "**The dash character, in a character set, will create a range. This is especially useful if you want to match \"all lower case letters\", \"all letters\", or \"all numbers\" as follows:**\n",
        "\n",
        "* 'hello world' does not match pattern 'hello [a-z] world'\n",
        "* 'hello b world' matches pattern 'hello [a-z] world'\n",
        "* 'hello B world' matches pattern 'hello [a-zA-Z] world'\n",
        "* 'hello 2 world' matches pattern 'hello [a-zA-Z0-9] world'"
      ]
    },
    {
      "cell_type": "markdown",
      "id": "ece03954",
      "metadata": {
        "id": "ece03954"
      },
      "source": [
        "### Escaping characters\n",
        "\n",
        "---\n",
        "**Here's a regular expression to match two digit decimal numbers between 0.00 and 0.99:**\n",
        "\n",
        "* '0.05' matches pattern '0\\.[0-9][0-9]'\n",
        "* '005' does not match pattern '0\\.[0-9][0-9]'\n",
        "* '0,05' does not match pattern '0\\.[0-9][0-9]'\n",
        "\n",
        "---\n",
        "\n",
        "This backslash escape sequence is used for a variety of special characters in regular expressions. You can use \\[ to insert a square bracket without starting a character class, and \\( to insert a parenthesis, which we'll later see is also a special character. Or to represent special characters such as newlines (\\n), and tabs (\\t).\n",
        "\n",
        "\n",
        "Further, some character classes can be represented more succinctly using escape strings; \\s represents whitespace characters, \\w represents letters, numbers, and underscore, and \\d represents a digit:\n",
        "\n",
        "\n",
        "* '(abc]' matches pattern '\\(abc\\]'\n",
        "* ' 1a' matches pattern '\\s\\d\\w'\n",
        "* '\\t5n' does not match pattern '\\s\\d\\w'\n",
        "* '5n' matches pattern '\\s\\d\\w'"
      ]
    },
    {
      "cell_type": "markdown",
      "id": "cf6e68d5",
      "metadata": {
        "id": "cf6e68d5"
      },
      "source": [
        "### Matching multiple characters:\n",
        "\n",
        "**The asterisk (*)  character says that the previous pattern (the l character) can be matched zero or more\n",
        "times.**\n",
        "\n",
        "* 'hello' matches pattern 'hel*o'\n",
        "* 'heo' matches pattern 'hel*o'\n",
        "* 'helllllo' matches pattern 'hel*o'\n",
        "\n",
        "---\n",
        "\n",
        "**we can combine the asterisk with patterns that match multiple characters: whereas [a-z]* matches any collection of lowercase words, including the empty string:**\n",
        "\n",
        "* 'A string.' matches pattern '[A-Z][a-z]* [a-z]*\\.'\n",
        "* 'No .' matches pattern '[A-Z][a-z]* [a-z]*\\.'\n",
        "* '' matches pattern '[a-z]*.*'"
      ]
    },
    {
      "cell_type": "markdown",
      "id": "531138dd",
      "metadata": {
        "id": "531138dd"
      },
      "source": [
        "The plus (+) sign in a pattern behaves similarly to an asterisk; it states that the previous pattern can be repeated one or more times, but, unlike the asterisk is not optional.\n",
        "\n",
        "The question mark (?) ensures a pattern shows up exactly zero or one times, but not more. \n",
        "\n",
        "* '0.4' matches pattern '\\d+\\.\\d+'\n",
        "* '1.002' matches pattern '\\d+\\.\\d+'\n",
        "* '1.' does not match pattern '\\d+\\.\\d+'\n",
        "* '1%' matches pattern '\\d?\\d%'\n",
        "* '99%' matches pattern '\\d?\\d%'\n",
        "* '999%' does not match pattern '\\d?\\d%'"
      ]
    },
    {
      "cell_type": "markdown",
      "id": "15d91d91",
      "metadata": {
        "id": "15d91d91"
      },
      "source": [
        "### Grouping patterns together\n",
        "\n",
        "**what if we want a repeating sequence of characters?**\n",
        "Enclosing any set of patterns in parenthesis allows them to be treated as a single pattern when applying repetition operations. Compare these patterns:\n",
        "\n",
        "* 'abccc' matches pattern 'abc{3}'\n",
        "* 'abccc' does not match pattern '(abc){3}'\n",
        "* 'abcabcabc' matches pattern '(abc){3}'\n",
        "\n",
        "---\n",
        "1. 'Eat.' matches pattern '[A-Z][a-z]*( [a-z]+)*\\.$'\n",
        "\n",
        "The first word starts with a capital, followed by zero or more lowercase letters.\n",
        "Then, we enter a parenthetical that matches a single space followed by a word of\n",
        "one or more lowercase letters. This entire parenthetical is repeated zero or more\n",
        "times, and the pattern is terminated with a period. There cannot be any other\n",
        "characters after the period, as indicated by the $ matching the end of string.\n",
        "\n",
        "2. 'Eat more good food.' matches pattern '[A-Z][a-z]*( [a-z]+)*\\.$'\n",
        "\n",
        "3. 'A good meal.' matches pattern '[A-Z][a-z]*( [a-z]+)*\\.$'"
      ]
    },
    {
      "cell_type": "markdown",
      "id": "2067a137",
      "metadata": {
        "id": "2067a137"
      },
      "source": [
        "## Getting information from regular expressions"
      ]
    },
    {
      "cell_type": "code",
      "execution_count": null,
      "id": "ffb2a625",
      "metadata": {
        "id": "ffb2a625",
        "outputId": "f718638a-d98d-471c-fecc-d97467509338"
      },
      "outputs": [
        {
          "name": "stdout",
          "output_type": "stream",
          "text": [
            "example.com\n"
          ]
        }
      ],
      "source": [
        "pattern = \"^[a-zA-Z.]+@([a-z.]*\\.[a-z]+)$\"\n",
        "search_string = \"some.user@example.com\"\n",
        "\n",
        "match = re.match(pattern, search_string)\n",
        "if match:\n",
        "    domain = match.groups()[0]\n",
        "    print(domain)"
      ]
    },
    {
      "cell_type": "code",
      "execution_count": null,
      "id": "10d38b1f",
      "metadata": {
        "id": "10d38b1f",
        "outputId": "9f45d445-223e-4436-86cc-8861ef1c5ff8"
      },
      "outputs": [
        {
          "data": {
            "text/plain": [
              "('example.com',)"
            ]
          },
          "execution_count": 62,
          "metadata": {},
          "output_type": "execute_result"
        }
      ],
      "source": [
        "match.groups()"
      ]
    },
    {
      "cell_type": "markdown",
      "id": "53d3bdc6",
      "metadata": {
        "id": "53d3bdc6"
      },
      "source": [
        "The groups method returns a tuple of all the groups matched inside the pattern,\n",
        "which you can index to access a specific value. The groups are ordered from left to\n",
        "right."
      ]
    },
    {
      "cell_type": "markdown",
      "id": "239d8f9e",
      "metadata": {
        "id": "239d8f9e"
      },
      "source": [
        "* The search function finds the first instance of a matching pattern\n",
        "\n",
        "* The findall function behaves similarly to search, except that it finds all non-overlapping instances of the matching pattern, not just the first one\n"
      ]
    },
    {
      "cell_type": "markdown",
      "id": "bb5452e0",
      "metadata": {
        "id": "bb5452e0"
      },
      "source": [
        "* If there are no groups in the pattern, re.findall will return a list of strings, where each value is a complete substring from the source string that matches the pattern\n",
        "\n",
        "* If there is exactly one group in the pattern, re.findall will return a list of strings where each value is the contents of that group\n",
        "*  If there are multiple groups in the pattern, then re.findall will return a list of tuples where each tuple contains a value from a matching group, in order"
      ]
    },
    {
      "cell_type": "code",
      "execution_count": null,
      "id": "a30d1461",
      "metadata": {
        "id": "a30d1461",
        "outputId": "a655f567-e918-4a57-cf56-a5b70d97e809"
      },
      "outputs": [
        {
          "data": {
            "text/plain": [
              "['ab', 'ac', 'ad', 'ag', 'ah']"
            ]
          },
          "execution_count": 64,
          "metadata": {},
          "output_type": "execute_result"
        }
      ],
      "source": [
        "import re\n",
        "re.findall('a.', 'abacadefagah')"
      ]
    },
    {
      "cell_type": "code",
      "execution_count": null,
      "id": "770761ac",
      "metadata": {
        "id": "770761ac",
        "outputId": "bb9083fd-feb2-40f6-ff77-0b2739162936"
      },
      "outputs": [
        {
          "data": {
            "text/plain": [
              "['b', 'c', 'd', 'g', 'h']"
            ]
          },
          "execution_count": 65,
          "metadata": {},
          "output_type": "execute_result"
        }
      ],
      "source": [
        "re.findall('a(.)', 'abacadefagah')"
      ]
    },
    {
      "cell_type": "code",
      "execution_count": null,
      "id": "86f690fd",
      "metadata": {
        "id": "86f690fd",
        "outputId": "a19f3faf-1e92-4c22-9842-e3a4fa3e51ae"
      },
      "outputs": [
        {
          "data": {
            "text/plain": [
              "[('a', 'b'), ('a', 'c'), ('a', 'd'), ('a', 'g'), ('a', 'h')]"
            ]
          },
          "execution_count": 66,
          "metadata": {},
          "output_type": "execute_result"
        }
      ],
      "source": [
        "re.findall('(a)(.)', 'abacadefagah')"
      ]
    },
    {
      "cell_type": "code",
      "execution_count": null,
      "id": "c7b320bb",
      "metadata": {
        "id": "c7b320bb",
        "outputId": "c25672bd-b512-4567-c09a-eb0656219400"
      },
      "outputs": [
        {
          "data": {
            "text/plain": [
              "[('ab', 'a', 'b'),\n",
              " ('ac', 'a', 'c'),\n",
              " ('ad', 'a', 'd'),\n",
              " ('ag', 'a', 'g'),\n",
              " ('ah', 'a', 'h')]"
            ]
          },
          "execution_count": 67,
          "metadata": {},
          "output_type": "execute_result"
        }
      ],
      "source": [
        "re.findall('((a)(.))', 'abacadefagah')"
      ]
    },
    {
      "cell_type": "markdown",
      "id": "07673e6c",
      "metadata": {
        "id": "07673e6c"
      },
      "source": [
        "## Serializing objects\n",
        "\n",
        "In the context of data storage, serialization is the process of translating data structures or object state into a format that can be stored (for example, in a file or memory buffer) or transmitted and reconstructed later.\n",
        "\n",
        "In serialization, an object is transformed into a format that can be stored, so as to be able to deserialize it later and recreate the original object from the serialized format.\n",
        "\n",
        "---\n",
        "**Pickle:**\n",
        "\n",
        "Pickling is the process whereby a Python object hierarchy is converted into a byte stream (usually not human readable) to be written to a file, this is also known as Serialization. Unpickling is the reverse operation, whereby a byte stream is converted back into a working Python object hierarchy.\n",
        "\n",
        "Pickle is operationally simplest way to store the object. The Python Pickle module is an object-oriented way to store objects directly in a special storage format.\n",
        "\n",
        "---\n",
        "**What can it do?**\n",
        "* Pickle can store and reproduce dictionaries and lists very easily.\n",
        "* Stores object attributes and restores them back to the same State.\n",
        "\n",
        "---\n",
        "**What pickle can’t do?**\n",
        "* It does not save an objects code. Only it’s attributes values.\n",
        "* It cannot store file handles or connection sockets.\n",
        "* In short we can say, pickling is a way to store and retrieve data variables into and out from files where variables can be lists, classes, etc.\n",
        "\n",
        "---\n",
        "\n",
        "* The dump method accepts an object to be written and a file-like object to write the serialized bytes to. This object must have a write method (or it wouldn't be file-like), and that method must know how to handle a bytes argument\n",
        "\n",
        "* The load method does exactly the opposite; it reads a serialized object from a file-like object. This object must have the proper file-like read and readline arguments, each of which must, of course, return bytes. The pickle module will load the object from these bytes and the load method will return the fully reconstructed object.\n"
      ]
    },
    {
      "cell_type": "code",
      "execution_count": null,
      "id": "b681505a",
      "metadata": {
        "id": "b681505a",
        "outputId": "61865a97-5ce9-4246-8640-9df8856d1c06"
      },
      "outputs": [
        {
          "name": "stdout",
          "output_type": "stream",
          "text": [
            "C:\\Users\\aghon\\Desktop\n"
          ]
        }
      ],
      "source": [
        "cd Desktop/"
      ]
    },
    {
      "cell_type": "code",
      "execution_count": null,
      "id": "71ddd83f",
      "metadata": {
        "id": "71ddd83f",
        "outputId": "a12d66ac-fdc0-46bb-b0f5-6eae84499a16"
      },
      "outputs": [
        {
          "name": "stdout",
          "output_type": "stream",
          "text": [
            "['a list', 'containing', 5, 'values including another list', ['inner', 'list']]\n"
          ]
        }
      ],
      "source": [
        "import pickle\n",
        "some_data = [\"a list\", \"containing\", 5,\n",
        "            \"values including another list\",\n",
        "            [\"inner\", \"list\"]]\n",
        "\n",
        "with open(\"pickled_list\", 'wb') as file:\n",
        "    pickle.dump(some_data, file)\n",
        "    \n",
        "with open(\"pickled_list\", 'rb') as file:\n",
        "    loaded_data = pickle.load(file)\n",
        "    \n",
        "print(loaded_data)\n",
        "assert loaded_data == some_data"
      ]
    },
    {
      "cell_type": "code",
      "execution_count": null,
      "id": "ad499924",
      "metadata": {
        "id": "ad499924"
      },
      "outputs": [],
      "source": [
        ""
      ]
    }
  ],
  "metadata": {
    "kernelspec": {
      "display_name": "Python 3 (ipykernel)",
      "language": "python",
      "name": "python3"
    },
    "language_info": {
      "codemirror_mode": {
        "name": "ipython",
        "version": 3
      },
      "file_extension": ".py",
      "mimetype": "text/x-python",
      "name": "python",
      "nbconvert_exporter": "python",
      "pygments_lexer": "ipython3",
      "version": "3.8.12"
    },
    "colab": {
      "name": "CH8, Strings and Serialization.ipynb",
      "provenance": [],
      "include_colab_link": true
    }
  },
  "nbformat": 4,
  "nbformat_minor": 5
}